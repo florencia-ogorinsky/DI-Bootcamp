{
  "nbformat": 4,
  "nbformat_minor": 0,
  "metadata": {
    "colab": {
      "provenance": []
    },
    "kernelspec": {
      "name": "python3",
      "display_name": "Python 3"
    },
    "language_info": {
      "name": "python"
    }
  },
  "cells": [
    {
      "cell_type": "markdown",
      "source": [
        "# **Daily Challenge**"
      ],
      "metadata": {
        "id": "E2wEkNSbRuWN"
      }
    },
    {
      "cell_type": "code",
      "source": [
        "import pandas as pd\n",
        "df=pd.read_csv('datascience_salaries.csv')\n",
        "print(df.head())\n"
      ],
      "metadata": {
        "colab": {
          "base_uri": "https://localhost:8080/"
        },
        "id": "InBubNN-Rxti",
        "outputId": "82f9ef48-1260-40d0-83b5-9abbd69f92bf"
      },
      "execution_count": 1,
      "outputs": [
        {
          "output_type": "stream",
          "name": "stdout",
          "text": [
            "   Unnamed: 0       job_title   job_type experience_level       location  \\\n",
            "0           0  Data scientist  Full Time           Senior  New York City   \n",
            "1           2  Data scientist  Full Time           Senior         Boston   \n",
            "2           3  Data scientist  Full Time           Senior         London   \n",
            "3           4  Data scientist  Full Time           Senior         Boston   \n",
            "4           5  Data scientist  Full Time           Senior  New York City   \n",
            "\n",
            "  salary_currency  salary  \n",
            "0             USD  149000  \n",
            "1             USD  120000  \n",
            "2             USD   68000  \n",
            "3             USD  120000  \n",
            "4             USD  149000  \n"
          ]
        }
      ]
    },
    {
      "cell_type": "code",
      "source": [
        "from sklearn.preprocessing import MinMaxScaler\n",
        "from sklearn.decomposition import PCA\n",
        "numeric_features = df.select_dtypes(include=['float64', 'int64'])\n",
        "scaler=MinMaxScaler()\n",
        "scaled_features=scaler.fit_transform(numeric_features)\n",
        "df_scaled=pd.DataFrame(scaled_features, columns=numeric_features.columns)\n",
        "print(df_scaled.head())\n",
        "\n",
        "df['normalized_salary']=scaler.fit_transform(df[['salary']])\n",
        "print(df[['salary', 'normalized_salary']].head())"
      ],
      "metadata": {
        "colab": {
          "base_uri": "https://localhost:8080/"
        },
        "id": "pXo7VOKsSTDC",
        "outputId": "e9249279-d53c-4488-bc4f-bbc6181a7a25"
      },
      "execution_count": 5,
      "outputs": [
        {
          "output_type": "stream",
          "name": "stdout",
          "text": [
            "   Unnamed: 0    salary  normalized_salary\n",
            "0    0.000000  0.601010           0.601010\n",
            "1    0.000885  0.454545           0.454545\n",
            "2    0.001328  0.191919           0.191919\n",
            "3    0.001771  0.454545           0.454545\n",
            "4    0.002213  0.601010           0.601010\n",
            "   salary  normalized_salary\n",
            "0  149000           0.601010\n",
            "1  120000           0.454545\n",
            "2   68000           0.191919\n",
            "3  120000           0.454545\n",
            "4  149000           0.601010\n"
          ]
        }
      ]
    },
    {
      "cell_type": "code",
      "source": [
        "features=df.drop(columns=['salary', 'experience_level'])\n",
        "pca=PCA(n_components=2)\n",
        "principal_components=pca.fit_transform(scaled_features)\n",
        "df_pca=pd.DataFrame(data=principal_components, columns=['PC1', 'PC2'])\n",
        "print(df_pca.head())\n"
      ],
      "metadata": {
        "colab": {
          "base_uri": "https://localhost:8080/"
        },
        "id": "G_4ghs0HSwiD",
        "outputId": "b0cd1495-3ea9-4a69-c86b-c6ddb993ad46"
      },
      "execution_count": 6,
      "outputs": [
        {
          "output_type": "stream",
          "name": "stdout",
          "text": [
            "        PC1       PC2\n",
            "0 -0.397325  0.611212\n",
            "1 -0.401592  0.404122\n",
            "2 -0.410387  0.032816\n",
            "3 -0.400707  0.404099\n",
            "4 -0.395112  0.611157\n"
          ]
        }
      ]
    },
    {
      "cell_type": "code",
      "source": [
        "salary_stats = df.groupby('experience_level')['salary'].agg(['mean', 'median']).reset_index()\n",
        "\n",
        "print(df_pca.head())\n",
        "\n",
        "\n",
        "print(salary_stats)"
      ],
      "metadata": {
        "colab": {
          "base_uri": "https://localhost:8080/"
        },
        "id": "0-uvWQ-CUs-U",
        "outputId": "993f710e-cc33-43f2-a9ee-e7f2099a56c7"
      },
      "execution_count": 7,
      "outputs": [
        {
          "output_type": "stream",
          "name": "stdout",
          "text": [
            "        PC1       PC2\n",
            "0 -0.397325  0.611212\n",
            "1 -0.401592  0.404122\n",
            "2 -0.410387  0.032816\n",
            "3 -0.400707  0.404099\n",
            "4 -0.395112  0.611157\n",
            "  experience_level          mean   median\n",
            "0            Entry  36111.111111  30000.0\n",
            "1        Executive  76076.923077  46000.0\n",
            "2              Mid  51786.885246  51000.0\n",
            "3           Senior  75088.033012  68000.0\n"
          ]
        }
      ]
    }
  ]
}