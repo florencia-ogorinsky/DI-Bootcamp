{
  "nbformat": 4,
  "nbformat_minor": 0,
  "metadata": {
    "colab": {
      "provenance": []
    },
    "kernelspec": {
      "name": "python3",
      "display_name": "Python 3"
    },
    "language_info": {
      "name": "python"
    }
  },
  "cells": [
    {
      "cell_type": "markdown",
      "source": [
        "# **Exercises XP**"
      ],
      "metadata": {
        "id": "SBIBiw_6Y3Yk"
      }
    },
    {
      "cell_type": "markdown",
      "source": [
        "# **Create a 1D NumPy array containing numbers from 0 to 9.**"
      ],
      "metadata": {
        "id": "NFtCJD1aY9fW"
      }
    },
    {
      "cell_type": "code",
      "execution_count": null,
      "metadata": {
        "colab": {
          "base_uri": "https://localhost:8080/"
        },
        "id": "4tDVtHETYXpS",
        "outputId": "5e1ccdcd-491f-4507-d6a4-d174f74dcc7e"
      },
      "outputs": [
        {
          "output_type": "stream",
          "name": "stdout",
          "text": [
            "Requirement already satisfied: numpy in /usr/local/lib/python3.11/dist-packages (1.26.4)\n"
          ]
        }
      ],
      "source": [
        "!pip install numpy"
      ]
    },
    {
      "cell_type": "code",
      "source": [
        "import numpy as np"
      ],
      "metadata": {
        "id": "qdWTZ1xwZWPZ"
      },
      "execution_count": null,
      "outputs": []
    },
    {
      "cell_type": "code",
      "source": [
        "array1=np.array([0,1,2,3,4,5,6,7,8,9])\n",
        "array1"
      ],
      "metadata": {
        "colab": {
          "base_uri": "https://localhost:8080/"
        },
        "id": "sCaSlhGuZalc",
        "outputId": "b066dc62-23e5-4e85-ea2f-b62fab99d051"
      },
      "execution_count": null,
      "outputs": [
        {
          "output_type": "execute_result",
          "data": {
            "text/plain": [
              "array([0, 1, 2, 3, 4, 5, 6, 7, 8, 9])"
            ]
          },
          "metadata": {},
          "execution_count": 40
        }
      ]
    },
    {
      "cell_type": "markdown",
      "source": [
        "# **Convert a list [3.14, 2.17, 0, 1, 2] into a NumPy array and convert its data type to integer.**"
      ],
      "metadata": {
        "id": "jlHRfw_vaZ9C"
      }
    },
    {
      "cell_type": "code",
      "source": [
        "array2=np.array([3.14, 2.17, 0, 1, 2])\n",
        "array2=array2.astype(int)\n",
        "array2\n"
      ],
      "metadata": {
        "colab": {
          "base_uri": "https://localhost:8080/"
        },
        "id": "pRUhtlbGZkb5",
        "outputId": "c5df61e1-6935-4668-df97-3908d7f8fd81"
      },
      "execution_count": null,
      "outputs": [
        {
          "output_type": "execute_result",
          "data": {
            "text/plain": [
              "array([3, 2, 0, 1, 2])"
            ]
          },
          "metadata": {},
          "execution_count": 41
        }
      ]
    },
    {
      "cell_type": "markdown",
      "source": [
        "# **Create a 3x3 NumPy array with values ranging from 1 to 9.**"
      ],
      "metadata": {
        "id": "VXpbESvUbjtP"
      }
    },
    {
      "cell_type": "code",
      "source": [
        "array=np.array([[1,2,3],[4,5,6],[7,8,9]])\n",
        "array"
      ],
      "metadata": {
        "colab": {
          "base_uri": "https://localhost:8080/"
        },
        "id": "j2o0rdXBaj7I",
        "outputId": "d7fce6a5-a2df-4a53-dfaa-b896773d032b"
      },
      "execution_count": null,
      "outputs": [
        {
          "output_type": "execute_result",
          "data": {
            "text/plain": [
              "array([[1, 2, 3],\n",
              "       [4, 5, 6],\n",
              "       [7, 8, 9]])"
            ]
          },
          "metadata": {},
          "execution_count": 42
        }
      ]
    },
    {
      "cell_type": "markdown",
      "source": [
        "# **Create a 2D NumPy array of shape (4, 5) filled with random numbers.**"
      ],
      "metadata": {
        "id": "cf-w8PEZcq_3"
      }
    },
    {
      "cell_type": "code",
      "source": [
        "array=np.random.rand(4,5)\n",
        "array"
      ],
      "metadata": {
        "colab": {
          "base_uri": "https://localhost:8080/"
        },
        "id": "__rw_P8Kbye1",
        "outputId": "acb0cc02-b85d-4424-81f8-566e19c4a755"
      },
      "execution_count": null,
      "outputs": [
        {
          "output_type": "execute_result",
          "data": {
            "text/plain": [
              "array([[0.95467074, 0.49384158, 0.82513817, 0.6588225 , 0.12812811],\n",
              "       [0.73455304, 0.97169846, 0.50778494, 0.92831482, 0.42756241],\n",
              "       [0.68286057, 0.61251201, 0.79547815, 0.1416146 , 0.10674726],\n",
              "       [0.36349802, 0.27195971, 0.79936358, 0.11464562, 0.93317079]])"
            ]
          },
          "metadata": {},
          "execution_count": 43
        }
      ]
    },
    {
      "cell_type": "markdown",
      "source": [
        "# **Select the second row from a given 2D NumPy array.**\n",
        "\n"
      ],
      "metadata": {
        "id": "wjEAVv6idClF"
      }
    },
    {
      "cell_type": "code",
      "source": [
        "array = np.array([[21,22,23,22,22],[20, 21, 22, 23, 24],[21,22,23,22,22]])\n",
        "array[1]"
      ],
      "metadata": {
        "colab": {
          "base_uri": "https://localhost:8080/"
        },
        "id": "grrv3pGncWyl",
        "outputId": "63644afa-fb26-4988-f805-cba22c27b77a"
      },
      "execution_count": null,
      "outputs": [
        {
          "output_type": "execute_result",
          "data": {
            "text/plain": [
              "array([20, 21, 22, 23, 24])"
            ]
          },
          "metadata": {},
          "execution_count": 44
        }
      ]
    },
    {
      "cell_type": "markdown",
      "source": [
        "# **Reverse the order of elements in a given 1D NumPy array (first element becomes last).**"
      ],
      "metadata": {
        "id": "rJbkq2yreo0L"
      }
    },
    {
      "cell_type": "code",
      "source": [
        "array1=np.array([0,1,2,3,4,5,6,7,8,9])\n",
        "array1=array1[::-1]\n",
        "array1\n"
      ],
      "metadata": {
        "colab": {
          "base_uri": "https://localhost:8080/"
        },
        "id": "0LLr_quTdNJ0",
        "outputId": "75070505-fd76-494e-9545-47a1e32ebd4a"
      },
      "execution_count": null,
      "outputs": [
        {
          "output_type": "execute_result",
          "data": {
            "text/plain": [
              "array([9, 8, 7, 6, 5, 4, 3, 2, 1, 0])"
            ]
          },
          "metadata": {},
          "execution_count": 45
        }
      ]
    },
    {
      "cell_type": "markdown",
      "source": [
        "# **Create a 4x4 identity matrix using NumPy.**"
      ],
      "metadata": {
        "id": "DVOkPm3SfAFh"
      }
    },
    {
      "cell_type": "code",
      "source": [
        "#array of ceros\n",
        "array2=np.zeros((4,4))\n",
        "array2\n",
        "\n",
        "for i in range(4):\n",
        "  for j in range(4):\n",
        "    if i==j:\n",
        "      array2[i][j]=1\n",
        "\n",
        "array2\n"
      ],
      "metadata": {
        "colab": {
          "base_uri": "https://localhost:8080/"
        },
        "id": "zh-1yITFe8ID",
        "outputId": "c10e4408-3942-4973-d76f-0600a3f9555f"
      },
      "execution_count": null,
      "outputs": [
        {
          "output_type": "execute_result",
          "data": {
            "text/plain": [
              "array([[1., 0., 0., 0.],\n",
              "       [0., 1., 0., 0.],\n",
              "       [0., 0., 1., 0.],\n",
              "       [0., 0., 0., 1.]])"
            ]
          },
          "metadata": {},
          "execution_count": 46
        }
      ]
    },
    {
      "cell_type": "markdown",
      "source": [
        "# **Find the sum and average of a given 1D array.**"
      ],
      "metadata": {
        "id": "-mr9fOWFhMA3"
      }
    },
    {
      "cell_type": "code",
      "source": [
        "array=np.array([9, 8, 7, 6, 5, 4, 3, 2, 1, 0])\n",
        "print(array.sum())\n",
        "print(array.mean())"
      ],
      "metadata": {
        "colab": {
          "base_uri": "https://localhost:8080/"
        },
        "id": "V87rw-lLgAKG",
        "outputId": "bd0ddb6b-4346-42bf-b08b-86b3939f0cae"
      },
      "execution_count": null,
      "outputs": [
        {
          "output_type": "stream",
          "name": "stdout",
          "text": [
            "45\n",
            "4.5\n"
          ]
        }
      ]
    },
    {
      "cell_type": "markdown",
      "source": [
        "# **Create a NumPy array with elements from 1 to 20; then reshape it into a 4x5 matrix.**"
      ],
      "metadata": {
        "id": "CBntQrt8iQXj"
      }
    },
    {
      "cell_type": "code",
      "source": [
        "array=np.array([])\n",
        "for i in range(1,21):\n",
        "  array=np.append(array,i)\n",
        "\n",
        "array=array.astype(int)\n",
        "\n",
        "array=array.reshape(4,5)\n",
        "array\n"
      ],
      "metadata": {
        "colab": {
          "base_uri": "https://localhost:8080/"
        },
        "id": "944Yjzoahy3J",
        "outputId": "ab402895-67ff-4707-b56b-43ae1ad2d98c"
      },
      "execution_count": null,
      "outputs": [
        {
          "output_type": "execute_result",
          "data": {
            "text/plain": [
              "array([[ 1,  2,  3,  4,  5],\n",
              "       [ 6,  7,  8,  9, 10],\n",
              "       [11, 12, 13, 14, 15],\n",
              "       [16, 17, 18, 19, 20]])"
            ]
          },
          "metadata": {},
          "execution_count": 61
        }
      ]
    },
    {
      "cell_type": "markdown",
      "source": [
        "# **Extract all odd numbers from a given NumPy array.**"
      ],
      "metadata": {
        "id": "fPHZ5p8zk7Ub"
      }
    },
    {
      "cell_type": "code",
      "source": [
        "array=np.array([ 1,  2,  3,  4,  5])\n",
        "\n",
        "array2=np.array([])\n",
        "for x in range(len(array)+1):\n",
        "  if x % 2 != 0:\n",
        "    array2=np.append(array2,x)\n",
        "\n",
        "print(array2.astype(int))"
      ],
      "metadata": {
        "colab": {
          "base_uri": "https://localhost:8080/"
        },
        "id": "LtMcGDjSkAd4",
        "outputId": "5d48ec9e-21d8-40fb-cafe-231068649afc"
      },
      "execution_count": null,
      "outputs": [
        {
          "output_type": "stream",
          "name": "stdout",
          "text": [
            "[1 3 5]\n"
          ]
        }
      ]
    },
    {
      "cell_type": "code",
      "source": [],
      "metadata": {
        "id": "ntWhUbVzoDJX"
      },
      "execution_count": null,
      "outputs": []
    }
  ]
}