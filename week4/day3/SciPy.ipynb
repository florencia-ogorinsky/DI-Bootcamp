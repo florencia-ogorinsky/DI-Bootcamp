{
  "nbformat": 4,
  "nbformat_minor": 0,
  "metadata": {
    "colab": {
      "provenance": []
    },
    "kernelspec": {
      "name": "python3",
      "display_name": "Python 3"
    },
    "language_info": {
      "name": "python"
    }
  },
  "cells": [
    {
      "cell_type": "code",
      "execution_count": 2,
      "metadata": {
        "colab": {
          "base_uri": "https://localhost:8080/"
        },
        "id": "9KyWaq3nBAlp",
        "outputId": "38e919e0-6736-411e-e8b1-594faab7c8fb"
      },
      "outputs": [
        {
          "output_type": "stream",
          "name": "stdout",
          "text": [
            "[7339 3932 8192 9363 4810 4817 6732 7859 5842 9151 3503 4809 8569 7577\n",
            " 8218 6116 4615 6783 5941 8875 7196 4630 4785 7912 8433 3872 9139 3580\n",
            " 3029 3483 6756 4206 6759 8682 4998 8873 3252 8030 9587 3295 7452 4276\n",
            " 9964 8346 8127 4440 4877 8892 3717 7166]\n"
          ]
        }
      ],
      "source": [
        "import numpy as np\n",
        "\n",
        "daily_steps = np.random.randint(3000, 10000, size=50)\n",
        "print(daily_steps)\n",
        "mean_np = np.mean(daily_steps)\n",
        "median_np = np.median(daily_steps)\n",
        "variance_np = np.var(daily_steps)\n",
        "std_dev_np = np.std(daily_steps)"
      ]
    },
    {
      "cell_type": "code",
      "source": [
        "import scipy.stats as stats\n",
        "\n",
        "mean_scipy = stats.tmean(daily_steps)\n",
        "median_scipy = np.median(daily_steps)  # SciPy does not have a separate median function\n",
        "variance_scipy = stats.tvar(daily_steps)\n",
        "std_dev_scipy = stats.tstd(daily_steps)\n"
      ],
      "metadata": {
        "id": "2-TRcXrtIXP9"
      },
      "execution_count": 3,
      "outputs": []
    },
    {
      "cell_type": "code",
      "source": [
        "import pandas as pd\n",
        "import numpy as np\n",
        "\n",
        "# Simulating stock prices for a non-existent stock (DVLPRS)\n",
        "np.random.seed(0)  # For reproducibility\n",
        "\n",
        "# Generating 100 days of stock prices\n",
        "dates = pd.date_range(start='2023-01-01', periods=100)\n",
        "prices = np.random.normal(loc=100, scale=10, size=len(dates))  # Assume a mean price of 100 with a standard deviation of 10\n",
        "\n",
        "\n",
        "# Creating a DataFrame\n",
        "stock_data = pd.DataFrame({\n",
        "    'Date': dates,\n",
        "    'DVLPRS_Price': prices\n",
        "})\n",
        "\n",
        "# Displaying the first few rows of the simulated data\n",
        "print(stock_data.head())\n",
        "\n",
        "\n",
        "\n",
        "stock_data['DVLPRS_Price'].to_numpy()\n",
        "\n",
        "mean=np.mean(stock_data['DVLPRS_Price'])\n",
        "median=np.median(stock_data['DVLPRS_Price'])\n",
        "variance=np.var(stock_data['DVLPRS_Price'])\n",
        "std_dev=np.std(stock_data['DVLPRS_Price'])\n",
        "\n",
        "print(mean)\n",
        "print(median)\n",
        "print(variance)\n",
        "print(std_dev)\n",
        "\n",
        "#skeness\n",
        "print(stats.skew(stock_data['DVLPRS_Price']))\n",
        "#kurtosis\n",
        "print(stats.kurtosis(stock_data['DVLPRS_Price']))\n"
      ],
      "metadata": {
        "colab": {
          "base_uri": "https://localhost:8080/"
        },
        "id": "yP4MrGo1Iuq3",
        "outputId": "082c153b-baf7-4d62-b936-4bcd6f34f31e"
      },
      "execution_count": 10,
      "outputs": [
        {
          "output_type": "stream",
          "name": "stdout",
          "text": [
            "        Date  DVLPRS_Price\n",
            "0 2023-01-01    117.640523\n",
            "1 2023-01-02    104.001572\n",
            "2 2023-01-03    109.787380\n",
            "3 2023-01-04    122.408932\n",
            "4 2023-01-05    118.675580\n",
            "100.59808015534487\n",
            "100.94096119437998\n",
            "101.58266192149308\n",
            "10.078822447165795\n",
            "0.0051718397135427354\n",
            "-0.3783545566331332\n"
          ]
        }
      ]
    },
    {
      "cell_type": "code",
      "source": [
        "import numpy as np\n",
        "\n",
        "# Sample data\n",
        "group_a_scores = np.array([75, 88, 91, 83, 85])\n",
        "group_b_scores = np.array([79, 90, 87, 88, 90])\n",
        "\n",
        "# Calculate means\n",
        "mean_a = np.mean(group_a_scores)\n",
        "mean_b = np.mean(group_b_scores)\n",
        "\n",
        "print(\"Mean of Group A:\", mean_a)\n",
        "print(\"Mean of Group B:\", mean_b)\n",
        "\n",
        "from scipy.stats import ttest_ind\n",
        "\n",
        "# Perform T-test\n",
        "t_stat, p_val = ttest_ind(group_a_scores, group_b_scores)\n",
        "print(\"T-statistic:\", t_stat)\n",
        "print(\"P-value:\", p_val)\n",
        "\n",
        "\n",
        "#degree of freedon= n1+n2-amount of samples\n",
        "#deg freed= 5 + 5 - 2\n",
        "#i go to table to degree of freedom 8 and check how much accuracy we want"
      ],
      "metadata": {
        "colab": {
          "base_uri": "https://localhost:8080/"
        },
        "id": "mZaBxtCDLndF",
        "outputId": "6b9fc9da-f24e-4700-9226-591374cd6723"
      },
      "execution_count": 15,
      "outputs": [
        {
          "output_type": "stream",
          "name": "stdout",
          "text": [
            "Mean of Group A: 84.4\n",
            "Mean of Group B: 86.8\n",
            "T-statistic: -0.7077213895435037\n",
            "P-value: 0.4992141336832657\n"
          ]
        }
      ]
    },
    {
      "cell_type": "code",
      "source": [
        "# Example: Binomial Distribution\n",
        "n, p = 10, 0.5  # number of trials, probability of each trial\n",
        "binom_dist = stats.binom(n, p)\n",
        "print(\"PMF at 5 successes:\", binom_dist.pmf(5))"
      ],
      "metadata": {
        "colab": {
          "base_uri": "https://localhost:8080/"
        },
        "id": "OriLYoWkQsWA",
        "outputId": "9b7e80a9-bbc7-4cda-8451-aaa70096337d"
      },
      "execution_count": 16,
      "outputs": [
        {
          "output_type": "stream",
          "name": "stdout",
          "text": [
            "PMF at 5 successes: 0.24609375000000003\n"
          ]
        }
      ]
    },
    {
      "cell_type": "code",
      "source": [
        "# Example: Poisson Distribution\n",
        "lambda_ = 3  # rate\n",
        "poisson_dist = stats.poisson(lambda_)\n",
        "print(\"PMF for 3 events:\", poisson_dist.pmf(3))"
      ],
      "metadata": {
        "colab": {
          "base_uri": "https://localhost:8080/"
        },
        "id": "AV_vVW5EbPPK",
        "outputId": "339561c4-3d34-4701-f3c1-2ce4be2e8774"
      },
      "execution_count": 17,
      "outputs": [
        {
          "output_type": "stream",
          "name": "stdout",
          "text": [
            "PMF for 3 events: 0.22404180765538775\n"
          ]
        }
      ]
    },
    {
      "cell_type": "code",
      "source": [
        "from scipy import stats\n",
        "\n",
        "# Example: Gaussian Distribution\n",
        "mu, sigma = 0, 0.1  # mean and standard deviation\n",
        "gaussian_dist = stats.norm(mu, sigma)\n",
        "print(\"PDF at x=0.5:\", gaussian_dist.pdf(0.5))"
      ],
      "metadata": {
        "colab": {
          "base_uri": "https://localhost:8080/"
        },
        "id": "x3wfUwKjbW4q",
        "outputId": "6c339807-a6f8-47ae-c5f8-01bbeaba9e61"
      },
      "execution_count": 18,
      "outputs": [
        {
          "output_type": "stream",
          "name": "stdout",
          "text": [
            "PDF at x=0.5: 1.4867195147342979e-05\n"
          ]
        }
      ]
    },
    {
      "cell_type": "code",
      "source": [
        "import numpy as np\n",
        "from scipy import stats\n",
        "\n",
        "# Example data\n",
        "x = np.array([5, 10, 15, 20, 25])\n",
        "y = np.array([12, 24, 37, 43, 50])\n",
        "\n",
        "# Performing linear regression\n",
        "slope, intercept, r_value, p_value, std_err = stats.linregress(x, y)\n",
        "\n",
        "# The slope and intercept of the regression line\n",
        "print(\"Slope:\", slope)\n",
        "print(\"Intercept:\", intercept)"
      ],
      "metadata": {
        "colab": {
          "base_uri": "https://localhost:8080/"
        },
        "id": "xlDU6yZKbZHo",
        "outputId": "0cceacc5-97c4-42d4-b6b2-63d7e05f2c77"
      },
      "execution_count": 19,
      "outputs": [
        {
          "output_type": "stream",
          "name": "stdout",
          "text": [
            "Slope: 1.9\n",
            "Intercept: 4.700000000000003\n"
          ]
        }
      ]
    },
    {
      "cell_type": "code",
      "source": [
        "import matplotlib.pyplot as plt\n",
        "plt.scatter(x,y, label='Data Points')\n",
        "plt.show()"
      ],
      "metadata": {
        "colab": {
          "base_uri": "https://localhost:8080/",
          "height": 430
        },
        "id": "OJZVseNIdQ1D",
        "outputId": "ad7426ea-7394-4e62-b02c-c6923b0f5df2"
      },
      "execution_count": 20,
      "outputs": [
        {
          "output_type": "display_data",
          "data": {
            "text/plain": [
              "<Figure size 640x480 with 1 Axes>"
            ],
            "image/png": "[encoded data removed]"
          },
          "metadata": {}
        }
      ]
    },
    {
      "cell_type": "code",
      "source": [
        "from scipy import stats\n",
        "\n",
        "# Sample data from three different groups\n",
        "group1 = [20, 21, 19, 22, 24]\n",
        "group2 = [28, 30, 27, 26, 29]\n",
        "group3 = [33, 35, 34, 31, 32]\n",
        "\n",
        "# Performing one-way ANOVA\n",
        "f_value, p_value = stats.f_oneway(group1, group2, group3)\n",
        "print(\"F-value:\", f_value)\n",
        "print(\"P-value:\", p_value)"
      ],
      "metadata": {
        "colab": {
          "base_uri": "https://localhost:8080/"
        },
        "id": "umFKXdL6dtW2",
        "outputId": "dedffd19-5882-48a0-af20-b2df7c4167f5"
      },
      "execution_count": 21,
      "outputs": [
        {
          "output_type": "stream",
          "name": "stdout",
          "text": [
            "F-value: 60.48275862068964\n",
            "P-value: 5.403228229488652e-07\n"
          ]
        }
      ]
    },
    {
      "cell_type": "code",
      "source": [
        "# Objective: Implement and interpret linear regression using SciPy.\n",
        "\n",
        "# 1. Dataset: x = np.array([2, 4, 6, 8, 10]), y = np.array([3, 5, 7, 9, 11]).\n",
        "\n",
        "# 2. Perform linear regression to find slope and intercept.\n",
        "\n",
        "# 3. Plot data points and regression line.\n",
        "\n",
        "# 4. Interpret the results, focusing on the slope and intercept.\n",
        "\n",
        "import numpy as np\n",
        "import matplotlib.pyplot as plt\n",
        "from scipy.stats import linregress\n",
        "\n",
        "# Dataset\n",
        "x = np.array([2, 4, 6, 8, 10])\n",
        "y = np.array([3, 5, 7, 9, 11])\n",
        "\n",
        "# Perform linear regression\n",
        "slope, intercept, r_value, p_value, std_err = stats.linregress(x, y)\n",
        "\n",
        "# Print slope and intercept\n",
        "print(f\"Slope: {slope}\")\n",
        "print(f\"Intercept: {intercept}\")\n",
        "\n",
        "# Plotting the data points\n",
        "plt.scatter(x, y, color='blue', label='Data Points')\n",
        "\n",
        "# Plotting the regression line\n",
        "plt.plot(x, slope * x + intercept, color='red', label='Regression Line')\n",
        "\n",
        "# Adding labels and title\n",
        "plt.xlabel('X values')\n",
        "plt.ylabel('Y values')\n",
        "plt.title('Linear Regression - Data Points and Regression Line')\n",
        "plt.legend()\n",
        "\n",
        "# Show the plot\n",
        "plt.show()\n",
        "\n",
        "# Interpret the results\n",
        "print(f\"The regression line is: y = {slope:.2f}x + {intercept:.2f}\")\n"
      ],
      "metadata": {
        "colab": {
          "base_uri": "https://localhost:8080/",
          "height": 524
        },
        "id": "LeTRrzMnfHSI",
        "outputId": "0c2bbbba-85ea-4131-ea55-3fec5db708f0"
      },
      "execution_count": 23,
      "outputs": [
        {
          "output_type": "stream",
          "name": "stdout",
          "text": [
            "Slope: 1.0\n",
            "Intercept: 1.0\n"
          ]
        },
        {
          "output_type": "display_data",
          "data": {
            "text/plain": [
              "<Figure size 640x480 with 1 Axes>"
            ],
            "image/png": "[encoded data removed]"
          },
          "metadata": {}
        },
        {
          "output_type": "stream",
          "name": "stdout",
          "text": [
            "The regression line is: y = 1.00x + 1.00\n"
          ]
        }
      ]
    },
    {
      "cell_type": "code",
      "source": [],
      "metadata": {
        "id": "KHmirSjNg16d"
      },
      "execution_count": null,
      "outputs": []
    }
  ]
}