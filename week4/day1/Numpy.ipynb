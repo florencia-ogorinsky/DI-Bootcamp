{
  "nbformat": 4,
  "nbformat_minor": 0,
  "metadata": {
    "colab": {
      "provenance": []
    },
    "kernelspec": {
      "name": "python3",
      "display_name": "Python 3"
    },
    "language_info": {
      "name": "python"
    }
  },
  "cells": [
    {
      "cell_type": "code",
      "execution_count": null,
      "metadata": {
        "colab": {
          "base_uri": "https://localhost:8080/"
        },
        "id": "O1ytbzBcvh8x",
        "outputId": "3c450ad7-e56a-4f3f-ed1b-6645a2e93b16"
      },
      "outputs": [
        {
          "output_type": "stream",
          "name": "stdout",
          "text": [
            "Requirement already satisfied: numpy in /usr/local/lib/python3.11/dist-packages (1.26.4)\n"
          ]
        }
      ],
      "source": [
        "!pip install numpy"
      ]
    },
    {
      "cell_type": "code",
      "source": [
        "import numpy as np"
      ],
      "metadata": {
        "id": "TUDwb7I4yGZk"
      },
      "execution_count": null,
      "outputs": []
    },
    {
      "cell_type": "code",
      "source": [
        "import numpy as np\n",
        "\n",
        "# Creating a 1D NumPy array\n",
        "array_1d = np.array([1, 2, 3, 4])\n",
        "print(\"1D Array:\", array_1d)  # Expected Output: 1D Array: [1 2 3 4]\n",
        "\n",
        "# Creating a 2D NumPy array\n",
        "array_2d = np.array([[1, 2, 3], [4, 5, 6]])\n",
        "print(\"2D Array:\\n\", array_2d)\n",
        "# Expected Output:\n",
        "# 2D Array:\n",
        "# [[1 2 3]\n",
        "#  [4 5 6]]\n",
        "\n",
        "# Array attributes\n",
        "print(\"Shape:\", array_2d.shape)  # Expected Output: Shape: (2, 3) - 2 rows and 3 columns\n",
        "print(\"Size:\", array_2d.size)   # Expected Output: Size: 6 - Total 6 elements\n",
        "print(\"Data Type:\", array_2d.dtype)  # Expected Output: Data Type: int64 (or similar, depending on system)"
      ],
      "metadata": {
        "colab": {
          "base_uri": "https://localhost:8080/"
        },
        "id": "mcMCqUmTyJTD",
        "outputId": "79bfe244-5197-4c37-b3b3-b61eac94fdf4"
      },
      "execution_count": null,
      "outputs": [
        {
          "output_type": "stream",
          "name": "stdout",
          "text": [
            "1D Array: [1 2 3 4]\n",
            "2D Array:\n",
            " [[1 2 3]\n",
            " [4 5 6]]\n",
            "Shape: (2, 3)\n",
            "Size: 6\n",
            "Data Type: int64\n"
          ]
        }
      ]
    },
    {
      "cell_type": "code",
      "source": [
        "# Exercise: Create the following arrays:\n",
        "# A one dimensional array with the temperatures from this week.\n",
        "# A two dimensional array of shape 2,5 with random values (choose them yourself) from 1 to 10.\n",
        "# A 3D array with valid pixel values for a picture with 9 pixels.\n",
        "\n",
        "array1= np.array([20,15,10,15])\n",
        "\n",
        "array2= np.array([[1, 2, 3], [4, 5, 6]])\n",
        "\n",
        "array3 = np.array([[[1, 2], [3, 4]], [[5, 6], [7, 8]]])"
      ],
      "metadata": {
        "id": "-heKfTddyc63"
      },
      "execution_count": null,
      "outputs": []
    },
    {
      "cell_type": "code",
      "source": [
        "import numpy as np\n",
        "\n",
        "# Example 2D array\n",
        "array_2d = np.array([[1, 2, 3], [4, 5, 6], [7, 8, 9]])\n",
        "\n",
        "# Accessing a single element\n",
        "print(\"Element at row 1, column 2:\", array_2d[1, 2])  # Output: 6\n",
        "\n",
        "# Accessing a row\n",
        "print(\"Second row:\", array_2d[1, :])  # Output: [4 5 6]\n",
        "\n",
        "# Accessing a column\n",
        "print(\"Third column:\", array_2d[:, 2])  # Output: [3 6 9]"
      ],
      "metadata": {
        "colab": {
          "base_uri": "https://localhost:8080/"
        },
        "id": "OY_yjSRU0W8W",
        "outputId": "80678a8c-7996-4ebd-a317-7f9ceb6eddfa"
      },
      "execution_count": null,
      "outputs": [
        {
          "output_type": "stream",
          "name": "stdout",
          "text": [
            "Element at row 1, column 2: 6\n",
            "Second row: [4 5 6]\n",
            "Third column: [3 6 9]\n"
          ]
        }
      ]
    },
    {
      "cell_type": "code",
      "source": [
        "import numpy as np\n",
        "\n",
        "# Example 2D array\n",
        "array_2d = np.array([[1, 2, 3], [4, 5, 6], [7, 8, 9]])\n",
        "\n",
        "# Slicing a portion of the array\n",
        "print(\"Slice of the array:\", array_2d[0:2, 1:3])  # Output: [[2 3] [5 6]]"
      ],
      "metadata": {
        "colab": {
          "base_uri": "https://localhost:8080/"
        },
        "id": "9JrVoN8O04vq",
        "outputId": "85299268-4c4c-4ef3-e9c5-875fdb97f050"
      },
      "execution_count": null,
      "outputs": [
        {
          "output_type": "stream",
          "name": "stdout",
          "text": [
            "Slice of the array: [[2 3]\n",
            " [5 6]]\n"
          ]
        }
      ]
    },
    {
      "cell_type": "code",
      "source": [
        "import numpy as np\n",
        "\n",
        "# Example array\n",
        "array = np.array([[1, 2], [3, 4], [5, 6]])\n",
        "\n",
        "# Boolean indexing\n",
        "result = array[array > 3]\n",
        "print(\"Result of Boolean Indexing:\", result)  # Output: [4 5 6], a 1D array"
      ],
      "metadata": {
        "colab": {
          "base_uri": "https://localhost:8080/"
        },
        "id": "94dmnNFI1i-b",
        "outputId": "3856fe1b-d6c0-44ec-e99a-8d98fec1c68b"
      },
      "execution_count": null,
      "outputs": [
        {
          "output_type": "stream",
          "name": "stdout",
          "text": [
            "Result of Boolean Indexing: [4 5 6]\n"
          ]
        }
      ]
    },
    {
      "cell_type": "code",
      "source": [
        "import numpy as np\n",
        "\n",
        "# Creating a sample array\n",
        "array = np.array([10, 20, 30, 40, 50])\n",
        "\n",
        "# Indexing (accessing a single element)\n",
        "print(\"First element:\", array[0])\n",
        "\n",
        "# Slicing (accessing multiple elements)\n",
        "print(\"First three elements:\", array[:3])"
      ],
      "metadata": {
        "colab": {
          "base_uri": "https://localhost:8080/"
        },
        "id": "GfMf-tnM10_7",
        "outputId": "a42bac9b-c035-4398-e39d-736a23af8835"
      },
      "execution_count": null,
      "outputs": [
        {
          "output_type": "stream",
          "name": "stdout",
          "text": [
            "First element: 10\n",
            "First three elements: [10 20 30]\n"
          ]
        }
      ]
    },
    {
      "cell_type": "code",
      "source": [
        "# Boolean indexing\n",
        "print(\"Elements greater than 25:\", array[array > 25])\n",
        "\n",
        "# Fancy indexing (using a list of indices)\n",
        "print(\"Select specific elements:\", array[[1, 3]])"
      ],
      "metadata": {
        "colab": {
          "base_uri": "https://localhost:8080/"
        },
        "id": "0stgLiUq2BIl",
        "outputId": "5a1b0fbc-703d-408c-8164-23b7ff1dcca8"
      },
      "execution_count": null,
      "outputs": [
        {
          "output_type": "stream",
          "name": "stdout",
          "text": [
            "Elements greater than 25: [30 40 50]\n",
            "Select specific elements: [20 40]\n"
          ]
        }
      ]
    },
    {
      "cell_type": "code",
      "source": [
        "# 1. Basic Indexing: Create an array of 10 elements and access the 5th element in it.\n",
        "\n",
        "# 2. Basic Slicing: From the same array, extract a slice containing the 3rd to the 8th elements.\n",
        "\n",
        "# 3. Boolean Indexing: Create an array of 6 random integers between 10 and 50. Print the elements that are greater than 30.\n",
        "\n",
        "# 4. Fancy Indexing: From the same array, use fancy indexing to access the 2nd, 4th, and 6th elements.\n",
        "\n",
        "# Expected Output:\n",
        "\n",
        "# The 5th element of the first array.\n",
        "# A slice of the array showing elements from the 3rd to the 8th position.\n",
        "# Elements greater than 30 from the random array.\n",
        "# Selected elements (2nd, 4th, 6th) from the random array using fancy indexing.\n",
        "\n",
        "\n"
      ],
      "metadata": {
        "id": "M3xcdtw32r5a"
      },
      "execution_count": null,
      "outputs": []
    },
    {
      "cell_type": "code",
      "source": [
        "rand = np.random.randint(10, 50, 6)\n",
        "print(rand[rand>30])"
      ],
      "metadata": {
        "colab": {
          "base_uri": "https://localhost:8080/"
        },
        "id": "0SIt6bQd49op",
        "outputId": "f9e945ad-7a39-458e-9309-48f4ffac8143"
      },
      "execution_count": null,
      "outputs": [
        {
          "output_type": "stream",
          "name": "stdout",
          "text": [
            "[38 37 39]\n"
          ]
        }
      ]
    },
    {
      "cell_type": "code",
      "source": [
        "x = np.array([1, 2, 3, 4, 5, 6, 7])\n",
        "new = np.random.permutation(x)\n",
        "new"
      ],
      "metadata": {
        "colab": {
          "base_uri": "https://localhost:8080/"
        },
        "id": "yiv0QhnZ4-Xh",
        "outputId": "a9af975b-18da-4df9-cea6-e1f085af1df3"
      },
      "execution_count": null,
      "outputs": [
        {
          "output_type": "execute_result",
          "data": {
            "text/plain": [
              "array([7, 5, 3, 1, 6, 4, 2])"
            ]
          },
          "metadata": {},
          "execution_count": 11
        }
      ]
    },
    {
      "cell_type": "code",
      "source": [
        "two = np.array([[1,2], [3,4], [5,6]])\n",
        "np.random.permutation(two)"
      ],
      "metadata": {
        "colab": {
          "base_uri": "https://localhost:8080/"
        },
        "id": "tieiNpz15fJJ",
        "outputId": "420b0668-a0a1-4bb9-ca16-4a0b5c6c9726"
      },
      "execution_count": null,
      "outputs": [
        {
          "output_type": "execute_result",
          "data": {
            "text/plain": [
              "array([[3, 4],\n",
              "       [1, 2],\n",
              "       [5, 6]])"
            ]
          },
          "metadata": {},
          "execution_count": 12
        }
      ]
    },
    {
      "cell_type": "code",
      "source": [
        "arr = np.array([1, 2, 3, 4, 5])\n",
        "arr[2] = 10  # Changing the third element\n",
        "print(arr)  # Output: [1, 2, 10, 4, 5]"
      ],
      "metadata": {
        "colab": {
          "base_uri": "https://localhost:8080/"
        },
        "id": "t6xCNsMD5nuO",
        "outputId": "6ecb406e-2f7d-4630-a94b-c3c2631fc635"
      },
      "execution_count": null,
      "outputs": [
        {
          "output_type": "stream",
          "name": "stdout",
          "text": [
            "[ 1  2 10  4  5]\n"
          ]
        }
      ]
    },
    {
      "cell_type": "code",
      "source": [
        "# Exercise:\n",
        "# After learning about array indexing and slicing, it's important to practice these concepts. Here are some exercises to help solidify your understanding:\n",
        "\n",
        "# 1. Modifying Specific Elements:\n",
        "\n",
        "# Create an array with values from 1 to 10. Change the value of the fifth element to 50.\n",
        "\n",
        "# 2. Slicing and Modifying a Range:\n",
        "\n",
        "# Given an array of 10 elements, modify the elements from index 3 to 7 to be their negative equivalent.\n",
        "\n",
        "# 3. Conditional Modification with Boolean Indexing:\n",
        "\n",
        "# Create an array with 20 random integers between 1 and 100. Set all values greater than 50 to -1.\n",
        "\n",
        "# 4. Advanced Indexing Modification:\n",
        "\n",
        "# Given a 2D array of shape (5, 5), modify the elements in the diagonal to be twice their original value.\n",
        "\n",
        "# 5. Understanding Slicing Impact:\n",
        "\n",
        "# Create an array of 10 elements. Slice the array from index 2 to 5, and modify the first element of the slice. Observe the change in the original array."
      ],
      "metadata": {
        "id": "BvqhCHKo6FNg"
      },
      "execution_count": null,
      "outputs": []
    },
    {
      "cell_type": "code",
      "source": [
        "ar_z= np.zeros(5)\n",
        "ar_z"
      ],
      "metadata": {
        "colab": {
          "base_uri": "https://localhost:8080/"
        },
        "id": "pAk_ZmKn6PTV",
        "outputId": "e7d559f1-68d2-4f04-eba3-8b1eb3b4f34f"
      },
      "execution_count": null,
      "outputs": [
        {
          "output_type": "execute_result",
          "data": {
            "text/plain": [
              "array([0., 0., 0., 0., 0.])"
            ]
          },
          "metadata": {},
          "execution_count": 16
        }
      ]
    },
    {
      "cell_type": "code",
      "source": [
        "ar_1=np.ones(8)\n",
        "ar_1"
      ],
      "metadata": {
        "colab": {
          "base_uri": "https://localhost:8080/"
        },
        "id": "RjkbYmB1DgdD",
        "outputId": "3f5f5474-aeb6-4462-873e-82abf998af97"
      },
      "execution_count": null,
      "outputs": [
        {
          "output_type": "execute_result",
          "data": {
            "text/plain": [
              "array([1., 1., 1., 1., 1., 1., 1., 1.])"
            ]
          },
          "metadata": {},
          "execution_count": 17
        }
      ]
    },
    {
      "cell_type": "code",
      "source": [
        "import numpy as np\n",
        "\n",
        "# Creating sample arrays\n",
        "a = np.array([1, 2, 3])\n",
        "b = np.array([4, 5, 6])\n",
        "\n",
        "# Element-wise addition\n",
        "print(\"Addition:\", a + b)\n",
        "\n",
        "# Broadcasting\n",
        "print(\"Broadcasting with scalar:\", a * 3)"
      ],
      "metadata": {
        "colab": {
          "base_uri": "https://localhost:8080/"
        },
        "id": "Qu7dsMARDuXJ",
        "outputId": "a67a2884-00f0-4419-afc7-3ab2d4b90c76"
      },
      "execution_count": null,
      "outputs": [
        {
          "output_type": "stream",
          "name": "stdout",
          "text": [
            "Addition: [5 7 9]\n",
            "Broadcasting with scalar: [3 6 9]\n"
          ]
        }
      ]
    },
    {
      "cell_type": "code",
      "source": [
        "import numpy as np\n",
        "\n",
        "# Creating a 1D array\n",
        "a = np.array([1, 2, 3])\n",
        "\n",
        "# Adding a scalar value to the array\n",
        "result = a + 5\n",
        "\n",
        "print(\"Original Array:\", a)\n",
        "print(\"After Adding 5:\", result)"
      ],
      "metadata": {
        "colab": {
          "base_uri": "https://localhost:8080/"
        },
        "id": "9dB86ElnDzc7",
        "outputId": "a34ec60c-6598-4326-a847-0849161b2c3a"
      },
      "execution_count": null,
      "outputs": [
        {
          "output_type": "stream",
          "name": "stdout",
          "text": [
            "Original Array: [1 2 3]\n",
            "After Adding 5: [6 7 8]\n"
          ]
        }
      ]
    },
    {
      "cell_type": "code",
      "source": [
        "import numpy as np\n",
        "\n",
        "# Creating a 1D array and a 2D array\n",
        "a = np.array([0, 1, 2])\n",
        "b = np.array([[0, 1, 2], [3, 4, 5]])\n",
        "\n",
        "# Adding the 1D array to each row of the 2D array\n",
        "result = a + b\n",
        "\n",
        "print(\"1D Array:\", a)\n",
        "print(\"2D Array:\", b)\n",
        "print(\"Broadcasted Addition:\", result)"
      ],
      "metadata": {
        "colab": {
          "base_uri": "https://localhost:8080/"
        },
        "id": "hvEt552pEHEK",
        "outputId": "b95e25ba-016e-4af7-ff0d-db5e3eaf637a"
      },
      "execution_count": null,
      "outputs": [
        {
          "output_type": "stream",
          "name": "stdout",
          "text": [
            "1D Array: [0 1 2]\n",
            "2D Array: [[0 1 2]\n",
            " [3 4 5]]\n",
            "Broadcasted Addition: [[0 2 4]\n",
            " [3 5 7]]\n"
          ]
        }
      ]
    },
    {
      "cell_type": "code",
      "source": [
        "import numpy as np\n",
        "\n",
        "# Creating two arrays\n",
        "a = np.array([[1], [2], [3]])\n",
        "b = np.array([1, 2, 3])\n",
        "\n",
        "# Adding the two arrays\n",
        "result = a + b\n",
        "\n",
        "print(\"Array a:\", a)\n",
        "print(\"Array b:\", b)\n",
        "print(\"Broadcasted Addition:\", result)"
      ],
      "metadata": {
        "colab": {
          "base_uri": "https://localhost:8080/"
        },
        "id": "380z_TaaEPyV",
        "outputId": "9bf5bbc5-0a95-4a75-97e2-496e6a1a84cc"
      },
      "execution_count": null,
      "outputs": [
        {
          "output_type": "stream",
          "name": "stdout",
          "text": [
            "Array a: [[1]\n",
            " [2]\n",
            " [3]]\n",
            "Array b: [1 2 3]\n",
            "Broadcasted Addition: [[2 3 4]\n",
            " [3 4 5]\n",
            " [4 5 6]]\n"
          ]
        }
      ]
    },
    {
      "cell_type": "code",
      "source": [
        "import numpy as np\n",
        "\n",
        "# Creating two incompatible arrays\n",
        "a = np.array([[1, 2, 3], [4, 5, 6]])\n",
        "b = np.array([1, 2])\n",
        "\n",
        "try:\n",
        "    result = a + b\n",
        "except ValueError as e:\n",
        "    print(\"Error:\", e)"
      ],
      "metadata": {
        "colab": {
          "base_uri": "https://localhost:8080/"
        },
        "id": "ZYyKiGyMEfxS",
        "outputId": "489659b7-35d3-467c-a482-ad63706e7845"
      },
      "execution_count": null,
      "outputs": [
        {
          "output_type": "stream",
          "name": "stdout",
          "text": [
            "Error: operands could not be broadcast together with shapes (2,3) (2,) \n"
          ]
        }
      ]
    },
    {
      "cell_type": "code",
      "source": [
        "# broadcast only if the rows of the second array is same amount as number of columns of the first"
      ],
      "metadata": {
        "id": "Bu8PBdOYEq8Z"
      },
      "execution_count": null,
      "outputs": []
    },
    {
      "cell_type": "code",
      "source": [
        "a.shape"
      ],
      "metadata": {
        "colab": {
          "base_uri": "https://localhost:8080/"
        },
        "id": "diRauRzzFDWd",
        "outputId": "670122f2-c288-4454-d188-07a040cb25f7"
      },
      "execution_count": null,
      "outputs": [
        {
          "output_type": "execute_result",
          "data": {
            "text/plain": [
              "(2, 3)"
            ]
          },
          "metadata": {},
          "execution_count": 24
        }
      ]
    },
    {
      "cell_type": "code",
      "source": [
        "b.shape"
      ],
      "metadata": {
        "colab": {
          "base_uri": "https://localhost:8080/"
        },
        "id": "Ler3dpTvFEyj",
        "outputId": "1331fd0c-3495-4338-ce50-80c8de9d9d15"
      },
      "execution_count": null,
      "outputs": [
        {
          "output_type": "execute_result",
          "data": {
            "text/plain": [
              "(2,)"
            ]
          },
          "metadata": {},
          "execution_count": 25
        }
      ]
    },
    {
      "cell_type": "code",
      "source": [
        "\n",
        "import numpy as np\n",
        "\n",
        "# Creating a 2D array and a 1D array\n",
        "a = np.array([[1, 2, 3], [4, 5, 6]])\n",
        "b = np.array([1, 2, 3])\n",
        "\n",
        "# Element-wise multiplication\n",
        "result = a * b\n",
        "print(\"2D Array:\", a)\n",
        "print(\"1D Array:\", b)\n",
        "print(\"Broadcasted Multiplication:\", result)"
      ],
      "metadata": {
        "colab": {
          "base_uri": "https://localhost:8080/"
        },
        "id": "6Joh3gKFFIFR",
        "outputId": "40dbd814-04bb-4cfc-eb88-2f8e99f3569a"
      },
      "execution_count": null,
      "outputs": [
        {
          "output_type": "stream",
          "name": "stdout",
          "text": [
            "2D Array: [[1 2 3]\n",
            " [4 5 6]]\n",
            "1D Array: [1 2 3]\n",
            "Broadcasted Multiplication: [[ 1  4  9]\n",
            " [ 4 10 18]]\n"
          ]
        }
      ]
    },
    {
      "cell_type": "code",
      "source": [
        "# Creating a sample array\n",
        "array = np.array([[1, 2, 3], [4, 5, 6]])\n",
        "\n",
        "# Sum of all elements\n",
        "print(\"Sum:\", np.sum(array))\n",
        "\n",
        "# Mean value\n",
        "print(\"Mean:\", np.mean(array))\n",
        "\n",
        "# Minimum and Maximum\n",
        "print(\"Min:\", np.min(array), \"Max:\", np.max(array))"
      ],
      "metadata": {
        "colab": {
          "base_uri": "https://localhost:8080/"
        },
        "id": "poIBG5LUFczt",
        "outputId": "76946588-fb57-4502-f25f-47633ae7ab4f"
      },
      "execution_count": null,
      "outputs": [
        {
          "output_type": "stream",
          "name": "stdout",
          "text": [
            "Sum: 21\n",
            "Mean: 3.5\n",
            "Min: 1 Max: 6\n"
          ]
        }
      ]
    },
    {
      "cell_type": "code",
      "source": [
        "from PIL import Image\n",
        "import numpy as np\n",
        "image = Image.open('soldier.png', )\n",
        "arr = np.array(image)\n",
        "arr"
      ],
      "metadata": {
        "colab": {
          "base_uri": "https://localhost:8080/",
          "height": 347
        },
        "id": "AAi33EBFGY5o",
        "outputId": "9ff7aea6-0512-415f-dea6-0641017317fe"
      },
      "execution_count": null,
      "outputs": [
        {
          "output_type": "error",
          "ename": "UnidentifiedImageError",
          "evalue": "cannot identify image file 'soldier.png'",
          "traceback": [
            "\u001b[0;31m---------------------------------------------------------------------------\u001b[0m",
            "\u001b[0;31mUnidentifiedImageError\u001b[0m                    Traceback (most recent call last)",
            "\u001b[0;32m<ipython-input-35-39f0f8344bed>\u001b[0m in \u001b[0;36m<cell line: 0>\u001b[0;34m()\u001b[0m\n\u001b[1;32m      1\u001b[0m \u001b[0;32mfrom\u001b[0m \u001b[0mPIL\u001b[0m \u001b[0;32mimport\u001b[0m \u001b[0mImage\u001b[0m\u001b[0;34m\u001b[0m\u001b[0;34m\u001b[0m\u001b[0m\n\u001b[1;32m      2\u001b[0m \u001b[0;32mimport\u001b[0m \u001b[0mnumpy\u001b[0m \u001b[0;32mas\u001b[0m \u001b[0mnp\u001b[0m\u001b[0;34m\u001b[0m\u001b[0;34m\u001b[0m\u001b[0m\n\u001b[0;32m----> 3\u001b[0;31m \u001b[0mimage\u001b[0m \u001b[0;34m=\u001b[0m \u001b[0mImage\u001b[0m\u001b[0;34m.\u001b[0m\u001b[0mopen\u001b[0m\u001b[0;34m(\u001b[0m\u001b[0;34m'soldier.png'\u001b[0m\u001b[0;34m,\u001b[0m \u001b[0;34m)\u001b[0m\u001b[0;34m\u001b[0m\u001b[0;34m\u001b[0m\u001b[0m\n\u001b[0m\u001b[1;32m      4\u001b[0m \u001b[0marr\u001b[0m \u001b[0;34m=\u001b[0m \u001b[0mnp\u001b[0m\u001b[0;34m.\u001b[0m\u001b[0marray\u001b[0m\u001b[0;34m(\u001b[0m\u001b[0mimage\u001b[0m\u001b[0;34m)\u001b[0m\u001b[0;34m\u001b[0m\u001b[0;34m\u001b[0m\u001b[0m\n\u001b[1;32m      5\u001b[0m \u001b[0marr\u001b[0m\u001b[0;34m\u001b[0m\u001b[0;34m\u001b[0m\u001b[0m\n",
            "\u001b[0;32m/usr/local/lib/python3.11/dist-packages/PIL/Image.py\u001b[0m in \u001b[0;36mopen\u001b[0;34m(fp, mode, formats)\u001b[0m\n\u001b[1;32m   3530\u001b[0m         \u001b[0mwarnings\u001b[0m\u001b[0;34m.\u001b[0m\u001b[0mwarn\u001b[0m\u001b[0;34m(\u001b[0m\u001b[0mmessage\u001b[0m\u001b[0;34m)\u001b[0m\u001b[0;34m\u001b[0m\u001b[0;34m\u001b[0m\u001b[0m\n\u001b[1;32m   3531\u001b[0m     \u001b[0mmsg\u001b[0m \u001b[0;34m=\u001b[0m \u001b[0;34m\"cannot identify image file %r\"\u001b[0m \u001b[0;34m%\u001b[0m \u001b[0;34m(\u001b[0m\u001b[0mfilename\u001b[0m \u001b[0;32mif\u001b[0m \u001b[0mfilename\u001b[0m \u001b[0;32melse\u001b[0m \u001b[0mfp\u001b[0m\u001b[0;34m)\u001b[0m\u001b[0;34m\u001b[0m\u001b[0;34m\u001b[0m\u001b[0m\n\u001b[0;32m-> 3532\u001b[0;31m     \u001b[0;32mraise\u001b[0m \u001b[0mUnidentifiedImageError\u001b[0m\u001b[0;34m(\u001b[0m\u001b[0mmsg\u001b[0m\u001b[0;34m)\u001b[0m\u001b[0;34m\u001b[0m\u001b[0;34m\u001b[0m\u001b[0m\n\u001b[0m\u001b[1;32m   3533\u001b[0m \u001b[0;34m\u001b[0m\u001b[0m\n\u001b[1;32m   3534\u001b[0m \u001b[0;34m\u001b[0m\u001b[0m\n",
            "\u001b[0;31mUnidentifiedImageError\u001b[0m: cannot identify image file 'soldier.png'"
          ]
        }
      ]
    },
    {
      "cell_type": "code",
      "source": [
        "import numpy as np\n",
        "\n",
        "# Creating a 1D array\n",
        "array = np.arange(1, 10)  # Array of numbers from 1 to 9\n",
        "\n",
        "# Reshaping to a 3x3 matrix\n",
        "reshaped_array = array.reshape(3, 3)\n",
        "print(\"Reshaped to 3x3:\\n\", reshaped_array)"
      ],
      "metadata": {
        "colab": {
          "base_uri": "https://localhost:8080/"
        },
        "id": "GF4zMTkwIhUu",
        "outputId": "0e452477-64e3-46f9-d2e1-4047bf8dc975"
      },
      "execution_count": null,
      "outputs": [
        {
          "output_type": "stream",
          "name": "stdout",
          "text": [
            "Reshaped to 3x3:\n",
            " [[1 2 3]\n",
            " [4 5 6]\n",
            " [7 8 9]]\n"
          ]
        }
      ]
    },
    {
      "cell_type": "code",
      "source": [
        "# Transposing the reshaped array\n",
        "transposed_array = reshaped_array.T\n",
        "print(\"Transposed array:\\n\", transposed_array)"
      ],
      "metadata": {
        "colab": {
          "base_uri": "https://localhost:8080/"
        },
        "id": "emMteDSCJYJS",
        "outputId": "2099c664-76f0-4f75-e20d-2f93c4be8499"
      },
      "execution_count": null,
      "outputs": [
        {
          "output_type": "stream",
          "name": "stdout",
          "text": [
            "Transposed array:\n",
            " [[1 4 7]\n",
            " [2 5 8]\n",
            " [3 6 9]]\n"
          ]
        }
      ]
    },
    {
      "cell_type": "code",
      "source": [
        "# Aggregating data after reshaping\n",
        "data = np.random.rand(6, 2)\n",
        "reshaped_data = data.reshape(3, 4)\n",
        "mean_values = np.mean(reshaped_data, axis=1)  # Mean of each reshaped group\n",
        "print(data)\n",
        "\n",
        "print(reshaped_data)\n",
        "\n",
        "\n",
        "print(\"Mean values:\", mean_values)"
      ],
      "metadata": {
        "colab": {
          "base_uri": "https://localhost:8080/"
        },
        "id": "1P8nCnolJ7FI",
        "outputId": "16229361-ed9b-4c6a-e13f-d888b7e0cdcb"
      },
      "execution_count": null,
      "outputs": [
        {
          "output_type": "stream",
          "name": "stdout",
          "text": [
            "[[0.69459741 0.3052498 ]\n",
            " [0.04906612 0.64988569]\n",
            " [0.53281665 0.41820181]\n",
            " [0.52880759 0.01030917]\n",
            " [0.30329806 0.08079601]\n",
            " [0.78249611 0.29950748]]\n",
            "[[0.69459741 0.3052498  0.04906612 0.64988569]\n",
            " [0.53281665 0.41820181 0.52880759 0.01030917]\n",
            " [0.30329806 0.08079601 0.78249611 0.29950748]]\n",
            "Mean values: [0.42469976 0.3725338  0.36652441]\n"
          ]
        }
      ]
    },
    {
      "cell_type": "code",
      "source": [
        "# 1. Reshape Array: Create a 1D array with 12 elements and reshape it to a 4x3 matrix. Then reshape it to a 2x6 matrix.\n",
        "\n",
        "# 2. Transpose Matrix: Transpose the 2x6 matrix you created in the previous step.\n",
        "\n",
        "# 3. Combine Reshaping and Transposing: Create a 3x4 matrix, transpose it, and then reshape the transposed matrix to a 1D array."
      ],
      "metadata": {
        "id": "8AWQJqkPKrWL"
      },
      "execution_count": null,
      "outputs": []
    },
    {
      "cell_type": "code",
      "source": [],
      "metadata": {
        "id": "Y7rvqNaVNW8e"
      },
      "execution_count": null,
      "outputs": []
    }
  ]
}