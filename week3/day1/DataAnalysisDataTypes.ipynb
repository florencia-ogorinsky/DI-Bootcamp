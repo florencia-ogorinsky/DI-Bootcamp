{
 "cells": [
  {
   "cell_type": "code",
   "execution_count": null,
   "metadata": {},
   "outputs": [],
   "source": [
    "#🌟Exercise 1: Introduction to Data Analysis (Easy)\n",
    "#Objective: Understand the basic overview and significance of data analysis.\n",
    "#Task:\n",
    "#Write a short essay or report on the following topics:\n",
    "\n",
    "#What is data analysis?\n",
    "#Why is data analysis important in modern contexts?\n",
    "#List and describe three areas where data analysis is applied today.\n",
    "#Hint/Tip:\n",
    "\n",
    "#Research current trends in data analysis and real-world examples to provide depth to your essay."
   ]
  },
  {
   "cell_type": "code",
   "execution_count": null,
   "metadata": {},
   "outputs": [],
   "source": [
    "# data analysis is a process of inspecting, cleansing, transforming, and modeling data with the goal of discovering useful information, informing conclusions, and supporting decision-making\n",
    "# is a necessity for informed decision-making and strategic planning\n",
    "# Data analysis today is applied to: Business Strategy, Scientific Research and Public Policy"
   ]
  },
  {
   "cell_type": "code",
   "execution_count": 4,
   "metadata": {},
   "outputs": [
    {
     "name": "stdout",
     "output_type": "stream",
     "text": [
      " Volume in drive C is Windows-SSD\n",
      " Volume Serial Number is 8C7B-3023\n",
      "\n",
      " Directory of c:\\Users\\flore\\OneDrive\\Escritorio\\DI-Bootcamp\\week3\\day1\n",
      "\n",
      "02/16/2025  01:04 PM    <DIR>          .\n",
      "02/16/2025  09:15 AM    <DIR>          ..\n",
      "02/16/2025  02:16 PM            14,578 DataAnalysisDataTypes.ipynb\n",
      "               1 File(s)         14,578 bytes\n",
      "               2 Dir(s)  910,650,613,760 bytes free\n"
     ]
    }
   ],
   "source": [
    "ls"
   ]
  },
  {
   "cell_type": "code",
   "execution_count": 7,
   "metadata": {},
   "outputs": [],
   "source": [
    "#Exercise 2: Dataset Loading and Initial Analysis\n",
    "import pandas as pd\n",
    "\n",
    "\n",
    "df = pd.read_csv(r'C:\\Users\\flore\\OneDrive\\Escritorio\\DI-Bootcamp\\Credit Card Approvals (Clean Data)\\clean_dataset.csv')"
   ]
  },
  {
   "cell_type": "code",
   "execution_count": 14,
   "metadata": {},
   "outputs": [],
   "source": [
    "import zipfile\n",
    "import os\n",
    "zip_file = r\"C:\\Users\\flore\\OneDrive\\Escritorio\\DI-Bootcamp\\GlobalTrends.zip\"\n",
    "destination_folder = r\"C:\\Users\\flore\\OneDrive\\Escritorio\\DI-Bootcamp\\extracted\""
   ]
  },
  {
   "cell_type": "code",
   "execution_count": null,
   "metadata": {},
   "outputs": [],
   "source": [
    "with zipfile.ZipFile(zip_file, 'r') as zip_ref:\n",
    "    zip_ref.extractall(destination_folder)\n",
    "    print(f)"
   ]
  },
  {
   "cell_type": "code",
   "execution_count": 8,
   "metadata": {},
   "outputs": [
    {
     "name": "stdout",
     "output_type": "stream",
     "text": [
      "   Gender    Age   Debt  Married  BankCustomer               Industry  \\\n",
      "0       1  30.83  0.000        1             1            Industrials   \n",
      "1       0  58.67  4.460        1             1              Materials   \n",
      "2       0  24.50  0.500        1             1              Materials   \n",
      "3       1  27.83  1.540        1             1            Industrials   \n",
      "4       1  20.17  5.625        1             1            Industrials   \n",
      "5       1  32.08  4.000        1             1  CommunicationServices   \n",
      "\n",
      "  Ethnicity  YearsEmployed  PriorDefault  Employed  CreditScore  \\\n",
      "0     White           1.25             1         1            1   \n",
      "1     Black           3.04             1         1            6   \n",
      "2     Black           1.50             1         0            0   \n",
      "3     White           3.75             1         1            5   \n",
      "4     White           1.71             1         0            0   \n",
      "5     White           2.50             1         0            0   \n",
      "\n",
      "   DriversLicense       Citizen  ZipCode  Income  Approved  \n",
      "0               0       ByBirth      202       0         1  \n",
      "1               0       ByBirth       43     560         1  \n",
      "2               0       ByBirth      280     824         1  \n",
      "3               1       ByBirth      100       3         1  \n",
      "4               0  ByOtherMeans      120       0         1  \n",
      "5               1       ByBirth      360       0         1  \n"
     ]
    }
   ],
   "source": [
    "print(df.head(6))"
   ]
  },
  {
   "cell_type": "code",
   "execution_count": null,
   "metadata": {},
   "outputs": [],
   "source": []
  }
 ],
 "metadata": {
  "kernelspec": {
   "display_name": "Python 3",
   "language": "python",
   "name": "python3"
  },
  "language_info": {
   "codemirror_mode": {
    "name": "ipython",
    "version": 3
   },
   "file_extension": ".py",
   "mimetype": "text/x-python",
   "name": "python",
   "nbconvert_exporter": "python",
   "pygments_lexer": "ipython3",
   "version": "3.12.8"
  }
 },
 "nbformat": 4,
 "nbformat_minor": 2
}
