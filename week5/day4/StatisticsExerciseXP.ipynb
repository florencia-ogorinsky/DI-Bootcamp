{
  "nbformat": 4,
  "nbformat_minor": 0,
  "metadata": {
    "colab": {
      "provenance": []
    },
    "kernelspec": {
      "name": "python3",
      "display_name": "Python 3"
    },
    "language_info": {
      "name": "python"
    }
  },
  "cells": [
    {
      "cell_type": "code",
      "execution_count": 2,
      "metadata": {
        "id": "rIRahFI2wbAv"
      },
      "outputs": [],
      "source": [
        "# XP Exercises - Inferential statistics with regression\n",
        "\n",
        "#As stated in the instructions, please complete the code when you see a \"##TODO\"\n"
      ]
    },
    {
      "cell_type": "code",
      "source": [
        "import pandas as pd\n",
        "import numpy as np\n",
        "from scipy import stats\n",
        "from sklearn.linear_model import LinearRegression\n",
        "from sklearn.metrics import mean_squared_error\n",
        "import matplotlib.pyplot as plt\n",
        "from sklearn.model_selection import train_test_split\n",
        "from scipy.stats import ttest_1samp\n"
      ],
      "metadata": {
        "id": "AlRbMeYvF9L9"
      },
      "execution_count": 3,
      "outputs": []
    },
    {
      "cell_type": "markdown",
      "source": [
        "## TODO : load the dataset in a dataframe called d1, that you can find here : https://www.kaggle.com/code/youssefelzahar/inferential-statistics/input?select=air+traffic.csv\n"
      ],
      "metadata": {
        "id": "SxymiqUHGJBl"
      }
    },
    {
      "cell_type": "code",
      "source": [
        "d1=pd.read_csv('air traffic.csv')"
      ],
      "metadata": {
        "id": "fPYaKDOWH0Kq"
      },
      "execution_count": 4,
      "outputs": []
    },
    {
      "cell_type": "markdown",
      "source": [
        "# Columns Description\n",
        "\n",
        "* Dom_Pax : Domestic Air Travel Passengers\n",
        "* Int_Pax : International Air Travel Passengers\n",
        "* Pax : Total Air Travel Passengers\n",
        "* Dom_Flt : Number of Flights (Domestic)\n",
        "* Int_Flt : Number of Flights (International)\n",
        "* Flt : Number of Flights (Total)\n",
        "* Dom_RPM : Revenue Passenger-miles (Domestic)\n",
        "* Int_RPM : Revenue Passenger-miles (International)\n"
      ],
      "metadata": {
        "id": "OBWqW07tGGpD"
      }
    },
    {
      "cell_type": "markdown",
      "source": [
        "## TODO: Check the summary of the DataFrame to see its structure and data types.\n"
      ],
      "metadata": {
        "id": "mByClx2NGRkg"
      }
    },
    {
      "cell_type": "code",
      "source": [
        "print(d1.head())\n",
        "print(d1.info())\n",
        "print(d1.describe())"
      ],
      "metadata": {
        "colab": {
          "base_uri": "https://localhost:8080/"
        },
        "id": "v5AU5PKNIKlC",
        "outputId": "35047dbf-cd78-450b-e306-9e1764ca327a"
      },
      "execution_count": 5,
      "outputs": [
        {
          "output_type": "stream",
          "name": "stdout",
          "text": [
            "   Year  Month     Dom_Pax    Int_Pax         Pax  Dom_Flt Int_Flt      Flt  \\\n",
            "0  2003      1  43,032,450  4,905,830  47,938,280  785,160  57,667  842,827   \n",
            "1  2003      2  41,166,780  4,245,366  45,412,146  690,351  51,259  741,610   \n",
            "2  2003      3  49,992,700  5,008,613  55,001,313  797,194  58,926  856,120   \n",
            "3  2003      4  47,033,260  4,345,444  51,378,704  766,260  55,005  821,265   \n",
            "4  2003      5  49,152,352  4,610,834  53,763,186  789,397  55,265  844,662   \n",
            "\n",
            "      Dom_RPM     Int_RPM         RPM     Dom_ASM     Int_ASM         ASM  \\\n",
            "0  36,211,422  12,885,980  49,097,402  56,191,300  17,968,572  74,159,872   \n",
            "1  34,148,439  10,715,468  44,863,907  50,088,434  15,587,880  65,676,314   \n",
            "2  41,774,564  12,567,068  54,341,633  57,592,901  17,753,174  75,346,075   \n",
            "3  39,465,980  10,370,592  49,836,572  54,639,679  15,528,761  70,168,440   \n",
            "4  41,001,934  11,575,026  52,576,960  55,349,897  15,629,821  70,979,718   \n",
            "\n",
            "   Dom_LF  Int_LF     LF  \n",
            "0   64.44   71.71  66.20  \n",
            "1   68.18   68.74  68.31  \n",
            "2   72.53   70.79  72.12  \n",
            "3   72.23   66.78  71.02  \n",
            "4   74.08   74.06  74.07  \n",
            "<class 'pandas.core.frame.DataFrame'>\n",
            "RangeIndex: 249 entries, 0 to 248\n",
            "Data columns (total 17 columns):\n",
            " #   Column   Non-Null Count  Dtype  \n",
            "---  ------   --------------  -----  \n",
            " 0   Year     249 non-null    int64  \n",
            " 1   Month    249 non-null    int64  \n",
            " 2   Dom_Pax  249 non-null    object \n",
            " 3   Int_Pax  249 non-null    object \n",
            " 4   Pax      249 non-null    object \n",
            " 5   Dom_Flt  249 non-null    object \n",
            " 6   Int_Flt  249 non-null    object \n",
            " 7   Flt      249 non-null    object \n",
            " 8   Dom_RPM  249 non-null    object \n",
            " 9   Int_RPM  249 non-null    object \n",
            " 10  RPM      249 non-null    object \n",
            " 11  Dom_ASM  249 non-null    object \n",
            " 12  Int_ASM  249 non-null    object \n",
            " 13  ASM      249 non-null    object \n",
            " 14  Dom_LF   249 non-null    float64\n",
            " 15  Int_LF   249 non-null    float64\n",
            " 16  LF       249 non-null    float64\n",
            "dtypes: float64(3), int64(2), object(12)\n",
            "memory usage: 33.2+ KB\n",
            "None\n",
            "              Year       Month      Dom_LF      Int_LF          LF\n",
            "count   249.000000  249.000000  249.000000  249.000000  249.000000\n",
            "mean   2012.879518    6.445783   79.938394   77.304940   79.286305\n",
            "std       6.002817    3.442803    8.860562   10.907145    8.895700\n",
            "min    2003.000000    1.000000   13.090000   23.150000   13.830000\n",
            "25%    2008.000000    3.000000   77.720000   76.430000   76.940000\n",
            "50%    2013.000000    6.000000   82.120000   79.910000   81.580000\n",
            "75%    2018.000000    9.000000   85.240000   82.930000   84.070000\n",
            "max    2023.000000   12.000000   89.960000   89.440000   89.140000\n"
          ]
        }
      ]
    },
    {
      "cell_type": "markdown",
      "source": [
        "# Inferential statistics\n",
        "\n",
        "We will perform the following :\n",
        "\n",
        "1. Linear Regression\n",
        "\n",
        "2. Hypothesis testing\n",
        "\n"
      ],
      "metadata": {
        "id": "r3HpnXCnGVSu"
      }
    },
    {
      "cell_type": "markdown",
      "source": [
        "# Linear and Multiple Regression\n",
        "\n",
        "The best linear line describe the correlation between two variables.\n",
        "\n",
        "We have two types:\n",
        "\n",
        "1. linear Regression\n",
        "2. Multiple Regression\n",
        "\n",
        "The equation of regression\n",
        "\n",
        "**w=a+(b*x)**\n",
        "\n",
        "**w=predict variable**(The point of intersection of the x axis and the y axis)\n",
        "\n",
        "**a=intercept**(The point of intersection of the regression and the y axis)\n",
        "\n",
        "**b=slope**(The amount of increase in regression relative to the x-axis)\n"
      ],
      "metadata": {
        "id": "nUVt_GV_GaX3"
      }
    },
    {
      "cell_type": "code",
      "source": [
        "# Linear Regression\n"
      ],
      "metadata": {
        "id": "xM9nISYFGCLj"
      },
      "execution_count": 6,
      "outputs": []
    },
    {
      "cell_type": "markdown",
      "source": [
        "## TODO: Explore the relationship between domestic passengers and domestic flights.\n",
        "## TODO: Perform a linear regression between domestic passengers and domestic flights, and create a prediction model.\n",
        "## TODO: Plot the scatter plot of domestic passengers versus domestic flights, and overlay the linear regression line.\n",
        "## TODO: Print the slope, intercept, p-value, standard error, and the predicted value for 100 domestic passengers.\n",
        "\n"
      ],
      "metadata": {
        "id": "-zwyuApMGfrI"
      }
    },
    {
      "cell_type": "markdown",
      "source": [
        "#**relationship between domestic passengers and domestic flights.**"
      ],
      "metadata": {
        "id": "fTuGpFiQKNuX"
      }
    },
    {
      "cell_type": "markdown",
      "source": [
        "# **Deleting the ',' and converting number to floats for correct statistics calculations:**"
      ],
      "metadata": {
        "id": "hH_mREt-h9TU"
      }
    },
    {
      "cell_type": "code",
      "source": [
        "d1['Dom_Pax'] = d1['Dom_Pax'].str.replace(',', '').astype(float)\n",
        "d1['Dom_Flt'] = d1['Dom_Flt'].str.replace(',', '').astype(float)\n",
        "print(d1['Dom_Pax'].corr(d1['Dom_Flt']))"
      ],
      "metadata": {
        "colab": {
          "base_uri": "https://localhost:8080/"
        },
        "id": "xJNHEDUdIf1Y",
        "outputId": "722fd798-1e38-4605-d83b-8dba3b6957c1"
      },
      "execution_count": 7,
      "outputs": [
        {
          "output_type": "stream",
          "name": "stdout",
          "text": [
            "0.5369864170525395\n"
          ]
        }
      ]
    },
    {
      "cell_type": "markdown",
      "source": [
        "# **We can observe a moderate and positive correlation between this variables, which means that when domestic flights increase, domestic passenger also but in smaller proportion**"
      ],
      "metadata": {
        "id": "wJyZw1ZwiX6U"
      }
    },
    {
      "cell_type": "code",
      "source": [
        "from sklearn.linear_model import LinearRegression\n",
        "X = d1[['Dom_Flt']]\n",
        "y = d1['Dom_Pax']\n",
        "\n",
        "model = LinearRegression()\n",
        "model.fit(X, y)\n",
        "\n",
        "# r²\n",
        "r2 = model.score(X, y)\n",
        "print(f'(r²): {r2}')\n"
      ],
      "metadata": {
        "colab": {
          "base_uri": "https://localhost:8080/"
        },
        "id": "eddMWNDnJX99",
        "outputId": "d02d17fd-5269-4ffc-d433-6a38aa9920c1"
      },
      "execution_count": 8,
      "outputs": [
        {
          "output_type": "stream",
          "name": "stdout",
          "text": [
            "(r²): 0.28835441209892376\n"
          ]
        }
      ]
    },
    {
      "cell_type": "markdown",
      "source": [
        "# **r shows as there is a weak relation between both columns, only 28% of domestic passenger can be explained by number of domestic flight. If there would be a perfect relationship it would be 1. The rest (72%) could be explained by some other facts but not by the domestic flights**"
      ],
      "metadata": {
        "id": "cW-HhsFBEe4e"
      }
    },
    {
      "cell_type": "markdown",
      "source": [
        "# **linear regression between domestic passengers and domestic flights**"
      ],
      "metadata": {
        "id": "ELDS4JcTKaNB"
      }
    },
    {
      "cell_type": "markdown",
      "source": [
        "# **scatter plot of domestic passengers versus domestic flights, and overlay the linear regression line.**"
      ],
      "metadata": {
        "id": "91M_050JK9Cq"
      }
    },
    {
      "cell_type": "code",
      "source": [
        "# LR\n",
        "X = d1[['Dom_Flt']]\n",
        "y = d1['Dom_Pax']\n",
        "\n",
        "model = LinearRegression()\n",
        "model.fit(X, y)\n",
        "\n",
        "predictions = model.predict(X)\n",
        "\n",
        "plt.scatter(X, y)\n",
        "plt.plot(X, predictions, color='red')\n",
        "plt.xlabel('domestic flights')\n",
        "plt.ylabel('domestic passenger')\n",
        "plt.title('LR: Passengers vs domestic flights')\n",
        "plt.show()\n",
        "\n",
        "print(f'Slope: {model.coef_[0]}')\n",
        "print(f'Intercept: {model.intercept_}')\n"
      ],
      "metadata": {
        "colab": {
          "base_uri": "https://localhost:8080/",
          "height": 507
        },
        "id": "_RHJiW62JbqI",
        "outputId": "e71d6fc4-6144-46e4-8333-d5fb2eeaddbf"
      },
      "execution_count": 9,
      "outputs": [
        {
          "output_type": "display_data",
          "data": {
            "text/plain": [
              "<Figure size 640x480 with 1 Axes>"
            ],
            "image/png": "[encoded data removed]"
          },
          "metadata": {}
        },
        {
          "output_type": "stream",
          "name": "stdout",
          "text": [
            "Slope: 52.36968067151541\n",
            "Intercept: 18197400.870412596\n"
          ]
        }
      ]
    },
    {
      "cell_type": "markdown",
      "source": [
        "# **For every increase in 1 in domestic flight, passenger increase in 52.37. Intercept is that if x (domestic flights) is 0, the number of passengers will be 18.19 millions**"
      ],
      "metadata": {
        "id": "-elXIo_kFE-O"
      }
    },
    {
      "cell_type": "markdown",
      "source": [
        "# **predicted value for 100 domestic passengers.**"
      ],
      "metadata": {
        "id": "uBWQUhKnLVr3"
      }
    },
    {
      "cell_type": "code",
      "source": [
        "pred_100 = model.predict([[100]])\n",
        "\n",
        "residuals = y - predictions\n",
        "std_err = np.std(residuals)\n",
        "\n",
        "print(f'Pred: {pred_100[0]}')\n",
        "print(f'standard error: {std_err}')\n",
        "\n",
        "from sklearn.preprocessing import StandardScaler\n",
        "scaler = StandardScaler()\n",
        "scaler.fit(d1[['Dom_Flt']])\n",
        "\n",
        "new_value = np.array([[100]])\n",
        "new_value_scaled = scaler.transform(new_value)\n",
        "prediction = model.predict(new_value_scaled)\n",
        "\n",
        "print(f\"Prediction for 100 domestic flights (adjusted): {prediction[0]:,.0f} passengers\")\n"
      ],
      "metadata": {
        "colab": {
          "base_uri": "https://localhost:8080/"
        },
        "id": "Oaxx6mIZLXBL",
        "outputId": "056b69bd-ea91-4e40-bfbf-08f24e909cf2"
      },
      "execution_count": 11,
      "outputs": [
        {
          "output_type": "stream",
          "name": "stdout",
          "text": [
            "Pred: 18202637.838479746\n",
            "standard error: 8789850.99540281\n",
            "Prediction for 100 domestic flights (adjusted): 18,197,054 passengers\n"
          ]
        },
        {
          "output_type": "stream",
          "name": "stderr",
          "text": [
            "/usr/local/lib/python3.11/dist-packages/sklearn/utils/validation.py:2739: UserWarning: X does not have valid feature names, but LinearRegression was fitted with feature names\n",
            "  warnings.warn(\n",
            "/usr/local/lib/python3.11/dist-packages/sklearn/utils/validation.py:2739: UserWarning: X does not have valid feature names, but StandardScaler was fitted with feature names\n",
            "  warnings.warn(\n",
            "/usr/local/lib/python3.11/dist-packages/sklearn/utils/validation.py:2739: UserWarning: X does not have valid feature names, but LinearRegression was fitted with feature names\n",
            "  warnings.warn(\n"
          ]
        }
      ]
    },
    {
      "cell_type": "markdown",
      "source": [
        "# **We can observe a very uncertain prediction due to the standard error**"
      ],
      "metadata": {
        "id": "MA5XQ_-NZ096"
      }
    },
    {
      "cell_type": "markdown",
      "source": [
        "# **Print r2**"
      ],
      "metadata": {
        "id": "iiTT1oZaPdNF"
      }
    },
    {
      "cell_type": "code",
      "source": [
        "r2 = model.score(X, y)\n",
        "print('r²:', r2)"
      ],
      "metadata": {
        "colab": {
          "base_uri": "https://localhost:8080/"
        },
        "id": "uOFdk3TILfwd",
        "outputId": "f317e824-1e2a-4829-d50c-e017b590a1d1"
      },
      "execution_count": 12,
      "outputs": [
        {
          "output_type": "stream",
          "name": "stdout",
          "text": [
            "r²: 0.28835441209892376\n"
          ]
        }
      ]
    },
    {
      "cell_type": "markdown",
      "source": [
        "## **Prepare the data X and è for regression by reshaping the features using .reshape(-1,1)**"
      ],
      "metadata": {
        "id": "a460Slg8Ao4_"
      }
    },
    {
      "cell_type": "code",
      "source": [
        "X = d1['Dom_Flt'].values.reshape(-1, 1)\n",
        "y = d1['Dom_Pax'].values\n"
      ],
      "metadata": {
        "id": "nWq0dywpAP5d"
      },
      "execution_count": 13,
      "outputs": []
    },
    {
      "cell_type": "markdown",
      "source": [
        "# **Split the data into training and validation sets.**"
      ],
      "metadata": {
        "id": "UeEvfUwjBOHi"
      }
    },
    {
      "cell_type": "code",
      "source": [
        "X_train, X_val, y_train, y_val = train_test_split(X, y, test_size=0.2, random_state=42)"
      ],
      "metadata": {
        "id": "jiD12kfLBTR-"
      },
      "execution_count": 14,
      "outputs": []
    },
    {
      "cell_type": "markdown",
      "source": [
        "# **Fit the linear regression model, make a prediction, and evaluate the model.**"
      ],
      "metadata": {
        "id": "s3qTDVS7Bf33"
      }
    },
    {
      "cell_type": "code",
      "source": [
        "model = LinearRegression()\n",
        "model.fit(X_train, y_train)\n",
        "\n",
        "y_pred = model.predict(X_val)\n",
        "\n",
        "mse = mean_squared_error(y_val, y_pred)\n",
        "print(f'Mean Squared Error: {mse}')\n"
      ],
      "metadata": {
        "colab": {
          "base_uri": "https://localhost:8080/"
        },
        "id": "Gpf2MiAHBcUF",
        "outputId": "b1cbcd38-091d-4aa7-ec56-b4e519a17499"
      },
      "execution_count": 15,
      "outputs": [
        {
          "output_type": "stream",
          "name": "stdout",
          "text": [
            "Mean Squared Error: 82041048700668.08\n"
          ]
        }
      ]
    },
    {
      "cell_type": "markdown",
      "source": [
        "# **This value is very high, so we can see this model is not very precise, we could Standarize the data, or normalize it, I am going to use standard Scaler for next point**"
      ],
      "metadata": {
        "id": "n4h6y9Qtbbxw"
      }
    },
    {
      "cell_type": "markdown",
      "source": [
        "# **Calculate the mean squared error (MSE) for the training set.**"
      ],
      "metadata": {
        "id": "aQWHltqLB4Hd"
      }
    },
    {
      "cell_type": "code",
      "source": [
        "from sklearn.preprocessing import StandardScaler\n",
        "from sklearn.linear_model import LinearRegression\n",
        "from sklearn.metrics import mean_squared_error\n",
        "from sklearn.model_selection import train_test_split\n",
        "import numpy as np\n",
        "\n",
        "X = d1[['Dom_Flt']].values\n",
        "y = d1['Dom_Pax'].values.reshape(-1, 1)\n",
        "\n",
        "scaler_X = StandardScaler()\n",
        "scaler_y = StandardScaler()\n",
        "\n",
        "X_scaled = scaler_X.fit_transform(X)\n",
        "y_scaled = scaler_y.fit_transform(y)\n",
        "\n",
        "X_train, X_val, y_train, y_val = train_test_split(X_scaled, y_scaled, test_size=0.2, random_state=42)\n",
        "\n",
        "model = LinearRegression()\n",
        "model.fit(X_train, y_train)\n",
        "\n",
        "y_train_pred = model.predict(X_train)\n",
        "y_val_pred = model.predict(X_val)\n",
        "\n",
        "mse_train = mean_squared_error(y_train, y_train_pred)\n",
        "mse_val = mean_squared_error(y_val, y_val_pred)\n",
        "\n",
        "print(f'MSE (Training): {mse_train}')\n",
        "print(f'MSE (Validation): {mse_val}')\n",
        "\n",
        "mse_train_original = mean_squared_error(scaler_y.inverse_transform(y_train), scaler_y.inverse_transform(y_train_pred))\n",
        "mse_val_original = mean_squared_error(scaler_y.inverse_transform(y_val), scaler_y.inverse_transform(y_val_pred))\n",
        "\n",
        "print(f'MSE in the original scale (Training): {mse_train_original}')\n",
        "print(f'MSE in the original scale (Validation): {mse_val_original}')\n"
      ],
      "metadata": {
        "colab": {
          "base_uri": "https://localhost:8080/"
        },
        "id": "GL6YrJmftAll",
        "outputId": "c9a3a778-e6e4-4375-c51b-c81cb2a8f80a"
      },
      "execution_count": 16,
      "outputs": [
        {
          "output_type": "stream",
          "name": "stdout",
          "text": [
            "MSE (Training): 0.7024403130218403\n",
            "MSE (Validation): 0.7556695773963159\n",
            "MSE in the original scale (Training): 76262088158292.33\n",
            "MSE in the original scale (Validation): 82041048700668.1\n"
          ]
        }
      ]
    },
    {
      "cell_type": "markdown",
      "source": [
        "# **Both errors (training and validation) are high, which means the model is not overfitted, but doesnt predict with accuracy.**"
      ],
      "metadata": {
        "id": "nOt6s6w-btfa"
      }
    },
    {
      "cell_type": "markdown",
      "source": [
        "# **## (Optional) TODO: Perform hypothesis testing for two variables of your choice**"
      ],
      "metadata": {
        "id": "1BLKuTvKl4y3"
      }
    },
    {
      "cell_type": "markdown",
      "source": [
        "# **1 sample**"
      ],
      "metadata": {
        "id": "H6uw46lGy9aX"
      }
    },
    {
      "cell_type": "code",
      "source": [
        "popmean = d1['Year'].mean()\n",
        "\n",
        "sample = np.random.choice(d1['Year'], 50)\n",
        "\n",
        "ttest, p_value = ttest_1samp(sample, popmean)\n",
        "\n",
        "print(\"t-statistic:\", ttest)\n",
        "print(\"p-value:\", p_value)\n",
        "\n",
        "if p_value <= 0.05:\n",
        "    print(\"Reject null hypothesis: The mean is significantly different from the population mean.\")\n",
        "else:\n",
        "    print(\"Fail to reject null hypothesis: No significant difference from the population mean.\")\n"
      ],
      "metadata": {
        "id": "qX3ofHoAD0IC",
        "colab": {
          "base_uri": "https://localhost:8080/"
        },
        "outputId": "4c73794c-08d3-4011-fb53-251fc78e77d2"
      },
      "execution_count": 17,
      "outputs": [
        {
          "output_type": "stream",
          "name": "stdout",
          "text": [
            "t-statistic: -0.2693383732676371\n",
            "p-value: 0.7888002624013606\n",
            "Fail to reject null hypothesis: No significant difference from the population mean.\n"
          ]
        }
      ]
    },
    {
      "cell_type": "markdown",
      "source": [
        "#**P is greater than ttstats which means there is not enough evidence to reject the null hypothesis. This means that the mean of the sample is not very different from the data. With this we can say that the sample we took is representative of the data we are analyzing.**"
      ],
      "metadata": {
        "id": "XjqLpQ8Eb-JO"
      }
    },
    {
      "cell_type": "markdown",
      "source": [
        "# **2 samples**"
      ],
      "metadata": {
        "id": "aIFfhQgmzAWG"
      }
    },
    {
      "cell_type": "code",
      "source": [
        "from scipy.stats import ttest_ind\n",
        "\n",
        "d1['Flt'] = d1['Flt'].str.replace(',', '').astype(float)\n",
        "\n",
        "sample_a = np.random.choice(d1['Flt'], 50)\n",
        "sample_b = np.random.choice(d1['Dom_Pax'], 50)\n",
        "\n",
        "t_stat, p_val = ttest_ind(sample_a, sample_b)\n",
        "\n",
        "print(\"t-statistic:\", t_stat)\n",
        "print(\"p-value:\", p_val)\n",
        "\n",
        "if p_val <= 0.05:\n",
        "    print(\"Reject null hypothesis: The means are significantly different.\")\n",
        "else:\n",
        "    print(\"Fail to reject null hypothesis: No significant difference in the means.\")"
      ],
      "metadata": {
        "colab": {
          "base_uri": "https://localhost:8080/"
        },
        "id": "vXwgClD2zCOR",
        "outputId": "257a17fa-6a39-4c43-d201-2e6735e03f11"
      },
      "execution_count": 18,
      "outputs": [
        {
          "output_type": "stream",
          "name": "stdout",
          "text": [
            "t-statistic: -50.22521542311051\n",
            "p-value: 9.593866901124848e-72\n",
            "Reject null hypothesis: The means are significantly different.\n"
          ]
        }
      ]
    },
    {
      "cell_type": "markdown",
      "source": [
        "# **We can observe that the groups dont have the same distribution. There is a very big difference between their means.**"
      ],
      "metadata": {
        "id": "0CRGeleHc9Gx"
      }
    },
    {
      "cell_type": "code",
      "source": [],
      "metadata": {
        "id": "-W5ztYdHO38X"
      },
      "execution_count": 18,
      "outputs": []
    }
  ]
}