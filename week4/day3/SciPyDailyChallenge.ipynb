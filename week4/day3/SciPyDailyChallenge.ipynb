{
  "nbformat": 4,
  "nbformat_minor": 0,
  "metadata": {
    "colab": {
      "provenance": []
    },
    "kernelspec": {
      "name": "python3",
      "display_name": "Python 3"
    },
    "language_info": {
      "name": "python"
    }
  },
  "cells": [
    {
      "cell_type": "markdown",
      "source": [
        "# **Daily Challenge**"
      ],
      "metadata": {
        "id": "Fl6Wf9LUQSAb"
      }
    },
    {
      "cell_type": "markdown",
      "source": [
        "# **Data import and cleaning**"
      ],
      "metadata": {
        "id": "IpUwSjnRWMZL"
      }
    },
    {
      "cell_type": "code",
      "execution_count": 11,
      "metadata": {
        "id": "Ja2IIU7XPkn2"
      },
      "outputs": [],
      "source": [
        "import pandas as pd\n",
        "data=pd.read_csv('Airplane_Crashes_and_Fatalities_Since_1908_t0_2023.csv', encoding='latin-1')"
      ]
    },
    {
      "cell_type": "code",
      "source": [
        "data.info()"
      ],
      "metadata": {
        "colab": {
          "base_uri": "https://localhost:8080/"
        },
        "id": "CFzgnt9QQdzY",
        "outputId": "9e8930cd-f07f-4830-a5f8-b6946464191c"
      },
      "execution_count": 12,
      "outputs": [
        {
          "output_type": "stream",
          "name": "stdout",
          "text": [
            "<class 'pandas.core.frame.DataFrame'>\n",
            "RangeIndex: 4998 entries, 0 to 4997\n",
            "Data columns (total 17 columns):\n",
            " #   Column                 Non-Null Count  Dtype  \n",
            "---  ------                 --------------  -----  \n",
            " 0   Date                   4998 non-null   object \n",
            " 1   Time                   3486 non-null   object \n",
            " 2   Location               4994 non-null   object \n",
            " 3   Operator               4988 non-null   object \n",
            " 4   Flight #               1329 non-null   object \n",
            " 5   Route                  4221 non-null   object \n",
            " 6   AC Type                4983 non-null   object \n",
            " 7   Registration           4724 non-null   object \n",
            " 8   cn/ln                  4330 non-null   object \n",
            " 9   Aboard                 4980 non-null   float64\n",
            " 10  Aboard Passangers      4769 non-null   float64\n",
            " 11  Aboard Crew            4772 non-null   float64\n",
            " 12  Fatalities             4990 non-null   float64\n",
            " 13  Fatalities Passangers  4756 non-null   float64\n",
            " 14  Fatalities Crew        4757 non-null   float64\n",
            " 15  Ground                 4956 non-null   float64\n",
            " 16  Summary                4934 non-null   object \n",
            "dtypes: float64(7), object(10)\n",
            "memory usage: 663.9+ KB\n"
          ]
        }
      ]
    },
    {
      "cell_type": "code",
      "source": [
        "#remove column Time\n",
        "data.drop('Time', axis=1, inplace=True)\n",
        "data.drop('Flight #', axis=1, inplace=True)\n",
        "data['Location']=data['Location'].fillna('unknown')\n",
        "data['Route']=data['Route'].fillna('unknown')\n",
        "data['AC Type']=data['AC Type'].fillna('unknown')\n",
        "data['Registration']=data['Registration'].fillna('unknown')\n",
        "data['cn/ln']=data['cn/ln'].fillna('unknown')\n",
        "data['Summary']=data['Summary'].fillna('unknown')\n",
        "\n",
        "meanaboard=data['Aboard'].mean()\n",
        "data['Aboard']=data['Aboard'].fillna(meanaboard)\n",
        "\n",
        "meanAboardPassangers=data['Aboard Passangers'].mean()\n",
        "data['Aboard Passangers']=data['Aboard Passangers'].fillna(meanAboardPassangers)\n",
        "\n",
        "meanAboardCrew=data['Aboard Crew'].mean()\n",
        "data['Aboard Crew']=data['Aboard Crew'].fillna(meanAboardCrew)\n",
        "\n",
        "data['Fatalities']=data['Fatalities'].fillna(0)\n",
        "\n",
        "data['Fatalities Passangers']=data['Fatalities Passangers'].fillna(0)\n",
        "\n",
        "data['Fatalities Crew']=data['Fatalities Crew'].fillna(0)\n",
        "\n",
        "data['Ground']=data['Ground'].fillna(0)\n",
        "\n",
        "#convert Aboard to integer\n",
        "data['Aboard']=data['Aboard'].astype(int)\n",
        "data['Aboard Passangers']=data['Aboard Passangers'].astype(int)\n",
        "data['Aboard Crew']=data['Aboard Crew'].astype(int)\n",
        "data['Fatalities']=data['Fatalities'].astype(int)\n",
        "data['Fatalities Passangers']=data['Fatalities Passangers'].astype(int)\n",
        "data['Fatalities Crew']=data['Fatalities Crew'].astype(int)\n",
        "data['Ground']=data['Ground'].astype(int)\n",
        "\n",
        "\n",
        "data['Date'] = pd.to_datetime(data['Date'])\n",
        "data['Date']=data['Date'].dt.strftime('%Y-%m-%d')\n",
        "\n",
        "data.info()\n",
        "\n",
        "\n"
      ],
      "metadata": {
        "colab": {
          "base_uri": "https://localhost:8080/"
        },
        "id": "nsAmaTaxQw2u",
        "outputId": "26702bbf-92b3-4cfa-9eb1-dcb39ef283eb"
      },
      "execution_count": 13,
      "outputs": [
        {
          "output_type": "stream",
          "name": "stdout",
          "text": [
            "<class 'pandas.core.frame.DataFrame'>\n",
            "RangeIndex: 4998 entries, 0 to 4997\n",
            "Data columns (total 15 columns):\n",
            " #   Column                 Non-Null Count  Dtype \n",
            "---  ------                 --------------  ----- \n",
            " 0   Date                   4998 non-null   object\n",
            " 1   Location               4998 non-null   object\n",
            " 2   Operator               4988 non-null   object\n",
            " 3   Route                  4998 non-null   object\n",
            " 4   AC Type                4998 non-null   object\n",
            " 5   Registration           4998 non-null   object\n",
            " 6   cn/ln                  4998 non-null   object\n",
            " 7   Aboard                 4998 non-null   int64 \n",
            " 8   Aboard Passangers      4998 non-null   int64 \n",
            " 9   Aboard Crew            4998 non-null   int64 \n",
            " 10  Fatalities             4998 non-null   int64 \n",
            " 11  Fatalities Passangers  4998 non-null   int64 \n",
            " 12  Fatalities Crew        4998 non-null   int64 \n",
            " 13  Ground                 4998 non-null   int64 \n",
            " 14  Summary                4998 non-null   object\n",
            "dtypes: int64(7), object(8)\n",
            "memory usage: 585.8+ KB\n"
          ]
        }
      ]
    },
    {
      "cell_type": "markdown",
      "source": [
        "# **Exploratory Data Analysis**"
      ],
      "metadata": {
        "id": "V-145UgglDC1"
      }
    },
    {
      "cell_type": "code",
      "source": [
        "#Use Pandas to explore basic statistics such as the number of crashes, fatalities, and survival rates\n",
        "import pandas as pd\n",
        "sum_of_crashes=data['Date'].count()\n",
        "sum_of_fatalities=data['Fatalities'].sum()\n",
        "sum_of_survival=data['Aboard'].sum()-data['Fatalities'].sum()\n",
        "\n",
        "\n",
        "survivalrate = (sum_of_survival / data['Aboard'].sum()) * 100\n",
        "fatalityrate = (sum_of_fatalities / data['Aboard'].sum()) * 100\n",
        "\n",
        "print('The number of crashes is:', sum_of_crashes)\n",
        "print('The number of fatalities is:', sum_of_fatalities)\n",
        "print('The survival rate is:', survivalrate, '%')\n",
        "print('The fatality rate is:', fatalityrate, '%')"
      ],
      "metadata": {
        "colab": {
          "base_uri": "https://localhost:8080/"
        },
        "id": "eyW-DDp3VRqT",
        "outputId": "5ef5024d-f26b-4854-f4df-142def27d2d8"
      },
      "execution_count": 36,
      "outputs": [
        {
          "output_type": "stream",
          "name": "stdout",
          "text": [
            "The number of crashes is: 4998\n",
            "The number of fatalities is: 111644\n",
            "The survival rate is: 28.393858152571287 %\n",
            "The fatality rate is: 71.6061418474287 %\n"
          ]
        }
      ]
    },
    {
      "cell_type": "code",
      "source": [
        "#group by year\n",
        "data['Year']=data['Date'].str[:4]\n",
        "frequency_of_crashes_by_year=data.groupby('Year')['Date'].count()\n",
        "\n",
        "#order by most frecuency years\n",
        "frequency_of_crashes_by_year=frequency_of_crashes_by_year.sort_values(ascending=False)\n",
        "#take only the first 35\n",
        "frequency_of_crashes_by_year=frequency_of_crashes_by_year.head(35)\n",
        "#sort them by year\n",
        "frequency_of_crashes_by_year=frequency_of_crashes_by_year.sort_index()\n",
        "print(frequency_of_crashes_by_year)\n",
        "\n",
        "#graph\n",
        "import matplotlib.pyplot as plt\n",
        "frequency_of_crashes_by_year.plot(kind='bar')\n",
        "plt.xlabel('Year')\n",
        "plt.ylabel('Number of crashes')\n",
        "plt.title('Frequency of crashes by year')\n",
        "plt.show()"
      ],
      "metadata": {
        "id": "m6fr7hPllpK5",
        "colab": {
          "base_uri": "https://localhost:8080/",
          "height": 1000
        },
        "outputId": "1ef5072c-5498-46da-f27c-1416a294f32e"
      },
      "execution_count": 15,
      "outputs": [
        {
          "output_type": "stream",
          "name": "stdout",
          "text": [
            "Year\n",
            "1945    74\n",
            "1946    88\n",
            "1947    82\n",
            "1948    77\n",
            "1949    67\n",
            "1950    69\n",
            "1951    75\n",
            "1952    65\n",
            "1953    69\n",
            "1954    61\n",
            "1957    66\n",
            "1958    68\n",
            "1959    66\n",
            "1960    70\n",
            "1962    77\n",
            "1963    61\n",
            "1965    62\n",
            "1968    65\n",
            "1969    69\n",
            "1970    73\n",
            "1972    77\n",
            "1973    64\n",
            "1977    63\n",
            "1979    60\n",
            "1988    64\n",
            "1989    83\n",
            "1990    61\n",
            "1991    69\n",
            "1992    66\n",
            "1994    74\n",
            "1995    60\n",
            "1996    68\n",
            "1999    62\n",
            "2000    63\n",
            "2003    62\n",
            "Name: Date, dtype: int64\n"
          ]
        },
        {
          "output_type": "display_data",
          "data": {
            "text/plain": [
              "<Figure size 640x480 with 1 Axes>"
            ],
            "image/png": "[encoded data removed]"
          },
          "metadata": {}
        }
      ]
    },
    {
      "cell_type": "markdown",
      "source": [
        "# **Statistical Analysis**"
      ],
      "metadata": {
        "id": "eTgcINmUohJQ"
      }
    },
    {
      "cell_type": "code",
      "source": [
        "import scipy\n",
        "import scipy.stats as stats\n",
        "import numpy as np\n",
        "from scipy.stats import ttest_ind\n",
        "\n",
        "mean_scipy = stats.tmean(data['Fatalities Passangers'])\n",
        "median_scipy = np.median(data['Fatalities Passangers'])\n",
        "variance_scipy = stats.tvar(data['Fatalities Passangers'])\n",
        "std_dev_scipy = stats.tstd(data['Fatalities Passangers'])\n",
        "print(\"Mean:\", mean_scipy)\n",
        "print(\"Median:\", median_scipy)\n",
        "print(\"Variance:\", variance_scipy)\n",
        "print(\"Standard Deviation:\", std_dev_scipy)\n",
        "\n",
        "#array with fatalities in last year\n",
        "fatalities_2023=data[data['Year']=='2023']['Fatalities']\n",
        "fatalities_2020=data[data['Year']=='2020']['Fatalities']\n",
        "\n",
        "mean_fatalities_2023 = np.mean(fatalities_2023)\n",
        "mean_fatalities_2020 = np.mean(fatalities_2020)\n",
        "\n",
        "t_stat,p_val= ttest_ind(fatalities_2023, fatalities_2020)\n",
        "print(\"t-statistic:\", t_stat)\n",
        "print(\"p-value:\", p_val)"
      ],
      "metadata": {
        "colab": {
          "base_uri": "https://localhost:8080/"
        },
        "id": "0b0MjI22jpdD",
        "outputId": "61ee8392-eaf7-47dc-9e13-411d8cbfe13a"
      },
      "execution_count": 16,
      "outputs": [
        {
          "output_type": "stream",
          "name": "stdout",
          "text": [
            "Mean: 18.1312525010004\n",
            "Median: 7.0\n",
            "Variance: 1126.2225131797766\n",
            "Standard Deviation: 33.5592388647266\n",
            "t-statistic: -0.5714496959126121\n",
            "p-value: 0.580310839331889\n"
          ]
        }
      ]
    },
    {
      "cell_type": "markdown",
      "source": [
        "# **Visualization**"
      ],
      "metadata": {
        "id": "aXIoIGpp1r0g"
      }
    },
    {
      "cell_type": "code",
      "source": [
        "location_split = data['Location'].str.split(',', expand=True)\n",
        "data['Region'] = location_split[0]\n",
        "data['State'] = location_split[1].str.strip()\n",
        "data.head()\n",
        "\n",
        "#bar charts of crashes by region\n",
        "import matplotlib.pyplot as plt\n",
        "crashes_by_State=data.groupby('State')['Date'].count().reset_index()\n",
        "crashes_by_State=crashes_by_State.sort_values(by=['Date'], ascending=False)\n",
        "top_10_states = crashes_by_State.head(10)\n",
        "\n",
        "plt.bar(top_10_states['State'], top_10_states['Date'], color='skyblue')\n",
        "plt.xlabel('State')\n",
        "plt.ylabel('Number of crashes')\n",
        "plt.title('Top 10 States with more crashes')\n",
        "#rotation\n",
        "plt.xticks(rotation=30)\n",
        "plt.show()\n",
        "\n",
        "\n"
      ],
      "metadata": {
        "id": "vmkXx9cAm-7Z",
        "colab": {
          "base_uri": "https://localhost:8080/",
          "height": 503
        },
        "outputId": "934c7487-93e4-40c4-dd30-5c2a1dbf31ab"
      },
      "execution_count": 25,
      "outputs": [
        {
          "output_type": "display_data",
          "data": {
            "text/plain": [
              "<Figure size 640x480 with 1 Axes>"
            ],
            "image/png": "[encoded data removed]"
          },
          "metadata": {}
        }
      ]
    },
    {
      "cell_type": "markdown",
      "source": [
        "# Russia has the most air accidents, largely due to weather-related issues like ice and low visibility.\n",
        "# 1946 and 1989 stand out as years with the highest number of accidents, including several disappearances, potentially due to the lack of technology like GPS and modern navigation systems.\n",
        "# The fatality rate in airplane crashes is generally much higher than the survival rate, which is often due to the size and impact force of the aircraft."
      ],
      "metadata": {
        "id": "iZ4lGqyn-BrZ"
      }
    },
    {
      "cell_type": "markdown",
      "source": [
        "By analyzing the countries with the highest number of aviation accidents, we observe that Russia has the highest number of accidents, with many of them being attributed to adverse weather conditions, including ice and poor visibility. Regarding accident frequency, we notice that the years with the highest number of incidents are 1946 and 1989. These years stand out as several disappearances were recorded, which could be linked to the limited technological capabilities at the time, such as GPS and other navigational aids. The lack of advanced technology and safety systems likely contributed to these tragic events.\n",
        "\n",
        "Additionally, we observe that the percentage of fatalities is consistently much higher than the number of survivors, which can be explained by the size, speed, and impact force of the aircraft. The magnitude of an airplane crash, particularly in earlier years with less advanced safety measures, often results in a significantly higher fatality rate."
      ],
      "metadata": {
        "id": "_Ihppa_r-WpN"
      }
    },
    {
      "cell_type": "code",
      "source": [],
      "metadata": {
        "id": "kD1CrC0D9C20"
      },
      "execution_count": null,
      "outputs": []
    }
  ]
}