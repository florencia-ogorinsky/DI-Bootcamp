{
  "nbformat": 4,
  "nbformat_minor": 0,
  "metadata": {
    "colab": {
      "provenance": []
    },
    "kernelspec": {
      "name": "python3",
      "display_name": "Python 3"
    },
    "language_info": {
      "name": "python"
    }
  },
  "cells": [
    {
      "cell_type": "markdown",
      "source": [
        "# **🌟 Exercise 1 : Exploratory Data Analysis**"
      ],
      "metadata": {
        "id": "3bLJwrh2FV4_"
      }
    },
    {
      "cell_type": "code",
      "execution_count": 47,
      "metadata": {
        "id": "41n7zo5zFO4I"
      },
      "outputs": [],
      "source": [
        "import pandas as pd\n",
        "data=pd.read_csv('dataset_heart.csv')"
      ]
    },
    {
      "cell_type": "code",
      "source": [
        "data.head()"
      ],
      "metadata": {
        "colab": {
          "base_uri": "https://localhost:8080/",
          "height": 224
        },
        "id": "OwLCrRcaF4hK",
        "outputId": "96d23bc4-ee06-4712-9768-c17815ce545b"
      },
      "execution_count": 48,
      "outputs": [
        {
          "output_type": "execute_result",
          "data": {
            "text/plain": [
              "   age  sex   chest pain type  resting blood pressure  serum cholestoral  \\\n",
              "0   70     1                4                     130                322   \n",
              "1   67     0                3                     115                564   \n",
              "2   57     1                2                     124                261   \n",
              "3   64     1                4                     128                263   \n",
              "4   74     0                2                     120                269   \n",
              "\n",
              "   fasting blood sugar  resting electrocardiographic results  max heart rate  \\\n",
              "0                    0                                     2             109   \n",
              "1                    0                                     2             160   \n",
              "2                    0                                     0             141   \n",
              "3                    0                                     0             105   \n",
              "4                    0                                     2             121   \n",
              "\n",
              "   exercise induced angina  oldpeak  ST segment  major vessels  thal  \\\n",
              "0                        0      2.4           2              3     3   \n",
              "1                        0      1.6           2              0     7   \n",
              "2                        0      0.3           1              0     7   \n",
              "3                        1      0.2           2              1     7   \n",
              "4                        1      0.2           1              1     3   \n",
              "\n",
              "   heart disease  \n",
              "0              2  \n",
              "1              1  \n",
              "2              2  \n",
              "3              1  \n",
              "4              1  "
            ],
            "text/html": [
              "\n",
              "  <div id=\"df-496fa584-8602-4706-8d82-bb3803291df4\" class=\"colab-df-container\">\n",
              "    <div>\n",
              "<style scoped>\n",
              "    .dataframe tbody tr th:only-of-type {\n",
              "        vertical-align: middle;\n",
              "    }\n",
              "\n",
              "    .dataframe tbody tr th {\n",
              "        vertical-align: top;\n",
              "    }\n",
              "\n",
              "    .dataframe thead th {\n",
              "        text-align: right;\n",
              "    }\n",
              "</style>\n",
              "<table border=\"1\" class=\"dataframe\">\n",
              "  <thead>\n",
              "    <tr style=\"text-align: right;\">\n",
              "      <th></th>\n",
              "      <th>age</th>\n",
              "      <th>sex</th>\n",
              "      <th>chest pain type</th>\n",
              "      <th>resting blood pressure</th>\n",
              "      <th>serum cholestoral</th>\n",
              "      <th>fasting blood sugar</th>\n",
              "      <th>resting electrocardiographic results</th>\n",
              "      <th>max heart rate</th>\n",
              "      <th>exercise induced angina</th>\n",
              "      <th>oldpeak</th>\n",
              "      <th>ST segment</th>\n",
              "      <th>major vessels</th>\n",
              "      <th>thal</th>\n",
              "      <th>heart disease</th>\n",
              "    </tr>\n",
              "  </thead>\n",
              "  <tbody>\n",
              "    <tr>\n",
              "      <th>0</th>\n",
              "      <td>70</td>\n",
              "      <td>1</td>\n",
              "      <td>4</td>\n",
              "      <td>130</td>\n",
              "      <td>322</td>\n",
              "      <td>0</td>\n",
              "      <td>2</td>\n",
              "      <td>109</td>\n",
              "      <td>0</td>\n",
              "      <td>2.4</td>\n",
              "      <td>2</td>\n",
              "      <td>3</td>\n",
              "      <td>3</td>\n",
              "      <td>2</td>\n",
              "    </tr>\n",
              "    <tr>\n",
              "      <th>1</th>\n",
              "      <td>67</td>\n",
              "      <td>0</td>\n",
              "      <td>3</td>\n",
              "      <td>115</td>\n",
              "      <td>564</td>\n",
              "      <td>0</td>\n",
              "      <td>2</td>\n",
              "      <td>160</td>\n",
              "      <td>0</td>\n",
              "      <td>1.6</td>\n",
              "      <td>2</td>\n",
              "      <td>0</td>\n",
              "      <td>7</td>\n",
              "      <td>1</td>\n",
              "    </tr>\n",
              "    <tr>\n",
              "      <th>2</th>\n",
              "      <td>57</td>\n",
              "      <td>1</td>\n",
              "      <td>2</td>\n",
              "      <td>124</td>\n",
              "      <td>261</td>\n",
              "      <td>0</td>\n",
              "      <td>0</td>\n",
              "      <td>141</td>\n",
              "      <td>0</td>\n",
              "      <td>0.3</td>\n",
              "      <td>1</td>\n",
              "      <td>0</td>\n",
              "      <td>7</td>\n",
              "      <td>2</td>\n",
              "    </tr>\n",
              "    <tr>\n",
              "      <th>3</th>\n",
              "      <td>64</td>\n",
              "      <td>1</td>\n",
              "      <td>4</td>\n",
              "      <td>128</td>\n",
              "      <td>263</td>\n",
              "      <td>0</td>\n",
              "      <td>0</td>\n",
              "      <td>105</td>\n",
              "      <td>1</td>\n",
              "      <td>0.2</td>\n",
              "      <td>2</td>\n",
              "      <td>1</td>\n",
              "      <td>7</td>\n",
              "      <td>1</td>\n",
              "    </tr>\n",
              "    <tr>\n",
              "      <th>4</th>\n",
              "      <td>74</td>\n",
              "      <td>0</td>\n",
              "      <td>2</td>\n",
              "      <td>120</td>\n",
              "      <td>269</td>\n",
              "      <td>0</td>\n",
              "      <td>2</td>\n",
              "      <td>121</td>\n",
              "      <td>1</td>\n",
              "      <td>0.2</td>\n",
              "      <td>1</td>\n",
              "      <td>1</td>\n",
              "      <td>3</td>\n",
              "      <td>1</td>\n",
              "    </tr>\n",
              "  </tbody>\n",
              "</table>\n",
              "</div>\n",
              "    <div class=\"colab-df-buttons\">\n",
              "\n",
              "  <div class=\"colab-df-container\">\n",
              "    <button class=\"colab-df-convert\" onclick=\"convertToInteractive('df-496fa584-8602-4706-8d82-bb3803291df4')\"\n",
              "            title=\"Convert this dataframe to an interactive table.\"\n",
              "            style=\"display:none;\">\n",
              "\n",
              "  <svg xmlns=\"http://www.w3.org/2000/svg\" height=\"24px\" viewBox=\"0 -960 960 960\">\n",
              "    <path d=\"M120-120v-720h720v720H120Zm60-500h600v-160H180v160Zm220 220h160v-160H400v160Zm0 220h160v-160H400v160ZM180-400h160v-160H180v160Zm440 0h160v-160H620v160ZM180-180h160v-160H180v160Zm440 0h160v-160H620v160Z\"/>\n",
              "  </svg>\n",
              "    </button>\n",
              "\n",
              "  <style>\n",
              "    .colab-df-container {\n",
              "      display:flex;\n",
              "      gap: 12px;\n",
              "    }\n",
              "\n",
              "    .colab-df-convert {\n",
              "      background-color: #E8F0FE;\n",
              "      border: none;\n",
              "      border-radius: 50%;\n",
              "      cursor: pointer;\n",
              "      display: none;\n",
              "      fill: #1967D2;\n",
              "      height: 32px;\n",
              "      padding: 0 0 0 0;\n",
              "      width: 32px;\n",
              "    }\n",
              "\n",
              "    .colab-df-convert:hover {\n",
              "      background-color: #E2EBFA;\n",
              "      box-shadow: 0px 1px 2px rgba(60, 64, 67, 0.3), 0px 1px 3px 1px rgba(60, 64, 67, 0.15);\n",
              "      fill: #174EA6;\n",
              "    }\n",
              "\n",
              "    .colab-df-buttons div {\n",
              "      margin-bottom: 4px;\n",
              "    }\n",
              "\n",
              "    [theme=dark] .colab-df-convert {\n",
              "      background-color: #3B4455;\n",
              "      fill: #D2E3FC;\n",
              "    }\n",
              "\n",
              "    [theme=dark] .colab-df-convert:hover {\n",
              "      background-color: #434B5C;\n",
              "      box-shadow: 0px 1px 3px 1px rgba(0, 0, 0, 0.15);\n",
              "      filter: drop-shadow(0px 1px 2px rgba(0, 0, 0, 0.3));\n",
              "      fill: #FFFFFF;\n",
              "    }\n",
              "  </style>\n",
              "\n",
              "    <script>\n",
              "      const buttonEl =\n",
              "        document.querySelector('#df-496fa584-8602-4706-8d82-bb3803291df4 button.colab-df-convert');\n",
              "      buttonEl.style.display =\n",
              "        google.colab.kernel.accessAllowed ? 'block' : 'none';\n",
              "\n",
              "      async function convertToInteractive(key) {\n",
              "        const element = document.querySelector('#df-496fa584-8602-4706-8d82-bb3803291df4');\n",
              "        const dataTable =\n",
              "          await google.colab.kernel.invokeFunction('convertToInteractive',\n",
              "                                                    [key], {});\n",
              "        if (!dataTable) return;\n",
              "\n",
              "        const docLinkHtml = 'Like what you see? Visit the ' +\n",
              "          '<a target=\"_blank\" href=https://colab.research.google.com/notebooks/data_table.ipynb>data table notebook</a>'\n",
              "          + ' to learn more about interactive tables.';\n",
              "        element.innerHTML = '';\n",
              "        dataTable['output_type'] = 'display_data';\n",
              "        await google.colab.output.renderOutput(dataTable, element);\n",
              "        const docLink = document.createElement('div');\n",
              "        docLink.innerHTML = docLinkHtml;\n",
              "        element.appendChild(docLink);\n",
              "      }\n",
              "    </script>\n",
              "  </div>\n",
              "\n",
              "\n",
              "<div id=\"df-cef5c6e0-f848-4a34-8da6-d8a5ffa4da59\">\n",
              "  <button class=\"colab-df-quickchart\" onclick=\"quickchart('df-cef5c6e0-f848-4a34-8da6-d8a5ffa4da59')\"\n",
              "            title=\"Suggest charts\"\n",
              "            style=\"display:none;\">\n",
              "\n",
              "<svg xmlns=\"http://www.w3.org/2000/svg\" height=\"24px\"viewBox=\"0 0 24 24\"\n",
              "     width=\"24px\">\n",
              "    <g>\n",
              "        <path d=\"M19 3H5c-1.1 0-2 .9-2 2v14c0 1.1.9 2 2 2h14c1.1 0 2-.9 2-2V5c0-1.1-.9-2-2-2zM9 17H7v-7h2v7zm4 0h-2V7h2v10zm4 0h-2v-4h2v4z\"/>\n",
              "    </g>\n",
              "</svg>\n",
              "  </button>\n",
              "\n",
              "<style>\n",
              "  .colab-df-quickchart {\n",
              "      --bg-color: #E8F0FE;\n",
              "      --fill-color: #1967D2;\n",
              "      --hover-bg-color: #E2EBFA;\n",
              "      --hover-fill-color: #174EA6;\n",
              "      --disabled-fill-color: #AAA;\n",
              "      --disabled-bg-color: #DDD;\n",
              "  }\n",
              "\n",
              "  [theme=dark] .colab-df-quickchart {\n",
              "      --bg-color: #3B4455;\n",
              "      --fill-color: #D2E3FC;\n",
              "      --hover-bg-color: #434B5C;\n",
              "      --hover-fill-color: #FFFFFF;\n",
              "      --disabled-bg-color: #3B4455;\n",
              "      --disabled-fill-color: #666;\n",
              "  }\n",
              "\n",
              "  .colab-df-quickchart {\n",
              "    background-color: var(--bg-color);\n",
              "    border: none;\n",
              "    border-radius: 50%;\n",
              "    cursor: pointer;\n",
              "    display: none;\n",
              "    fill: var(--fill-color);\n",
              "    height: 32px;\n",
              "    padding: 0;\n",
              "    width: 32px;\n",
              "  }\n",
              "\n",
              "  .colab-df-quickchart:hover {\n",
              "    background-color: var(--hover-bg-color);\n",
              "    box-shadow: 0 1px 2px rgba(60, 64, 67, 0.3), 0 1px 3px 1px rgba(60, 64, 67, 0.15);\n",
              "    fill: var(--button-hover-fill-color);\n",
              "  }\n",
              "\n",
              "  .colab-df-quickchart-complete:disabled,\n",
              "  .colab-df-quickchart-complete:disabled:hover {\n",
              "    background-color: var(--disabled-bg-color);\n",
              "    fill: var(--disabled-fill-color);\n",
              "    box-shadow: none;\n",
              "  }\n",
              "\n",
              "  .colab-df-spinner {\n",
              "    border: 2px solid var(--fill-color);\n",
              "    border-color: transparent;\n",
              "    border-bottom-color: var(--fill-color);\n",
              "    animation:\n",
              "      spin 1s steps(1) infinite;\n",
              "  }\n",
              "\n",
              "  @keyframes spin {\n",
              "    0% {\n",
              "      border-color: transparent;\n",
              "      border-bottom-color: var(--fill-color);\n",
              "      border-left-color: var(--fill-color);\n",
              "    }\n",
              "    20% {\n",
              "      border-color: transparent;\n",
              "      border-left-color: var(--fill-color);\n",
              "      border-top-color: var(--fill-color);\n",
              "    }\n",
              "    30% {\n",
              "      border-color: transparent;\n",
              "      border-left-color: var(--fill-color);\n",
              "      border-top-color: var(--fill-color);\n",
              "      border-right-color: var(--fill-color);\n",
              "    }\n",
              "    40% {\n",
              "      border-color: transparent;\n",
              "      border-right-color: var(--fill-color);\n",
              "      border-top-color: var(--fill-color);\n",
              "    }\n",
              "    60% {\n",
              "      border-color: transparent;\n",
              "      border-right-color: var(--fill-color);\n",
              "    }\n",
              "    80% {\n",
              "      border-color: transparent;\n",
              "      border-right-color: var(--fill-color);\n",
              "      border-bottom-color: var(--fill-color);\n",
              "    }\n",
              "    90% {\n",
              "      border-color: transparent;\n",
              "      border-bottom-color: var(--fill-color);\n",
              "    }\n",
              "  }\n",
              "</style>\n",
              "\n",
              "  <script>\n",
              "    async function quickchart(key) {\n",
              "      const quickchartButtonEl =\n",
              "        document.querySelector('#' + key + ' button');\n",
              "      quickchartButtonEl.disabled = true;  // To prevent multiple clicks.\n",
              "      quickchartButtonEl.classList.add('colab-df-spinner');\n",
              "      try {\n",
              "        const charts = await google.colab.kernel.invokeFunction(\n",
              "            'suggestCharts', [key], {});\n",
              "      } catch (error) {\n",
              "        console.error('Error during call to suggestCharts:', error);\n",
              "      }\n",
              "      quickchartButtonEl.classList.remove('colab-df-spinner');\n",
              "      quickchartButtonEl.classList.add('colab-df-quickchart-complete');\n",
              "    }\n",
              "    (() => {\n",
              "      let quickchartButtonEl =\n",
              "        document.querySelector('#df-cef5c6e0-f848-4a34-8da6-d8a5ffa4da59 button');\n",
              "      quickchartButtonEl.style.display =\n",
              "        google.colab.kernel.accessAllowed ? 'block' : 'none';\n",
              "    })();\n",
              "  </script>\n",
              "</div>\n",
              "\n",
              "    </div>\n",
              "  </div>\n"
            ],
            "application/vnd.google.colaboratory.intrinsic+json": {
              "type": "dataframe",
              "variable_name": "data",
              "summary": "{\n  \"name\": \"data\",\n  \"rows\": 270,\n  \"fields\": [\n    {\n      \"column\": \"age\",\n      \"properties\": {\n        \"dtype\": \"number\",\n        \"std\": 9,\n        \"min\": 29,\n        \"max\": 77,\n        \"num_unique_values\": 41,\n        \"samples\": [\n          50,\n          71,\n          60\n        ],\n        \"semantic_type\": \"\",\n        \"description\": \"\"\n      }\n    },\n    {\n      \"column\": \"sex \",\n      \"properties\": {\n        \"dtype\": \"number\",\n        \"std\": 0,\n        \"min\": 0,\n        \"max\": 1,\n        \"num_unique_values\": 2,\n        \"samples\": [\n          0,\n          1\n        ],\n        \"semantic_type\": \"\",\n        \"description\": \"\"\n      }\n    },\n    {\n      \"column\": \"chest pain type\",\n      \"properties\": {\n        \"dtype\": \"number\",\n        \"std\": 0,\n        \"min\": 1,\n        \"max\": 4,\n        \"num_unique_values\": 4,\n        \"samples\": [\n          3,\n          1\n        ],\n        \"semantic_type\": \"\",\n        \"description\": \"\"\n      }\n    },\n    {\n      \"column\": \"resting blood pressure\",\n      \"properties\": {\n        \"dtype\": \"number\",\n        \"std\": 17,\n        \"min\": 94,\n        \"max\": 200,\n        \"num_unique_values\": 47,\n        \"samples\": [\n          156,\n          200\n        ],\n        \"semantic_type\": \"\",\n        \"description\": \"\"\n      }\n    },\n    {\n      \"column\": \"serum cholestoral\",\n      \"properties\": {\n        \"dtype\": \"number\",\n        \"std\": 51,\n        \"min\": 126,\n        \"max\": 564,\n        \"num_unique_values\": 144,\n        \"samples\": [\n          255,\n          229\n        ],\n        \"semantic_type\": \"\",\n        \"description\": \"\"\n      }\n    },\n    {\n      \"column\": \"fasting blood sugar\",\n      \"properties\": {\n        \"dtype\": \"number\",\n        \"std\": 0,\n        \"min\": 0,\n        \"max\": 1,\n        \"num_unique_values\": 2,\n        \"samples\": [\n          1,\n          0\n        ],\n        \"semantic_type\": \"\",\n        \"description\": \"\"\n      }\n    },\n    {\n      \"column\": \"resting electrocardiographic results\",\n      \"properties\": {\n        \"dtype\": \"number\",\n        \"std\": 0,\n        \"min\": 0,\n        \"max\": 2,\n        \"num_unique_values\": 3,\n        \"samples\": [\n          2,\n          0\n        ],\n        \"semantic_type\": \"\",\n        \"description\": \"\"\n      }\n    },\n    {\n      \"column\": \"max heart rate\",\n      \"properties\": {\n        \"dtype\": \"number\",\n        \"std\": 23,\n        \"min\": 71,\n        \"max\": 202,\n        \"num_unique_values\": 90,\n        \"samples\": [\n          96,\n          139\n        ],\n        \"semantic_type\": \"\",\n        \"description\": \"\"\n      }\n    },\n    {\n      \"column\": \"exercise induced angina\",\n      \"properties\": {\n        \"dtype\": \"number\",\n        \"std\": 0,\n        \"min\": 0,\n        \"max\": 1,\n        \"num_unique_values\": 2,\n        \"samples\": [\n          1,\n          0\n        ],\n        \"semantic_type\": \"\",\n        \"description\": \"\"\n      }\n    },\n    {\n      \"column\": \"oldpeak\",\n      \"properties\": {\n        \"dtype\": \"number\",\n        \"std\": 1.1452098393779975,\n        \"min\": 0.0,\n        \"max\": 6.2,\n        \"num_unique_values\": 39,\n        \"samples\": [\n          2.1,\n          3.5\n        ],\n        \"semantic_type\": \"\",\n        \"description\": \"\"\n      }\n    },\n    {\n      \"column\": \"ST segment\",\n      \"properties\": {\n        \"dtype\": \"number\",\n        \"std\": 0,\n        \"min\": 1,\n        \"max\": 3,\n        \"num_unique_values\": 3,\n        \"samples\": [\n          2,\n          1\n        ],\n        \"semantic_type\": \"\",\n        \"description\": \"\"\n      }\n    },\n    {\n      \"column\": \"major vessels\",\n      \"properties\": {\n        \"dtype\": \"number\",\n        \"std\": 0,\n        \"min\": 0,\n        \"max\": 3,\n        \"num_unique_values\": 4,\n        \"samples\": [\n          0,\n          2\n        ],\n        \"semantic_type\": \"\",\n        \"description\": \"\"\n      }\n    },\n    {\n      \"column\": \"thal\",\n      \"properties\": {\n        \"dtype\": \"number\",\n        \"std\": 1,\n        \"min\": 3,\n        \"max\": 7,\n        \"num_unique_values\": 3,\n        \"samples\": [\n          3,\n          7\n        ],\n        \"semantic_type\": \"\",\n        \"description\": \"\"\n      }\n    },\n    {\n      \"column\": \"heart disease\",\n      \"properties\": {\n        \"dtype\": \"number\",\n        \"std\": 0,\n        \"min\": 1,\n        \"max\": 2,\n        \"num_unique_values\": 2,\n        \"samples\": [\n          1,\n          2\n        ],\n        \"semantic_type\": \"\",\n        \"description\": \"\"\n      }\n    }\n  ]\n}"
            }
          },
          "metadata": {},
          "execution_count": 48
        }
      ]
    },
    {
      "cell_type": "code",
      "source": [
        "from sklearn.model_selection import train_test_split\n",
        "\n",
        "y=data['heart disease']\n",
        "y=y-1\n",
        "\n",
        "X=data.drop('heart disease',axis=1)\n",
        "\n",
        "X_train, X_test, y_train, y_test = train_test_split(X, y, test_size=0.3, random_state=42)\n",
        "\n",
        "print(X_train.shape)\n",
        "print(X_test.shape)\n",
        "print(y_train.shape)\n",
        "print(y_test.shape)\n",
        "print(X_train.describe())\n",
        "print(X_test.describe())"
      ],
      "metadata": {
        "colab": {
          "base_uri": "https://localhost:8080/"
        },
        "id": "e9b1DsnCF6fV",
        "outputId": "d0292466-e097-4358-fea8-af2633bf2214"
      },
      "execution_count": 49,
      "outputs": [
        {
          "output_type": "stream",
          "name": "stdout",
          "text": [
            "(189, 13)\n",
            "(81, 13)\n",
            "(189,)\n",
            "(81,)\n",
            "              age        sex   chest pain type  resting blood pressure  \\\n",
            "count  189.000000  189.000000       189.000000              189.000000   \n",
            "mean    54.751323    0.693122         3.211640              131.809524   \n",
            "std      9.132393    0.462423         0.966278               17.952233   \n",
            "min     29.000000    0.000000         1.000000               94.000000   \n",
            "25%     48.000000    0.000000         3.000000              120.000000   \n",
            "50%     56.000000    1.000000         4.000000              130.000000   \n",
            "75%     62.000000    1.000000         4.000000              140.000000   \n",
            "max     74.000000    1.000000         4.000000              200.000000   \n",
            "\n",
            "       serum cholestoral  fasting blood sugar  \\\n",
            "count         189.000000           189.000000   \n",
            "mean          251.529101             0.137566   \n",
            "std            52.554890             0.345359   \n",
            "min           141.000000             0.000000   \n",
            "25%           215.000000             0.000000   \n",
            "50%           244.000000             0.000000   \n",
            "75%           282.000000             0.000000   \n",
            "max           564.000000             1.000000   \n",
            "\n",
            "       resting electrocardiographic results  max heart rate  \\\n",
            "count                            189.000000      189.000000   \n",
            "mean                               1.042328      149.317460   \n",
            "std                                0.999099       22.877443   \n",
            "min                                0.000000       88.000000   \n",
            "25%                                0.000000      132.000000   \n",
            "50%                                2.000000      154.000000   \n",
            "75%                                2.000000      166.000000   \n",
            "max                                2.000000      202.000000   \n",
            "\n",
            "       exercise induced angina     oldpeak  ST segment  major vessels  \\\n",
            "count               189.000000  189.000000  189.000000     189.000000   \n",
            "mean                  0.370370    1.155556    1.608466       0.698413   \n",
            "std                   0.484186    1.195707    0.614655       0.967035   \n",
            "min                   0.000000    0.000000    1.000000       0.000000   \n",
            "25%                   0.000000    0.000000    1.000000       0.000000   \n",
            "50%                   0.000000    1.000000    2.000000       0.000000   \n",
            "75%                   1.000000    1.800000    2.000000       1.000000   \n",
            "max                   1.000000    6.200000    3.000000       3.000000   \n",
            "\n",
            "             thal  \n",
            "count  189.000000  \n",
            "mean     4.783069  \n",
            "std      1.948957  \n",
            "min      3.000000  \n",
            "25%      3.000000  \n",
            "50%      3.000000  \n",
            "75%      7.000000  \n",
            "max      7.000000  \n",
            "             age       sex   chest pain type  resting blood pressure  \\\n",
            "count  81.000000  81.000000        81.000000               81.000000   \n",
            "mean   53.691358   0.641975         3.086420              130.259259   \n",
            "std     9.067307   0.482407         0.911009               17.711421   \n",
            "min    35.000000   0.000000         1.000000               94.000000   \n",
            "25%    46.000000   0.000000         3.000000              120.000000   \n",
            "50%    54.000000   1.000000         3.000000              130.000000   \n",
            "75%    59.000000   1.000000         4.000000              140.000000   \n",
            "max    77.000000   1.000000         4.000000              192.000000   \n",
            "\n",
            "       serum cholestoral  fasting blood sugar  \\\n",
            "count          81.000000            81.000000   \n",
            "mean          245.296296             0.172840   \n",
            "std            49.644094             0.380464   \n",
            "min           126.000000             0.000000   \n",
            "25%           208.000000             0.000000   \n",
            "50%           249.000000             0.000000   \n",
            "75%           273.000000             0.000000   \n",
            "max           407.000000             1.000000   \n",
            "\n",
            "       resting electrocardiographic results  max heart rate  \\\n",
            "count                             81.000000       81.000000   \n",
            "mean                               0.975309      150.518519   \n",
            "std                                0.999691       23.948440   \n",
            "min                                0.000000       71.000000   \n",
            "25%                                0.000000      138.000000   \n",
            "50%                                0.000000      153.000000   \n",
            "75%                                2.000000      167.000000   \n",
            "max                                2.000000      195.000000   \n",
            "\n",
            "       exercise induced angina    oldpeak  ST segment  major vessels  \\\n",
            "count                81.000000  81.000000   81.000000      81.000000   \n",
            "mean                  0.234568   0.803704    1.530864       0.604938   \n",
            "std                   0.426369   0.981000    0.614134       0.889930   \n",
            "min                   0.000000   0.000000    1.000000       0.000000   \n",
            "25%                   0.000000   0.000000    1.000000       0.000000   \n",
            "50%                   0.000000   0.500000    1.000000       0.000000   \n",
            "75%                   0.000000   1.400000    2.000000       1.000000   \n",
            "max                   1.000000   4.000000    3.000000       3.000000   \n",
            "\n",
            "            thal  \n",
            "count  81.000000  \n",
            "mean    4.493827  \n",
            "std     1.917834  \n",
            "min     3.000000  \n",
            "25%     3.000000  \n",
            "50%     3.000000  \n",
            "75%     7.000000  \n",
            "max     7.000000  \n"
          ]
        }
      ]
    },
    {
      "cell_type": "markdown",
      "source": [
        "# **We replace heart disease to 1 and 0 instead of 2 and 1 so we can analyze and apply Logistic Regression**"
      ],
      "metadata": {
        "id": "zQMOYBOyJdFH"
      }
    },
    {
      "cell_type": "markdown",
      "source": [
        "# **🌟 Exercise 2 : Logistic Regression without Grid Search**"
      ],
      "metadata": {
        "id": "KzzFIheHJzqq"
      }
    },
    {
      "cell_type": "code",
      "source": [
        "from sklearn.metrics import accuracy_score\n",
        "\n",
        "from sklearn.linear_model import LogisticRegression\n",
        "\n",
        "log_reg = LogisticRegression()\n",
        "log_reg.fit(X_train, y_train)\n",
        "\n",
        "y_pred = log_reg.predict(X_test)\n",
        "\n",
        "print('Accuracy of logistic regression',{accuracy_score(y_test, y_pred)})\n"
      ],
      "metadata": {
        "colab": {
          "base_uri": "https://localhost:8080/"
        },
        "id": "v5J74nqvJoNR",
        "outputId": "2f09b7bd-4741-4632-b8fd-47974a250f40"
      },
      "execution_count": 50,
      "outputs": [
        {
          "output_type": "stream",
          "name": "stdout",
          "text": [
            "Accuracy of logistic regression {0.8641975308641975}\n"
          ]
        },
        {
          "output_type": "stream",
          "name": "stderr",
          "text": [
            "/usr/local/lib/python3.11/dist-packages/sklearn/linear_model/_logistic.py:465: ConvergenceWarning: lbfgs failed to converge (status=1):\n",
            "STOP: TOTAL NO. of ITERATIONS REACHED LIMIT.\n",
            "\n",
            "Increase the number of iterations (max_iter) or scale the data as shown in:\n",
            "    https://scikit-learn.org/stable/modules/preprocessing.html\n",
            "Please also refer to the documentation for alternative solver options:\n",
            "    https://scikit-learn.org/stable/modules/linear_model.html#logistic-regression\n",
            "  n_iter_i = _check_optimize_result(\n"
          ]
        }
      ]
    },
    {
      "cell_type": "markdown",
      "source": [
        "# **This model of logistic regression has accuracy of 86%, which means it predicted good that percentage of the test. But accuracy is not very important in a model like this, because it can mean that detected 86% good because 86% didnt have heart disease**"
      ],
      "metadata": {
        "id": "0l_b7x5_LqHm"
      }
    },
    {
      "cell_type": "code",
      "source": [
        "from sklearn.model_selection import cross_val_score\n",
        "\n",
        "cv_scores = cross_val_score(LogisticRegression(), X, y, cv=5)\n",
        "print(f\"Cross-validation accuracy scores: {cv_scores}\")\n",
        "print(f\"Mean cross-validation accuracy: {cv_scores.mean()}\")"
      ],
      "metadata": {
        "colab": {
          "base_uri": "https://localhost:8080/"
        },
        "id": "YQB_2t3TLaR6",
        "outputId": "1117dfd4-be64-452c-99d8-a9bb55974ed5"
      },
      "execution_count": 51,
      "outputs": [
        {
          "output_type": "stream",
          "name": "stdout",
          "text": [
            "Cross-validation accuracy scores: [0.83333333 0.85185185 0.85185185 0.85185185 0.87037037]\n",
            "Mean cross-validation accuracy: 0.8518518518518519\n"
          ]
        },
        {
          "output_type": "stream",
          "name": "stderr",
          "text": [
            "/usr/local/lib/python3.11/dist-packages/sklearn/linear_model/_logistic.py:465: ConvergenceWarning: lbfgs failed to converge (status=1):\n",
            "STOP: TOTAL NO. of ITERATIONS REACHED LIMIT.\n",
            "\n",
            "Increase the number of iterations (max_iter) or scale the data as shown in:\n",
            "    https://scikit-learn.org/stable/modules/preprocessing.html\n",
            "Please also refer to the documentation for alternative solver options:\n",
            "    https://scikit-learn.org/stable/modules/linear_model.html#logistic-regression\n",
            "  n_iter_i = _check_optimize_result(\n",
            "/usr/local/lib/python3.11/dist-packages/sklearn/linear_model/_logistic.py:465: ConvergenceWarning: lbfgs failed to converge (status=1):\n",
            "STOP: TOTAL NO. of ITERATIONS REACHED LIMIT.\n",
            "\n",
            "Increase the number of iterations (max_iter) or scale the data as shown in:\n",
            "    https://scikit-learn.org/stable/modules/preprocessing.html\n",
            "Please also refer to the documentation for alternative solver options:\n",
            "    https://scikit-learn.org/stable/modules/linear_model.html#logistic-regression\n",
            "  n_iter_i = _check_optimize_result(\n",
            "/usr/local/lib/python3.11/dist-packages/sklearn/linear_model/_logistic.py:465: ConvergenceWarning: lbfgs failed to converge (status=1):\n",
            "STOP: TOTAL NO. of ITERATIONS REACHED LIMIT.\n",
            "\n",
            "Increase the number of iterations (max_iter) or scale the data as shown in:\n",
            "    https://scikit-learn.org/stable/modules/preprocessing.html\n",
            "Please also refer to the documentation for alternative solver options:\n",
            "    https://scikit-learn.org/stable/modules/linear_model.html#logistic-regression\n",
            "  n_iter_i = _check_optimize_result(\n",
            "/usr/local/lib/python3.11/dist-packages/sklearn/linear_model/_logistic.py:465: ConvergenceWarning: lbfgs failed to converge (status=1):\n",
            "STOP: TOTAL NO. of ITERATIONS REACHED LIMIT.\n",
            "\n",
            "Increase the number of iterations (max_iter) or scale the data as shown in:\n",
            "    https://scikit-learn.org/stable/modules/preprocessing.html\n",
            "Please also refer to the documentation for alternative solver options:\n",
            "    https://scikit-learn.org/stable/modules/linear_model.html#logistic-regression\n",
            "  n_iter_i = _check_optimize_result(\n",
            "/usr/local/lib/python3.11/dist-packages/sklearn/linear_model/_logistic.py:465: ConvergenceWarning: lbfgs failed to converge (status=1):\n",
            "STOP: TOTAL NO. of ITERATIONS REACHED LIMIT.\n",
            "\n",
            "Increase the number of iterations (max_iter) or scale the data as shown in:\n",
            "    https://scikit-learn.org/stable/modules/preprocessing.html\n",
            "Please also refer to the documentation for alternative solver options:\n",
            "    https://scikit-learn.org/stable/modules/linear_model.html#logistic-regression\n",
            "  n_iter_i = _check_optimize_result(\n"
          ]
        }
      ]
    },
    {
      "cell_type": "markdown",
      "source": [
        "# **We divided the data in 5 and repeat the process. We can see the mean is 85% accuracy**"
      ],
      "metadata": {
        "id": "jSuwS6nBMz_I"
      }
    },
    {
      "cell_type": "markdown",
      "source": [
        "# **🌟 Exercise 3 : Logistic Regression with Grid Search**"
      ],
      "metadata": {
        "id": "Q1uoFGHmNZ3L"
      }
    },
    {
      "cell_type": "code",
      "source": [
        "from sklearn.preprocessing import StandardScaler\n",
        "from sklearn.model_selection import GridSearchCV\n",
        "\n",
        "scaler = StandardScaler()\n",
        "X_train = scaler.fit_transform(X_train)\n",
        "X_test = scaler.transform(X_test)\n",
        "\n",
        "param_grid = {\n",
        "    'C': [0.001, 0.01, 0.1, 1, 10, 100, 1000],\n",
        "    'penalty': ['l1', 'l2'],\n",
        "    'solver': ['liblinear']}\n",
        "\n",
        "\n",
        "log_reg = LogisticRegression()\n",
        "grid_search = GridSearchCV(log_reg, param_grid, cv=5)\n",
        "grid_search.fit(X_train, y_train)\n",
        "\n",
        "#best model\n",
        "best_log_reg = grid_search.best_estimator_\n",
        "y_pred = best_log_reg.predict(X_test)\n",
        "accuracy = accuracy_score(y_test, y_pred)\n",
        "print(f\"LR Accuracy (with Grid): {accuracy}\")\n",
        "\n",
        "# best hyperparameters\n",
        "print(f\"best hyperparameters: {grid_search.best_params_}\")"
      ],
      "metadata": {
        "colab": {
          "base_uri": "https://localhost:8080/"
        },
        "id": "JNimrPvdNfTW",
        "outputId": "c687fd98-23c5-4955-b371-ef7bc2ad561c"
      },
      "execution_count": 52,
      "outputs": [
        {
          "output_type": "stream",
          "name": "stdout",
          "text": [
            "LR Accuracy (with Grid): 0.8271604938271605\n",
            "best hyperparameters: {'C': 0.1, 'penalty': 'l2', 'solver': 'liblinear'}\n"
          ]
        }
      ]
    },
    {
      "cell_type": "markdown",
      "source": [
        "# **After the model was optimized with grid search accuracy is now 82%. We are not giving this high relevance because accuracy is not the best metric to evaluate the model. We will analyze some other metrics like precision or recall later on**"
      ],
      "metadata": {
        "id": "NCHGF5kFPhho"
      }
    },
    {
      "cell_type": "markdown",
      "source": [
        "# **smaller C means the model is simpler and less flexible, and big C is more  flexible and has more capacity to learn. Our C is pretty small which means that is not very flexible but also not overfitting. Is using liblinear cause is usefull for small/medium dataset. L2 gives weight to features, if weight is too high it does weight^2, so the model wont be overfitt to train data**"
      ],
      "metadata": {
        "id": "TmzylOngPhgh"
      }
    },
    {
      "cell_type": "markdown",
      "source": [
        "# **🌟 Exercise 4 : SVM without Grid Search**"
      ],
      "metadata": {
        "id": "f2oWBXTzkk9w"
      }
    },
    {
      "cell_type": "code",
      "source": [
        "from sklearn.svm import SVC\n",
        "\n",
        "svm_clf = SVC(kernel='linear', C=1.0)\n",
        "svm_clf.fit(X_train, y_train)\n",
        "\n",
        "y_pred = svm_clf.predict(X_test)\n",
        "accuracy = accuracy_score(y_test, y_pred)\n",
        "\n",
        "print(f\"SVM accuracy: {accuracy:.2f}\")"
      ],
      "metadata": {
        "colab": {
          "base_uri": "https://localhost:8080/"
        },
        "id": "X7pCQ8_-OkyC",
        "outputId": "fe043822-35ee-497c-b580-b8ec752bdc3c"
      },
      "execution_count": 53,
      "outputs": [
        {
          "output_type": "stream",
          "name": "stdout",
          "text": [
            "SVM accuracy: 0.84\n"
          ]
        }
      ]
    },
    {
      "cell_type": "markdown",
      "source": [
        "## **The accuracy is similar to what we obtained before, altough a bit smaller than with logistic regression. Is still not the best metric to test a model with binary target such as heart disease yes or no.**"
      ],
      "metadata": {
        "id": "OvutkOg3lgEQ"
      }
    },
    {
      "cell_type": "markdown",
      "source": [
        "# **🌟 Exercise 5 : SVM with Grid Search**"
      ],
      "metadata": {
        "id": "kaUSiNzomCl_"
      }
    },
    {
      "cell_type": "code",
      "source": [
        "param_grid = {'C': [0.001, 0.01, 0.1, 1, 10, 100, 1000],\n",
        "    'kernel': ['linear', 'rbf', 'poly'],\n",
        "    'gamma': ['scale', 'auto']}"
      ],
      "metadata": {
        "id": "zqwOK9J_l71Y"
      },
      "execution_count": 54,
      "outputs": []
    },
    {
      "cell_type": "markdown",
      "source": [
        "# **We are trying a few values in C to see which gives better result to not overfitt the model. In kernel we give different ways of finding a separation between classes of values. and gamma affect the area of decision (distance or margin between the line and values taken)**"
      ],
      "metadata": {
        "id": "mNh989Vvu1qJ"
      }
    },
    {
      "cell_type": "code",
      "source": [
        "grid_search = GridSearchCV(SVC(), param_grid, cv=5)\n",
        "grid_search.fit(X_train, y_train)\n",
        "\n",
        "# best model\n",
        "best_svm_clf = grid_search.best_estimator_\n",
        "y_pred = best_svm_clf.predict(X_test)\n",
        "accuracy = accuracy_score(y_test, y_pred)\n",
        "\n",
        "print(f\"SVM accuracy: {accuracy:.2f}\")\n",
        "print(f\"best parameters: {grid_search.best_params_}\")"
      ],
      "metadata": {
        "colab": {
          "base_uri": "https://localhost:8080/"
        },
        "id": "j5C_x5gzuyrn",
        "outputId": "0d2d4eff-89c5-43a8-8ab4-b937cfdfaa8a"
      },
      "execution_count": 55,
      "outputs": [
        {
          "output_type": "stream",
          "name": "stdout",
          "text": [
            "SVM accuracy: 0.83\n",
            "best parameters: {'C': 1, 'gamma': 'scale', 'kernel': 'rbf'}\n"
          ]
        }
      ]
    },
    {
      "cell_type": "markdown",
      "source": [
        "# **The value of C is in the middle of the values we gave so we can say there is a good balance between adjusting the model without overfitting it. Gamma scale works better for this model, and the kernel rbf because is non linear and flexible with data that is no linearly separable**"
      ],
      "metadata": {
        "id": "omh6Lc-fw7Wy"
      }
    },
    {
      "cell_type": "markdown",
      "source": [
        "# **🌟 Exercise 6 : XGBoost without Grid Search**"
      ],
      "metadata": {
        "id": "yjV3WfJzx3KR"
      }
    },
    {
      "cell_type": "code",
      "source": [
        "import xgboost as xgb\n",
        "\n",
        "xgb_clf = xgb.XGBClassifier(\n",
        "    learning_rate=0.3,\n",
        "    n_estimators=80,\n",
        "    max_depth=6,\n",
        "    subsample=0.7,\n",
        "    colsample_bytree=0.7,\n",
        "    random_state=100\n",
        ")\n",
        "\n",
        "xgb_clf.fit(X_train, y_train)\n",
        "\n",
        "y_pred = xgb_clf.predict(X_test)\n",
        "accuracy = accuracy_score(y_test, y_pred)\n",
        "\n",
        "print(f\"XGBoost Accuracy: {accuracy:.2f}\")\n"
      ],
      "metadata": {
        "colab": {
          "base_uri": "https://localhost:8080/"
        },
        "id": "kTlMfbNVF_fE",
        "outputId": "5774c742-4a8f-4c02-9e45-457b4ecee3a5"
      },
      "execution_count": 60,
      "outputs": [
        {
          "output_type": "stream",
          "name": "stdout",
          "text": [
            "XGBoost Accuracy: 0.80\n"
          ]
        }
      ]
    },
    {
      "cell_type": "markdown",
      "source": [
        "# **🌟 Exercise 7 : XGBoost with Grid Search**"
      ],
      "metadata": {
        "id": "BHSLpPQLRPqE"
      }
    },
    {
      "cell_type": "code",
      "source": [
        "param_grid = {\n",
        "    'learning_rate': [0.01, 0.1, 0.2],\n",
        "    'n_estimators': [50, 100, 200],\n",
        "    'max_depth': [3, 4, 5],\n",
        "    'subsample': [0.8, 0.9, 1.0],\n",
        "    'colsample_bytree': [0.8, 0.9, 1.0]\n",
        "}\n",
        "\n",
        "xgb_clf = xgb.XGBClassifier()\n",
        "\n",
        "grid_search = GridSearchCV(xgb_clf, param_grid, cv=5, n_jobs=-1, verbose=1)\n",
        "\n",
        "grid_search.fit(X_train, y_train)\n",
        "\n",
        "#best estimator\n",
        "best_xgb_clf = grid_search.best_estimator_\n",
        "\n",
        "y_pred = best_xgb_clf.predict(X_test)\n",
        "\n",
        "accuracy = accuracy_score(y_test, y_pred)\n",
        "print(f\"accuracy: {accuracy}\")"
      ],
      "metadata": {
        "colab": {
          "base_uri": "https://localhost:8080/"
        },
        "id": "W8PJDPKYFoRK",
        "outputId": "36677bcb-77e0-4fca-dd5c-b40f5986c730"
      },
      "execution_count": 57,
      "outputs": [
        {
          "output_type": "stream",
          "name": "stdout",
          "text": [
            "Fitting 5 folds for each of 243 candidates, totalling 1215 fits\n",
            "XGBoost Accuracy with Grid Search: 0.8148148148148148\n"
          ]
        }
      ]
    },
    {
      "cell_type": "markdown",
      "source": [
        "# **Here we also divided the data in 5 groups. 1 will be the test and the rest the training and will repeat the process 5 times. We are testing 243 different combinations of parameters(Hyperparameters) to check which combinations are better to predict our target. Is better to use grid cause is more precise and we dont know which combinations of parameters could predict better our target. We can see here accuracy is a bit higher than doing manually so we reinforce that using grid is more efficient**"
      ],
      "metadata": {
        "id": "ob_Lnf4NO-CJ"
      }
    },
    {
      "cell_type": "code",
      "source": [],
      "metadata": {
        "id": "jV2UbPDISBfh"
      },
      "execution_count": null,
      "outputs": []
    }
  ]
}