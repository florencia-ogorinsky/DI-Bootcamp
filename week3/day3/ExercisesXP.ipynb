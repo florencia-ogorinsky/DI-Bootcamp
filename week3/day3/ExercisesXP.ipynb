{
  "nbformat": 4,
  "nbformat_minor": 0,
  "metadata": {
    "colab": {
      "provenance": []
    },
    "kernelspec": {
      "name": "python3",
      "display_name": "Python 3"
    },
    "language_info": {
      "name": "python"
    }
  },
  "cells": [
    {
      "cell_type": "markdown",
      "source": [
        "# **EXERCISES XP**"
      ],
      "metadata": {
        "id": "5IyHF-JbXFli"
      }
    },
    {
      "cell_type": "markdown",
      "source": [
        "# **Exercise 1: Duplicate Detection and Removal**"
      ],
      "metadata": {
        "id": "JAmaJnmNXOSA"
      }
    },
    {
      "cell_type": "code",
      "execution_count": 67,
      "metadata": {
        "id": "IXQukBzBKzKp"
      },
      "outputs": [],
      "source": [
        "import pandas as pd"
      ]
    },
    {
      "cell_type": "code",
      "source": [
        "\n",
        "titanic_data = pd.read_csv('train.csv')\n",
        "\n",
        "print(titanic_data.head())\n",
        "print(titanic_data.info())"
      ],
      "metadata": {
        "colab": {
          "base_uri": "https://localhost:8080/"
        },
        "collapsed": true,
        "id": "5jvOcS2SK8eU",
        "outputId": "129b0f4e-cc8f-4c66-cb0a-ace8600a62e2"
      },
      "execution_count": 68,
      "outputs": [
        {
          "output_type": "stream",
          "name": "stdout",
          "text": [
            "   PassengerId  Survived  Pclass  \\\n",
            "0            1         0       3   \n",
            "1            2         1       1   \n",
            "2            3         1       3   \n",
            "3            4         1       1   \n",
            "4            5         0       3   \n",
            "\n",
            "                                                Name     Sex   Age  SibSp  \\\n",
            "0                            Braund, Mr. Owen Harris    male  22.0      1   \n",
            "1  Cumings, Mrs. John Bradley (Florence Briggs Th...  female  38.0      1   \n",
            "2                             Heikkinen, Miss. Laina  female  26.0      0   \n",
            "3       Futrelle, Mrs. Jacques Heath (Lily May Peel)  female  35.0      1   \n",
            "4                           Allen, Mr. William Henry    male  35.0      0   \n",
            "\n",
            "   Parch            Ticket     Fare Cabin Embarked  \n",
            "0      0         A/5 21171   7.2500   NaN        S  \n",
            "1      0          PC 17599  71.2833   C85        C  \n",
            "2      0  STON/O2. 3101282   7.9250   NaN        S  \n",
            "3      0            113803  53.1000  C123        S  \n",
            "4      0            373450   8.0500   NaN        S  \n",
            "<class 'pandas.core.frame.DataFrame'>\n",
            "RangeIndex: 891 entries, 0 to 890\n",
            "Data columns (total 12 columns):\n",
            " #   Column       Non-Null Count  Dtype  \n",
            "---  ------       --------------  -----  \n",
            " 0   PassengerId  891 non-null    int64  \n",
            " 1   Survived     891 non-null    int64  \n",
            " 2   Pclass       891 non-null    int64  \n",
            " 3   Name         891 non-null    object \n",
            " 4   Sex          891 non-null    object \n",
            " 5   Age          714 non-null    float64\n",
            " 6   SibSp        891 non-null    int64  \n",
            " 7   Parch        891 non-null    int64  \n",
            " 8   Ticket       891 non-null    object \n",
            " 9   Fare         891 non-null    float64\n",
            " 10  Cabin        204 non-null    object \n",
            " 11  Embarked     889 non-null    object \n",
            "dtypes: float64(2), int64(5), object(5)\n",
            "memory usage: 83.7+ KB\n",
            "None\n"
          ]
        }
      ]
    },
    {
      "cell_type": "code",
      "source": [
        "# Remove duplicate rows\n",
        "titanic_data= titanic_data.drop_duplicates()\n",
        "\n",
        "# Verify duplicates are removed\n",
        "print(titanic_data.duplicated().sum())\n",
        "\n",
        "print(titanic_data.drop_duplicates())\n",
        "\n"
      ],
      "metadata": {
        "colab": {
          "base_uri": "https://localhost:8080/"
        },
        "collapsed": true,
        "id": "ztpLRJELOgHZ",
        "outputId": "4d57874b-61e6-4a25-dd21-6bd39360ba69"
      },
      "execution_count": 69,
      "outputs": [
        {
          "output_type": "stream",
          "name": "stdout",
          "text": [
            "0\n",
            "     PassengerId  Survived  Pclass  \\\n",
            "0              1         0       3   \n",
            "1              2         1       1   \n",
            "2              3         1       3   \n",
            "3              4         1       1   \n",
            "4              5         0       3   \n",
            "..           ...       ...     ...   \n",
            "886          887         0       2   \n",
            "887          888         1       1   \n",
            "888          889         0       3   \n",
            "889          890         1       1   \n",
            "890          891         0       3   \n",
            "\n",
            "                                                  Name     Sex   Age  SibSp  \\\n",
            "0                              Braund, Mr. Owen Harris    male  22.0      1   \n",
            "1    Cumings, Mrs. John Bradley (Florence Briggs Th...  female  38.0      1   \n",
            "2                               Heikkinen, Miss. Laina  female  26.0      0   \n",
            "3         Futrelle, Mrs. Jacques Heath (Lily May Peel)  female  35.0      1   \n",
            "4                             Allen, Mr. William Henry    male  35.0      0   \n",
            "..                                                 ...     ...   ...    ...   \n",
            "886                              Montvila, Rev. Juozas    male  27.0      0   \n",
            "887                       Graham, Miss. Margaret Edith  female  19.0      0   \n",
            "888           Johnston, Miss. Catherine Helen \"Carrie\"  female   NaN      1   \n",
            "889                              Behr, Mr. Karl Howell    male  26.0      0   \n",
            "890                                Dooley, Mr. Patrick    male  32.0      0   \n",
            "\n",
            "     Parch            Ticket     Fare Cabin Embarked  \n",
            "0        0         A/5 21171   7.2500   NaN        S  \n",
            "1        0          PC 17599  71.2833   C85        C  \n",
            "2        0  STON/O2. 3101282   7.9250   NaN        S  \n",
            "3        0            113803  53.1000  C123        S  \n",
            "4        0            373450   8.0500   NaN        S  \n",
            "..     ...               ...      ...   ...      ...  \n",
            "886      0            211536  13.0000   NaN        S  \n",
            "887      0            112053  30.0000   B42        S  \n",
            "888      2        W./C. 6607  23.4500   NaN        S  \n",
            "889      0            111369  30.0000  C148        C  \n",
            "890      0            370376   7.7500   NaN        Q  \n",
            "\n",
            "[891 rows x 12 columns]\n"
          ]
        }
      ]
    },
    {
      "cell_type": "markdown",
      "source": [
        "# **Exercise 2: Handling Missing Values**"
      ],
      "metadata": {
        "id": "DjqbN45zXbgk"
      }
    },
    {
      "cell_type": "markdown",
      "source": [
        "df=titanic_data\n",
        "print(titanic_data.head())  "
      ],
      "metadata": {
        "id": "iikp6mY4SVuK"
      }
    },
    {
      "cell_type": "code",
      "source": [
        "df=titanic_data\n",
        "# Check for missing values in a DataFrame\n",
        "missing_data = df.isnull()\n",
        "# print(missing_data.head())\n",
        "\n",
        "# Count missing values in each column\n",
        "missing_counts = df.isnull().sum()\n",
        "# print(missing_counts)\n",
        "\n",
        "columns_with_missing = missing_counts[missing_counts > 0]\n",
        "# print(columns_with_missing)\n",
        "\n",
        "columns_with_missing = missing_counts[missing_counts > 0]\n",
        "print(columns_with_missing)\n"
      ],
      "metadata": {
        "colab": {
          "base_uri": "https://localhost:8080/"
        },
        "id": "uiXNw35tbAkb",
        "outputId": "fb7ae132-fda5-4d3a-8703-7bc0e461c905"
      },
      "execution_count": 70,
      "outputs": [
        {
          "output_type": "stream",
          "name": "stdout",
          "text": [
            "Age         177\n",
            "Cabin       687\n",
            "Embarked      2\n",
            "dtype: int64\n"
          ]
        }
      ]
    },
    {
      "cell_type": "code",
      "source": [
        "df_filled = df.fillna(0)\n",
        "\n",
        "print(df)\n"
      ],
      "metadata": {
        "colab": {
          "base_uri": "https://localhost:8080/"
        },
        "id": "wa_xuL0HlUdd",
        "outputId": "2b311518-8584-4390-d164-9cd2ecfe3f20",
        "collapsed": true
      },
      "execution_count": 71,
      "outputs": [
        {
          "output_type": "stream",
          "name": "stdout",
          "text": [
            "     PassengerId  Survived  Pclass  \\\n",
            "0              1         0       3   \n",
            "1              2         1       1   \n",
            "2              3         1       3   \n",
            "3              4         1       1   \n",
            "4              5         0       3   \n",
            "..           ...       ...     ...   \n",
            "886          887         0       2   \n",
            "887          888         1       1   \n",
            "888          889         0       3   \n",
            "889          890         1       1   \n",
            "890          891         0       3   \n",
            "\n",
            "                                                  Name     Sex   Age  SibSp  \\\n",
            "0                              Braund, Mr. Owen Harris    male  22.0      1   \n",
            "1    Cumings, Mrs. John Bradley (Florence Briggs Th...  female  38.0      1   \n",
            "2                               Heikkinen, Miss. Laina  female  26.0      0   \n",
            "3         Futrelle, Mrs. Jacques Heath (Lily May Peel)  female  35.0      1   \n",
            "4                             Allen, Mr. William Henry    male  35.0      0   \n",
            "..                                                 ...     ...   ...    ...   \n",
            "886                              Montvila, Rev. Juozas    male  27.0      0   \n",
            "887                       Graham, Miss. Margaret Edith  female  19.0      0   \n",
            "888           Johnston, Miss. Catherine Helen \"Carrie\"  female   NaN      1   \n",
            "889                              Behr, Mr. Karl Howell    male  26.0      0   \n",
            "890                                Dooley, Mr. Patrick    male  32.0      0   \n",
            "\n",
            "     Parch            Ticket     Fare Cabin Embarked  \n",
            "0        0         A/5 21171   7.2500   NaN        S  \n",
            "1        0          PC 17599  71.2833   C85        C  \n",
            "2        0  STON/O2. 3101282   7.9250   NaN        S  \n",
            "3        0            113803  53.1000  C123        S  \n",
            "4        0            373450   8.0500   NaN        S  \n",
            "..     ...               ...      ...   ...      ...  \n",
            "886      0            211536  13.0000   NaN        S  \n",
            "887      0            112053  30.0000   B42        S  \n",
            "888      2        W./C. 6607  23.4500   NaN        S  \n",
            "889      0            111369  30.0000  C148        C  \n",
            "890      0            370376   7.7500   NaN        Q  \n",
            "\n",
            "[891 rows x 12 columns]\n"
          ]
        }
      ]
    },
    {
      "cell_type": "code",
      "source": [
        "cleaned_data=df.dropna()\n",
        "#drop row with mis val\n",
        "print(cleaned_data)\n",
        "print(df.head())"
      ],
      "metadata": {
        "id": "qf63jENPlYqc",
        "colab": {
          "base_uri": "https://localhost:8080/"
        },
        "collapsed": true,
        "outputId": "97202968-6a43-4520-cf5a-8ff69fe428da"
      },
      "execution_count": 72,
      "outputs": [
        {
          "output_type": "stream",
          "name": "stdout",
          "text": [
            "     PassengerId  Survived  Pclass  \\\n",
            "1              2         1       1   \n",
            "3              4         1       1   \n",
            "6              7         0       1   \n",
            "10            11         1       3   \n",
            "11            12         1       1   \n",
            "..           ...       ...     ...   \n",
            "871          872         1       1   \n",
            "872          873         0       1   \n",
            "879          880         1       1   \n",
            "887          888         1       1   \n",
            "889          890         1       1   \n",
            "\n",
            "                                                  Name     Sex   Age  SibSp  \\\n",
            "1    Cumings, Mrs. John Bradley (Florence Briggs Th...  female  38.0      1   \n",
            "3         Futrelle, Mrs. Jacques Heath (Lily May Peel)  female  35.0      1   \n",
            "6                              McCarthy, Mr. Timothy J    male  54.0      0   \n",
            "10                     Sandstrom, Miss. Marguerite Rut  female   4.0      1   \n",
            "11                            Bonnell, Miss. Elizabeth  female  58.0      0   \n",
            "..                                                 ...     ...   ...    ...   \n",
            "871   Beckwith, Mrs. Richard Leonard (Sallie Monypeny)  female  47.0      1   \n",
            "872                           Carlsson, Mr. Frans Olof    male  33.0      0   \n",
            "879      Potter, Mrs. Thomas Jr (Lily Alexenia Wilson)  female  56.0      0   \n",
            "887                       Graham, Miss. Margaret Edith  female  19.0      0   \n",
            "889                              Behr, Mr. Karl Howell    male  26.0      0   \n",
            "\n",
            "     Parch    Ticket     Fare        Cabin Embarked  \n",
            "1        0  PC 17599  71.2833          C85        C  \n",
            "3        0    113803  53.1000         C123        S  \n",
            "6        0     17463  51.8625          E46        S  \n",
            "10       1   PP 9549  16.7000           G6        S  \n",
            "11       0    113783  26.5500         C103        S  \n",
            "..     ...       ...      ...          ...      ...  \n",
            "871      1     11751  52.5542          D35        S  \n",
            "872      0       695   5.0000  B51 B53 B55        S  \n",
            "879      1     11767  83.1583          C50        C  \n",
            "887      0    112053  30.0000          B42        S  \n",
            "889      0    111369  30.0000         C148        C  \n",
            "\n",
            "[183 rows x 12 columns]\n",
            "   PassengerId  Survived  Pclass  \\\n",
            "0            1         0       3   \n",
            "1            2         1       1   \n",
            "2            3         1       3   \n",
            "3            4         1       1   \n",
            "4            5         0       3   \n",
            "\n",
            "                                                Name     Sex   Age  SibSp  \\\n",
            "0                            Braund, Mr. Owen Harris    male  22.0      1   \n",
            "1  Cumings, Mrs. John Bradley (Florence Briggs Th...  female  38.0      1   \n",
            "2                             Heikkinen, Miss. Laina  female  26.0      0   \n",
            "3       Futrelle, Mrs. Jacques Heath (Lily May Peel)  female  35.0      1   \n",
            "4                           Allen, Mr. William Henry    male  35.0      0   \n",
            "\n",
            "   Parch            Ticket     Fare Cabin Embarked  \n",
            "0      0         A/5 21171   7.2500   NaN        S  \n",
            "1      0          PC 17599  71.2833   C85        C  \n",
            "2      0  STON/O2. 3101282   7.9250   NaN        S  \n",
            "3      0            113803  53.1000  C123        S  \n",
            "4      0            373450   8.0500   NaN        S  \n"
          ]
        }
      ]
    },
    {
      "cell_type": "code",
      "source": [
        "from sklearn.impute import SimpleImputer\n",
        "\n",
        "# Numeric columns\n",
        "numeric_columns = df.select_dtypes(include='number').columns\n",
        "imputer_num = SimpleImputer(strategy='mean')\n",
        "df[numeric_columns] = imputer_num.fit_transform(df[numeric_columns])\n",
        "\n",
        "# Categorical columns\n",
        "categorical_columns = df.select_dtypes(include='object').columns\n",
        "imputer_cat = SimpleImputer(strategy='most_frequent')\n",
        "df[categorical_columns] = imputer_cat.fit_transform(df[categorical_columns])\n",
        "\n",
        "print(df.head())"
      ],
      "metadata": {
        "colab": {
          "base_uri": "https://localhost:8080/"
        },
        "id": "QJRE4CVUBFsH",
        "outputId": "ef398c8c-3b1b-43ec-f06d-c79b1fadf98f"
      },
      "execution_count": 73,
      "outputs": [
        {
          "output_type": "stream",
          "name": "stdout",
          "text": [
            "   PassengerId  Survived  Pclass  \\\n",
            "0          1.0       0.0     3.0   \n",
            "1          2.0       1.0     1.0   \n",
            "2          3.0       1.0     3.0   \n",
            "3          4.0       1.0     1.0   \n",
            "4          5.0       0.0     3.0   \n",
            "\n",
            "                                                Name     Sex   Age  SibSp  \\\n",
            "0                            Braund, Mr. Owen Harris    male  22.0    1.0   \n",
            "1  Cumings, Mrs. John Bradley (Florence Briggs Th...  female  38.0    1.0   \n",
            "2                             Heikkinen, Miss. Laina  female  26.0    0.0   \n",
            "3       Futrelle, Mrs. Jacques Heath (Lily May Peel)  female  35.0    1.0   \n",
            "4                           Allen, Mr. William Henry    male  35.0    0.0   \n",
            "\n",
            "   Parch            Ticket     Fare    Cabin Embarked  \n",
            "0    0.0         A/5 21171   7.2500  B96 B98        S  \n",
            "1    0.0          PC 17599  71.2833      C85        C  \n",
            "2    0.0  STON/O2. 3101282   7.9250  B96 B98        S  \n",
            "3    0.0            113803  53.1000     C123        S  \n",
            "4    0.0            373450   8.0500  B96 B98        S  \n"
          ]
        }
      ]
    },
    {
      "cell_type": "markdown",
      "source": [
        "# **EXERCISE 3**"
      ],
      "metadata": {
        "id": "D5c_-mEpCtHU"
      }
    },
    {
      "cell_type": "code",
      "source": [
        "import pandas as pd\n",
        "from sklearn.preprocessing import LabelEncoder, StandardScaler\n",
        "\n",
        "#create features\n",
        "df['FamilySize'] = df['SibSp'] + df['Parch'] + 1\n",
        "\n",
        "# extract title from name\n",
        "def extract_title(name):\n",
        "    title = name.split(',')[1]\n",
        "    title = title.split('.')[0].strip()\n",
        "    return title\n",
        "\n",
        "df['Title'] = df['Name'].apply(extract_title)\n",
        "\n",
        "# LabelEncoder\n",
        "label_encoder = LabelEncoder()\n",
        "df['Sex'] = label_encoder.fit_transform(df['Sex'])\n",
        "\n",
        "\n",
        "df = pd.get_dummies(df, columns=['Embarked'], drop_first=True)\n",
        "df = pd.get_dummies(df, columns=['Title'], drop_first=True)\n",
        "\n",
        "\n",
        "df.drop(columns=['Name'], inplace=True)\n",
        "\n",
        "\n",
        "numerical_columns = df.select_dtypes(include='number').columns\n",
        "scaler = StandardScaler()\n",
        "df[numerical_columns] = scaler.fit_transform(df[numerical_columns])\n",
        "\n",
        "print(df.head())\n"
      ],
      "metadata": {
        "colab": {
          "base_uri": "https://localhost:8080/"
        },
        "collapsed": true,
        "id": "WbyeSQ0JCx8n",
        "outputId": "463f9dc2-2682-414f-d43b-51c47f47d152"
      },
      "execution_count": 74,
      "outputs": [
        {
          "output_type": "stream",
          "name": "stdout",
          "text": [
            "   PassengerId  Survived    Pclass       Sex       Age     SibSp     Parch  \\\n",
            "0    -1.730108 -0.789272  0.827377  0.737695 -0.592481  0.432793 -0.473674   \n",
            "1    -1.726220  1.266990 -1.566107 -1.355574  0.638789  0.432793 -0.473674   \n",
            "2    -1.722332  1.266990  0.827377 -1.355574 -0.284663 -0.474545 -0.473674   \n",
            "3    -1.718444  1.266990 -1.566107 -1.355574  0.407926  0.432793 -0.473674   \n",
            "4    -1.714556 -0.789272  0.827377  0.737695  0.407926 -0.474545 -0.473674   \n",
            "\n",
            "             Ticket      Fare    Cabin  ...  Title_Master  Title_Miss  \\\n",
            "0         A/5 21171 -0.502445  B96 B98  ...         False       False   \n",
            "1          PC 17599  0.786845      C85  ...         False       False   \n",
            "2  STON/O2. 3101282 -0.488854  B96 B98  ...         False        True   \n",
            "3            113803  0.420730     C123  ...         False       False   \n",
            "4            373450 -0.486337  B96 B98  ...         False       False   \n",
            "\n",
            "   Title_Mlle  Title_Mme  Title_Mr  Title_Mrs  Title_Ms  Title_Rev  Title_Sir  \\\n",
            "0       False      False      True      False     False      False      False   \n",
            "1       False      False     False       True     False      False      False   \n",
            "2       False      False     False      False     False      False      False   \n",
            "3       False      False     False       True     False      False      False   \n",
            "4       False      False      True      False     False      False      False   \n",
            "\n",
            "   Title_the Countess  \n",
            "0               False  \n",
            "1               False  \n",
            "2               False  \n",
            "3               False  \n",
            "4               False  \n",
            "\n",
            "[5 rows x 29 columns]\n"
          ]
        }
      ]
    },
    {
      "cell_type": "markdown",
      "source": [
        "# **Exercise 4: Outlier Detection and Handling**"
      ],
      "metadata": {
        "id": "vriSuuGGHDEy"
      }
    },
    {
      "cell_type": "code",
      "source": [
        "# IQR\n",
        "def detect_outliers_iqr(df, column):\n",
        "    Q1 = df[column].quantile(0.25)\n",
        "    Q3 = df[column].quantile(0.75)\n",
        "\n",
        "    IQR = Q3 - Q1\n",
        "\n",
        "    lower_bound = Q1 - 1.5 * IQR\n",
        "    upper_bound = Q3 + 1.5 * IQR\n",
        "\n",
        "    # outliers\n",
        "    outliers = df[(df[column] < lower_bound) | (df[column] > upper_bound)]\n",
        "    return outliers\n",
        "\n",
        "outliers_fare = detect_outliers_iqr(titanic_data, 'Fare')\n",
        "outliers_age = detect_outliers_iqr(titanic_data, 'Age')\n",
        "\n",
        "print(f\"Outliers Fare': {len(outliers_fare)}\")\n",
        "print(f\"Outliers 'Age': {len(outliers_age)}\")"
      ],
      "metadata": {
        "colab": {
          "base_uri": "https://localhost:8080/"
        },
        "id": "KJphHf6KHH7y",
        "outputId": "0465f6e1-dde7-4df9-c22a-5415fb237651"
      },
      "execution_count": 75,
      "outputs": [
        {
          "output_type": "stream",
          "name": "stdout",
          "text": [
            "Outliers Fare': 116\n",
            "Outliers 'Age': 66\n"
          ]
        }
      ]
    },
    {
      "cell_type": "code",
      "source": [
        "titanic_data_cleaned = titanic_data[~titanic_data['Fare'].isin(outliers_fare['Fare'])]\n",
        "titanic_data_cleaned = titanic_data_cleaned[~titanic_data_cleaned['Age'].isin(outliers_age['Age'])]\n",
        "\n",
        "print(titanic_data_cleaned.shape)"
      ],
      "metadata": {
        "colab": {
          "base_uri": "https://localhost:8080/"
        },
        "id": "C4_XSRCZIVLP",
        "outputId": "b4aa294f-e06d-4774-d946-3e6211c920ac"
      },
      "execution_count": 78,
      "outputs": [
        {
          "output_type": "stream",
          "name": "stdout",
          "text": [
            "(721, 14)\n"
          ]
        }
      ]
    },
    {
      "cell_type": "code",
      "source": [
        "print(titanic_data[['Fare', 'Age']].describe())\n",
        "\n",
        "\n",
        "print(titanic_data_cleaned[['Fare', 'Age']].describe())"
      ],
      "metadata": {
        "colab": {
          "base_uri": "https://localhost:8080/"
        },
        "id": "7i0lujUkIaOc",
        "outputId": "246b933f-9a17-4e09-9918-c0d03df5255b"
      },
      "execution_count": 79,
      "outputs": [
        {
          "output_type": "stream",
          "name": "stdout",
          "text": [
            "             Fare         Age\n",
            "count  891.000000  891.000000\n",
            "mean    32.204208   29.699118\n",
            "std     49.693429   13.002015\n",
            "min      0.000000    0.420000\n",
            "25%      7.910400   22.000000\n",
            "50%     14.454200   29.699118\n",
            "75%     31.000000   35.000000\n",
            "max    512.329200   80.000000\n",
            "             Fare         Age\n",
            "count  721.000000  721.000000\n",
            "mean    17.389845   28.476085\n",
            "std     13.563036   10.043466\n",
            "min      0.000000    3.000000\n",
            "25%      7.895800   22.000000\n",
            "50%     12.275000   29.699118\n",
            "75%     26.000000   33.000000\n",
            "max     65.000000   54.000000\n"
          ]
        }
      ]
    },
    {
      "cell_type": "markdown",
      "source": [
        "# **Exercise 5 Data Standardization**"
      ],
      "metadata": {
        "id": "bXiJXBeLJi6k"
      }
    },
    {
      "cell_type": "code",
      "source": [
        "from sklearn.preprocessing import StandardScaler, MinMaxScaler\n",
        "\n",
        "titanic_data_scaled = titanic_data.copy()\n",
        "# Standardization\n",
        "scaler = StandardScaler()\n",
        "titanic_data_scaled[numeric_columns] = scaler.fit_transform(titanic_data_scaled[numeric_columns])\n",
        "\n",
        "\n",
        "print(titanic_data_scaled[numeric_columns].describe())\n",
        "\n",
        "# Normalization\n",
        "scaler_minmax = MinMaxScaler()\n",
        "titanic_data_normalized = titanic_data.copy()\n",
        "titanic_data_normalized[numeric_columns] = scaler_minmax.fit_transform(titanic_data_normalized[numeric_columns])\n",
        "\n",
        "\n",
        "print(titanic_data_normalized[numeric_columns].describe())\n"
      ],
      "metadata": {
        "colab": {
          "base_uri": "https://localhost:8080/"
        },
        "id": "U8lPpEXvKB0-",
        "outputId": "cc702afb-f2d8-4352-988a-58840fc03764"
      },
      "execution_count": 80,
      "outputs": [
        {
          "output_type": "stream",
          "name": "stdout",
          "text": [
            "        PassengerId      Survived        Pclass           Age         SibSp  \\\n",
            "count  8.910000e+02  8.910000e+02  8.910000e+02  8.910000e+02  8.910000e+02   \n",
            "mean   6.379733e-17  3.987333e-17 -8.772133e-17  2.232906e-16  4.386066e-17   \n",
            "std    1.000562e+00  1.000562e+00  1.000562e+00  1.000562e+00  1.000562e+00   \n",
            "min   -1.730108e+00 -7.892723e-01 -1.566107e+00 -2.253155e+00 -4.745452e-01   \n",
            "25%   -8.650540e-01 -7.892723e-01 -3.693648e-01 -5.924806e-01 -4.745452e-01   \n",
            "50%    0.000000e+00 -7.892723e-01  8.273772e-01  0.000000e+00 -4.745452e-01   \n",
            "75%    8.650540e-01  1.266990e+00  8.273772e-01  4.079260e-01  4.327934e-01   \n",
            "max    1.730108e+00  1.266990e+00  8.273772e-01  3.870872e+00  6.784163e+00   \n",
            "\n",
            "              Parch          Fare  \n",
            "count  8.910000e+02  8.910000e+02  \n",
            "mean   5.382900e-17  3.987333e-18  \n",
            "std    1.000562e+00  1.000562e+00  \n",
            "min   -4.736736e-01 -6.484217e-01  \n",
            "25%   -4.736736e-01 -4.891482e-01  \n",
            "50%   -4.736736e-01 -3.573909e-01  \n",
            "75%   -4.736736e-01 -2.424635e-02  \n",
            "max    6.974147e+00  9.667167e+00  \n",
            "       PassengerId    Survived      Pclass         Age       SibSp  \\\n",
            "count   891.000000  891.000000  891.000000  891.000000  891.000000   \n",
            "mean      0.500000    0.383838    0.654321    0.367921    0.065376   \n",
            "std       0.289162    0.486592    0.418036    0.163383    0.137843   \n",
            "min       0.000000    0.000000    0.000000    0.000000    0.000000   \n",
            "25%       0.250000    0.000000    0.500000    0.271174    0.000000   \n",
            "50%       0.500000    0.000000    1.000000    0.367921    0.000000   \n",
            "75%       0.750000    1.000000    1.000000    0.434531    0.125000   \n",
            "max       1.000000    1.000000    1.000000    1.000000    1.000000   \n",
            "\n",
            "            Parch        Fare  \n",
            "count  891.000000  891.000000  \n",
            "mean     0.063599    0.062858  \n",
            "std      0.134343    0.096995  \n",
            "min      0.000000    0.000000  \n",
            "25%      0.000000    0.015440  \n",
            "50%      0.000000    0.028213  \n",
            "75%      0.000000    0.060508  \n",
            "max      1.000000    1.000000  \n"
          ]
        }
      ]
    },
    {
      "cell_type": "markdown",
      "source": [
        "# **Exercise 6: Encoding**"
      ],
      "metadata": {
        "id": "z9XDII6nKoIJ"
      }
    },
    {
      "cell_type": "code",
      "source": [
        "titanic_data_encoded = pd.get_dummies(titanic_data, columns=['Sex', 'Embarked'], drop_first=True)\n",
        "\n",
        "print(titanic_data_encoded.head())\n"
      ],
      "metadata": {
        "colab": {
          "base_uri": "https://localhost:8080/"
        },
        "id": "AQ9kpIQ1KsMd",
        "outputId": "2921a19f-1516-46bc-a225-a0ee916eccb0"
      },
      "execution_count": 81,
      "outputs": [
        {
          "output_type": "stream",
          "name": "stdout",
          "text": [
            "   PassengerId  Survived  Pclass  \\\n",
            "0          1.0       0.0     3.0   \n",
            "1          2.0       1.0     1.0   \n",
            "2          3.0       1.0     3.0   \n",
            "3          4.0       1.0     1.0   \n",
            "4          5.0       0.0     3.0   \n",
            "\n",
            "                                                Name   Age  SibSp  Parch  \\\n",
            "0                            Braund, Mr. Owen Harris  22.0    1.0    0.0   \n",
            "1  Cumings, Mrs. John Bradley (Florence Briggs Th...  38.0    1.0    0.0   \n",
            "2                             Heikkinen, Miss. Laina  26.0    0.0    0.0   \n",
            "3       Futrelle, Mrs. Jacques Heath (Lily May Peel)  35.0    1.0    0.0   \n",
            "4                           Allen, Mr. William Henry  35.0    0.0    0.0   \n",
            "\n",
            "             Ticket     Fare    Cabin  FamilySize Title  Sex_1  Embarked_Q  \\\n",
            "0         A/5 21171   7.2500  B96 B98         2.0    Mr   True       False   \n",
            "1          PC 17599  71.2833      C85         2.0   Mrs  False       False   \n",
            "2  STON/O2. 3101282   7.9250  B96 B98         1.0  Miss  False       False   \n",
            "3            113803  53.1000     C123         2.0   Mrs  False       False   \n",
            "4            373450   8.0500  B96 B98         1.0    Mr   True       False   \n",
            "\n",
            "   Embarked_S  \n",
            "0        True  \n",
            "1       False  \n",
            "2        True  \n",
            "3        True  \n",
            "4        True  \n"
          ]
        }
      ]
    },
    {
      "cell_type": "markdown",
      "source": [
        "# **Exercise 7 Data Transformation**"
      ],
      "metadata": {
        "id": "hPMq4xA1PqyC"
      }
    },
    {
      "cell_type": "code",
      "source": [
        "age_bins = [0, 12, 18, 35, 50, 65, 100]\n",
        "age_labels = ['Child', 'Teenage', 'Young', 'Middle', 'Senior', 'Elderly']\n",
        "\n",
        "age_groups = pd.cut(df['Age'], bins=age_bins, labels=age_labels)\n",
        "df = pd.concat([df, pd.get_dummies(age_groups, prefix='AgeGroup')], axis=1)\n",
        "\n",
        "print(df.head())\n"
      ],
      "metadata": {
        "colab": {
          "base_uri": "https://localhost:8080/"
        },
        "id": "Mu64Ax1uPsXg",
        "outputId": "e06ed067-3f3d-442d-bed6-d12892cd6232"
      },
      "execution_count": 82,
      "outputs": [
        {
          "output_type": "stream",
          "name": "stdout",
          "text": [
            "   PassengerId  Survived    Pclass       Sex       Age     SibSp     Parch  \\\n",
            "0    -1.730108 -0.789272  0.827377  0.737695 -0.592481  0.432793 -0.473674   \n",
            "1    -1.726220  1.266990 -1.566107 -1.355574  0.638789  0.432793 -0.473674   \n",
            "2    -1.722332  1.266990  0.827377 -1.355574 -0.284663 -0.474545 -0.473674   \n",
            "3    -1.718444  1.266990 -1.566107 -1.355574  0.407926  0.432793 -0.473674   \n",
            "4    -1.714556 -0.789272  0.827377  0.737695  0.407926 -0.474545 -0.473674   \n",
            "\n",
            "             Ticket      Fare    Cabin  ...  Title_Ms  Title_Rev  Title_Sir  \\\n",
            "0         A/5 21171 -0.502445  B96 B98  ...     False      False      False   \n",
            "1          PC 17599  0.786845      C85  ...     False      False      False   \n",
            "2  STON/O2. 3101282 -0.488854  B96 B98  ...     False      False      False   \n",
            "3            113803  0.420730     C123  ...     False      False      False   \n",
            "4            373450 -0.486337  B96 B98  ...     False      False      False   \n",
            "\n",
            "   Title_the Countess  AgeGroup_Child  AgeGroup_Teenage  AgeGroup_Young  \\\n",
            "0               False           False             False           False   \n",
            "1               False            True             False           False   \n",
            "2               False           False             False           False   \n",
            "3               False            True             False           False   \n",
            "4               False            True             False           False   \n",
            "\n",
            "   AgeGroup_Middle  AgeGroup_Senior  AgeGroup_Elderly  \n",
            "0            False            False             False  \n",
            "1            False            False             False  \n",
            "2            False            False             False  \n",
            "3            False            False             False  \n",
            "4            False            False             False  \n",
            "\n",
            "[5 rows x 35 columns]\n"
          ]
        }
      ]
    }
  ]
}