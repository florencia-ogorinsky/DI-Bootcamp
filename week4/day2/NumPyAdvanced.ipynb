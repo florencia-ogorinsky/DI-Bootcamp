{
  "nbformat": 4,
  "nbformat_minor": 0,
  "metadata": {
    "colab": {
      "provenance": []
    },
    "kernelspec": {
      "name": "python3",
      "display_name": "Python 3"
    },
    "language_info": {
      "name": "python"
    }
  },
  "cells": [
    {
      "cell_type": "code",
      "execution_count": 1,
      "metadata": {
        "colab": {
          "base_uri": "https://localhost:8080/"
        },
        "id": "PawUowPqJFZ-",
        "outputId": "5cddb1cb-7313-4dbb-bdb7-a7d7d6e2be92"
      },
      "outputs": [
        {
          "output_type": "stream",
          "name": "stdout",
          "text": [
            "Average Responses: [3.8 1.4 2.4 3.8]\n",
            "Total Responses: [19  7 12 19]\n",
            "Maximum Responses: [5 2 4 5]\n",
            "Minimum Responses: [2 1 1 2]\n"
          ]
        }
      ],
      "source": [
        "import numpy as np\n",
        "\n",
        "# Example survey data matrix (5 respondents, 4 questions)\n",
        "survey_data = np.array([[5, 1, 4, 4],\n",
        "                        [4, 2, 4, 3],\n",
        "                        [5, 1, 1, 5],\n",
        "                        [3, 2, 1, 2],\n",
        "                        [2, 1, 2, 5]])\n",
        "\n",
        "# Calculating various statistics\n",
        "average_responses = np.mean(survey_data, axis=0)\n",
        "total_responses = np.sum(survey_data, axis=0)\n",
        "max_responses = np.max(survey_data, axis=0)\n",
        "min_responses = np.min(survey_data, axis=0)\n",
        "\n",
        "print(\"Average Responses:\", average_responses)\n",
        "print(\"Total Responses:\", total_responses)\n",
        "print(\"Maximum Responses:\", max_responses)\n",
        "print(\"Minimum Responses:\", min_responses)"
      ]
    },
    {
      "cell_type": "code",
      "source": [
        "import numpy as np\n",
        "\n",
        "# Movie ratings matrix (5 viewers, 3 movies)\n",
        "movie_ratings = np.array([\n",
        "    [5, 1, 4],\n",
        "    [4, 4, 2],\n",
        "    [4, 3, 5],\n",
        "    [1, 1, 5],\n",
        "    [3, 2, 1]\n",
        "])\n",
        "\n",
        "# Tasks: Calculate average ratings for each movie and analyze viewer preferences\n",
        "\n",
        "avg= avg_ratings = np.mean(movie_ratings, axis=0)\n",
        "print(\"Average Ratings:\", avg_ratings)"
      ],
      "metadata": {
        "colab": {
          "base_uri": "https://localhost:8080/"
        },
        "id": "nQuNjaWRK8nZ",
        "outputId": "ae846243-cdea-480f-febf-b42940db5663"
      },
      "execution_count": 7,
      "outputs": [
        {
          "output_type": "stream",
          "name": "stdout",
          "text": [
            "Average Ratings: [3.4 2.2 3.4]\n"
          ]
        }
      ]
    },
    {
      "cell_type": "code",
      "source": [
        "#highest rated movie:\n",
        "max_resp= np.max(movie_ratings, axis=0)\n",
        "print(\"Maximum Responses:\", max_resp)"
      ],
      "metadata": {
        "colab": {
          "base_uri": "https://localhost:8080/"
        },
        "id": "Ccrfy-SPLXBt",
        "outputId": "cc8ca3dd-1961-4d58-fdd0-f5378c12636c"
      },
      "execution_count": 8,
      "outputs": [
        {
          "output_type": "stream",
          "name": "stdout",
          "text": [
            "Maximum Responses: [5 4 5]\n"
          ]
        }
      ]
    },
    {
      "cell_type": "code",
      "source": [
        "# Define two matrices\n",
        "matrix_B = np.array([[2, 3], [4, 5]])\n",
        "matrix_C = np.array([[1, 1], [1, 1]])\n",
        "\n",
        "# Adding and subtracting matrices\n",
        "sum_matrix = np.add(matrix_B, matrix_C)\n",
        "diff_matrix = np.subtract(matrix_B, matrix_C)\n",
        "\n",
        "print(\"Sum of Matrices:\\n\", sum_matrix)\n",
        "print(\"Difference of Matrices:\\n\", diff_matrix)"
      ],
      "metadata": {
        "colab": {
          "base_uri": "https://localhost:8080/"
        },
        "id": "Lp-geOWeLt6R",
        "outputId": "71bf4191-f845-4060-9c10-fb77a40accd9"
      },
      "execution_count": 9,
      "outputs": [
        {
          "output_type": "stream",
          "name": "stdout",
          "text": [
            "Sum of Matrices:\n",
            " [[3 4]\n",
            " [5 6]]\n",
            "Difference of Matrices:\n",
            " [[1 2]\n",
            " [3 4]]\n"
          ]
        }
      ]
    },
    {
      "cell_type": "code",
      "source": [
        "import numpy as np\n",
        "\n",
        "# Defining matrices\n",
        "price_matrix = np.array([[10, 15],\n",
        "                         [12, 18]])\n",
        "quantity_matrix = np.array([[30, 40],\n",
        "                            [25, 35]])\n",
        "\n",
        "# Multiplying matrices to get total sales\n",
        "total_sales_matrix = np.dot(price_matrix, quantity_matrix.T)\n",
        "\n",
        "print(\"Total Sales Matrix:\\n\", total_sales_matrix)"
      ],
      "metadata": {
        "colab": {
          "base_uri": "https://localhost:8080/"
        },
        "id": "rv78TcNVM9cX",
        "outputId": "2e644727-347b-4690-b4d9-9f9bc5983893"
      },
      "execution_count": 10,
      "outputs": [
        {
          "output_type": "stream",
          "name": "stdout",
          "text": [
            "Total Sales Matrix:\n",
            " [[ 900  775]\n",
            " [1080  930]]\n"
          ]
        }
      ]
    },
    {
      "cell_type": "markdown",
      "source": [
        "1. Average Temperature Calculation: Compute the average temperature for each city over the week.\n",
        "\n",
        "2. Maximum and Minimum Temperature Analysis: Find the highest and lowest temperatures recorded in each city.\n",
        "\n",
        "3. Day Comparison: Compare the temperature across the cities on the first and last day of the week."
      ],
      "metadata": {
        "id": "lwYWN-UjSgOL"
      }
    },
    {
      "cell_type": "code",
      "source": [
        "import numpy as np\n",
        "\n",
        "# Temperature data matrix (4 cities, 7 days)\n",
        "temperature_data = np.array([\n",
        "    [27, 20, 15, 18, 26, 18, 22],\n",
        "    [24, 18, 20, 17, 19, 22, 21],\n",
        "    [23, 23, 27, 25, 16, 21, 22],\n",
        "    [22, 29, 23, 16, 20, 24, 28]\n",
        "])\n",
        "\n",
        "average_temperature= np.mean(temperature_data, axis=1)\n",
        "\n",
        "print(\"Average Temperature for Each City:\")\n",
        "print(average_temperature)"
      ],
      "metadata": {
        "colab": {
          "base_uri": "https://localhost:8080/"
        },
        "id": "ugtiymSPQfh8",
        "outputId": "bbb8dc9f-9973-4709-f573-af112d8aeccb"
      },
      "execution_count": 12,
      "outputs": [
        {
          "output_type": "stream",
          "name": "stdout",
          "text": [
            "Average Temperature for Each City:\n",
            "[20.85714286 20.14285714 22.42857143 23.14285714]\n"
          ]
        }
      ]
    },
    {
      "cell_type": "code",
      "source": [
        "min_temp= np.min(temperature_data, axis=1)\n",
        "max_temp= np.max(temperature_data, axis=1)\n",
        "\n",
        "print(\"Minimum Temperature for Each City:\")\n",
        "print(min_temp)\n",
        "\n",
        "print(\"Maximum Temperature for Each City:\")\n",
        "print(max_temp)"
      ],
      "metadata": {
        "colab": {
          "base_uri": "https://localhost:8080/"
        },
        "id": "mznYJlgHSWgh",
        "outputId": "f4f9ff5e-f0eb-4c64-909c-bf000526a1c7"
      },
      "execution_count": 13,
      "outputs": [
        {
          "output_type": "stream",
          "name": "stdout",
          "text": [
            "Minimum Temperature for Each City:\n",
            "[15 17 16 16]\n",
            "Maximum Temperature for Each City:\n",
            "[27 24 27 29]\n"
          ]
        }
      ]
    },
    {
      "cell_type": "code",
      "source": [
        "comparison=[temperature_data[:,0], temperature_data[:,-1]]\n",
        "print(comparison)\n"
      ],
      "metadata": {
        "colab": {
          "base_uri": "https://localhost:8080/"
        },
        "id": "aHrpvNH_Spx4",
        "outputId": "0276b34f-c1a8-4f42-85db-7af532583b15"
      },
      "execution_count": 14,
      "outputs": [
        {
          "output_type": "stream",
          "name": "stdout",
          "text": [
            "[array([27, 24, 23, 22]), array([22, 21, 22, 28])]\n"
          ]
        }
      ]
    },
    {
      "cell_type": "markdown",
      "source": [
        "statistical with numpy"
      ],
      "metadata": {
        "id": "cl0zzz8dTzjK"
      }
    },
    {
      "cell_type": "code",
      "source": [
        "import numpy as np\n",
        "from scipy import stats\n",
        "\n",
        "# Sample data (engagement time in minutes)\n",
        "sample_data = np.array([...])  # Example data\n",
        "\n",
        "# Performing a one-sample t-test\n",
        "t_statistic, p_value = stats.ttest_1samp(sample_data, 15)\n",
        "\n",
        "# Interpreting the result\n",
        "alpha = 0.05  # Significance level\n",
        "if p_value < alpha:\n",
        "    print(\"Reject the null hypothesis\")\n",
        "else:\n",
        "    print(\"Fail to reject the null hypothesis\")"
      ],
      "metadata": {
        "colab": {
          "base_uri": "https://localhost:8080/",
          "height": 371
        },
        "id": "fsQ3nHBITIUO",
        "outputId": "bf5b81bb-538e-4f46-ad56-a42ab468b564"
      },
      "execution_count": 15,
      "outputs": [
        {
          "output_type": "error",
          "ename": "TypeError",
          "evalue": "unsupported operand type(s) for /: 'ellipsis' and 'int'",
          "traceback": [
            "\u001b[0;31m---------------------------------------------------------------------------\u001b[0m",
            "\u001b[0;31mTypeError\u001b[0m                                 Traceback (most recent call last)",
            "\u001b[0;32m<ipython-input-15-c90977d00e4e>\u001b[0m in \u001b[0;36m<cell line: 0>\u001b[0;34m()\u001b[0m\n\u001b[1;32m      6\u001b[0m \u001b[0;34m\u001b[0m\u001b[0m\n\u001b[1;32m      7\u001b[0m \u001b[0;31m# Performing a one-sample t-test\u001b[0m\u001b[0;34m\u001b[0m\u001b[0;34m\u001b[0m\u001b[0m\n\u001b[0;32m----> 8\u001b[0;31m \u001b[0mt_statistic\u001b[0m\u001b[0;34m,\u001b[0m \u001b[0mp_value\u001b[0m \u001b[0;34m=\u001b[0m \u001b[0mstats\u001b[0m\u001b[0;34m.\u001b[0m\u001b[0mttest_1samp\u001b[0m\u001b[0;34m(\u001b[0m\u001b[0msample_data\u001b[0m\u001b[0;34m,\u001b[0m \u001b[0;36m15\u001b[0m\u001b[0;34m)\u001b[0m\u001b[0;34m\u001b[0m\u001b[0;34m\u001b[0m\u001b[0m\n\u001b[0m\u001b[1;32m      9\u001b[0m \u001b[0;34m\u001b[0m\u001b[0m\n\u001b[1;32m     10\u001b[0m \u001b[0;31m# Interpreting the result\u001b[0m\u001b[0;34m\u001b[0m\u001b[0;34m\u001b[0m\u001b[0m\n",
            "\u001b[0;32m/usr/local/lib/python3.11/dist-packages/scipy/stats/_axis_nan_policy.py\u001b[0m in \u001b[0;36maxis_nan_policy_wrapper\u001b[0;34m(***failed resolving arguments***)\u001b[0m\n\u001b[1;32m    529\u001b[0m                 \u001b[0;32mif\u001b[0m \u001b[0msentinel\u001b[0m\u001b[0;34m:\u001b[0m\u001b[0;34m\u001b[0m\u001b[0;34m\u001b[0m\u001b[0m\n\u001b[1;32m    530\u001b[0m                     \u001b[0msamples\u001b[0m \u001b[0;34m=\u001b[0m \u001b[0m_remove_sentinel\u001b[0m\u001b[0;34m(\u001b[0m\u001b[0msamples\u001b[0m\u001b[0;34m,\u001b[0m \u001b[0mpaired\u001b[0m\u001b[0;34m,\u001b[0m \u001b[0msentinel\u001b[0m\u001b[0;34m)\u001b[0m\u001b[0;34m\u001b[0m\u001b[0;34m\u001b[0m\u001b[0m\n\u001b[0;32m--> 531\u001b[0;31m                 \u001b[0mres\u001b[0m \u001b[0;34m=\u001b[0m \u001b[0mhypotest_fun_out\u001b[0m\u001b[0;34m(\u001b[0m\u001b[0;34m*\u001b[0m\u001b[0msamples\u001b[0m\u001b[0;34m,\u001b[0m \u001b[0;34m**\u001b[0m\u001b[0mkwds\u001b[0m\u001b[0;34m)\u001b[0m\u001b[0;34m\u001b[0m\u001b[0;34m\u001b[0m\u001b[0m\n\u001b[0m\u001b[1;32m    532\u001b[0m                 \u001b[0mres\u001b[0m \u001b[0;34m=\u001b[0m \u001b[0mresult_to_tuple\u001b[0m\u001b[0;34m(\u001b[0m\u001b[0mres\u001b[0m\u001b[0;34m)\u001b[0m\u001b[0;34m\u001b[0m\u001b[0;34m\u001b[0m\u001b[0m\n\u001b[1;32m    533\u001b[0m                 \u001b[0mres\u001b[0m \u001b[0;34m=\u001b[0m \u001b[0m_add_reduced_axes\u001b[0m\u001b[0;34m(\u001b[0m\u001b[0mres\u001b[0m\u001b[0;34m,\u001b[0m \u001b[0mreduced_axes\u001b[0m\u001b[0;34m,\u001b[0m \u001b[0mkeepdims\u001b[0m\u001b[0;34m)\u001b[0m\u001b[0;34m\u001b[0m\u001b[0;34m\u001b[0m\u001b[0m\n",
            "\u001b[0;32m/usr/local/lib/python3.11/dist-packages/scipy/stats/_stats_py.py\u001b[0m in \u001b[0;36mttest_1samp\u001b[0;34m(a, popmean, axis, nan_policy, alternative)\u001b[0m\n\u001b[1;32m   6870\u001b[0m     \u001b[0mdf\u001b[0m \u001b[0;34m=\u001b[0m \u001b[0mn\u001b[0m \u001b[0;34m-\u001b[0m \u001b[0;36m1\u001b[0m\u001b[0;34m\u001b[0m\u001b[0;34m\u001b[0m\u001b[0m\n\u001b[1;32m   6871\u001b[0m \u001b[0;34m\u001b[0m\u001b[0m\n\u001b[0;32m-> 6872\u001b[0;31m     \u001b[0mmean\u001b[0m \u001b[0;34m=\u001b[0m \u001b[0mnp\u001b[0m\u001b[0;34m.\u001b[0m\u001b[0mmean\u001b[0m\u001b[0;34m(\u001b[0m\u001b[0ma\u001b[0m\u001b[0;34m,\u001b[0m \u001b[0maxis\u001b[0m\u001b[0;34m)\u001b[0m\u001b[0;34m\u001b[0m\u001b[0;34m\u001b[0m\u001b[0m\n\u001b[0m\u001b[1;32m   6873\u001b[0m     \u001b[0;32mtry\u001b[0m\u001b[0;34m:\u001b[0m\u001b[0;34m\u001b[0m\u001b[0;34m\u001b[0m\u001b[0m\n\u001b[1;32m   6874\u001b[0m         \u001b[0mpopmean\u001b[0m \u001b[0;34m=\u001b[0m \u001b[0mnp\u001b[0m\u001b[0;34m.\u001b[0m\u001b[0msqueeze\u001b[0m\u001b[0;34m(\u001b[0m\u001b[0mpopmean\u001b[0m\u001b[0;34m,\u001b[0m \u001b[0maxis\u001b[0m\u001b[0;34m=\u001b[0m\u001b[0maxis\u001b[0m\u001b[0;34m)\u001b[0m\u001b[0;34m\u001b[0m\u001b[0;34m\u001b[0m\u001b[0m\n",
            "\u001b[0;32m/usr/local/lib/python3.11/dist-packages/numpy/core/fromnumeric.py\u001b[0m in \u001b[0;36mmean\u001b[0;34m(a, axis, dtype, out, keepdims, where)\u001b[0m\n\u001b[1;32m   3502\u001b[0m             \u001b[0;32mreturn\u001b[0m \u001b[0mmean\u001b[0m\u001b[0;34m(\u001b[0m\u001b[0maxis\u001b[0m\u001b[0;34m=\u001b[0m\u001b[0maxis\u001b[0m\u001b[0;34m,\u001b[0m \u001b[0mdtype\u001b[0m\u001b[0;34m=\u001b[0m\u001b[0mdtype\u001b[0m\u001b[0;34m,\u001b[0m \u001b[0mout\u001b[0m\u001b[0;34m=\u001b[0m\u001b[0mout\u001b[0m\u001b[0;34m,\u001b[0m \u001b[0;34m**\u001b[0m\u001b[0mkwargs\u001b[0m\u001b[0;34m)\u001b[0m\u001b[0;34m\u001b[0m\u001b[0;34m\u001b[0m\u001b[0m\n\u001b[1;32m   3503\u001b[0m \u001b[0;34m\u001b[0m\u001b[0m\n\u001b[0;32m-> 3504\u001b[0;31m     return _methods._mean(a, axis=axis, dtype=dtype,\n\u001b[0m\u001b[1;32m   3505\u001b[0m                           out=out, **kwargs)\n\u001b[1;32m   3506\u001b[0m \u001b[0;34m\u001b[0m\u001b[0m\n",
            "\u001b[0;32m/usr/local/lib/python3.11/dist-packages/numpy/core/_methods.py\u001b[0m in \u001b[0;36m_mean\u001b[0;34m(a, axis, dtype, out, keepdims, where)\u001b[0m\n\u001b[1;32m    129\u001b[0m             \u001b[0mret\u001b[0m \u001b[0;34m=\u001b[0m \u001b[0mret\u001b[0m\u001b[0;34m.\u001b[0m\u001b[0mdtype\u001b[0m\u001b[0;34m.\u001b[0m\u001b[0mtype\u001b[0m\u001b[0;34m(\u001b[0m\u001b[0mret\u001b[0m \u001b[0;34m/\u001b[0m \u001b[0mrcount\u001b[0m\u001b[0;34m)\u001b[0m\u001b[0;34m\u001b[0m\u001b[0;34m\u001b[0m\u001b[0m\n\u001b[1;32m    130\u001b[0m     \u001b[0;32melse\u001b[0m\u001b[0;34m:\u001b[0m\u001b[0;34m\u001b[0m\u001b[0;34m\u001b[0m\u001b[0m\n\u001b[0;32m--> 131\u001b[0;31m         \u001b[0mret\u001b[0m \u001b[0;34m=\u001b[0m \u001b[0mret\u001b[0m \u001b[0;34m/\u001b[0m \u001b[0mrcount\u001b[0m\u001b[0;34m\u001b[0m\u001b[0;34m\u001b[0m\u001b[0m\n\u001b[0m\u001b[1;32m    132\u001b[0m \u001b[0;34m\u001b[0m\u001b[0m\n\u001b[1;32m    133\u001b[0m     \u001b[0;32mreturn\u001b[0m \u001b[0mret\u001b[0m\u001b[0;34m\u001b[0m\u001b[0;34m\u001b[0m\u001b[0m\n",
            "\u001b[0;31mTypeError\u001b[0m: unsupported operand type(s) for /: 'ellipsis' and 'int'"
          ]
        }
      ]
    },
    {
      "cell_type": "code",
      "source": [
        "# Random sampling from an array\n",
        "data = np.arange(10)\n",
        "sample = np.random.choice(data, size=5, replace=False)\n",
        "print(\"Random Sample:\", sample)"
      ],
      "metadata": {
        "colab": {
          "base_uri": "https://localhost:8080/"
        },
        "id": "lSD1bBXRTxPs",
        "outputId": "50ce7bad-d776-42a0-ea5b-6be17860b597"
      },
      "execution_count": 16,
      "outputs": [
        {
          "output_type": "stream",
          "name": "stdout",
          "text": [
            "Random Sample: [8 7 3 6 2]\n"
          ]
        }
      ]
    },
    {
      "cell_type": "code",
      "source": [
        "print(\"Random Sample mean:\", np.mean(sample))"
      ],
      "metadata": {
        "colab": {
          "base_uri": "https://localhost:8080/"
        },
        "id": "P4X1vOHgWASJ",
        "outputId": "532628a7-6c75-4195-b989-d307fddeb318"
      },
      "execution_count": 17,
      "outputs": [
        {
          "output_type": "stream",
          "name": "stdout",
          "text": [
            "Random Sample mean: 5.2\n"
          ]
        }
      ]
    },
    {
      "cell_type": "code",
      "source": [
        "print(\"arr mean:\", np.mean(data))"
      ],
      "metadata": {
        "colab": {
          "base_uri": "https://localhost:8080/"
        },
        "id": "gtPOs6zZWO6o",
        "outputId": "f5903ccf-6956-4a02-d1f6-e2c842c23b42"
      },
      "execution_count": 18,
      "outputs": [
        {
          "output_type": "stream",
          "name": "stdout",
          "text": [
            "arr mean: 4.5\n"
          ]
        }
      ]
    },
    {
      "cell_type": "code",
      "source": [
        "print(data)"
      ],
      "metadata": {
        "colab": {
          "base_uri": "https://localhost:8080/"
        },
        "id": "AL3kp5THWTxl",
        "outputId": "ac4c53e1-9da0-4290-c04b-7a566956cd96"
      },
      "execution_count": 19,
      "outputs": [
        {
          "output_type": "stream",
          "name": "stdout",
          "text": [
            "[0 1 2 3 4 5 6 7 8 9]\n"
          ]
        }
      ]
    },
    {
      "cell_type": "code",
      "source": [
        "import numpy as np\n",
        "\n",
        "# Creating date ranges\n",
        "dates = np.arange('2020-01', '2020-02', dtype='datetime64[D]')\n",
        "print(\"January 2020 Dates:\\n\", dates)"
      ],
      "metadata": {
        "colab": {
          "base_uri": "https://localhost:8080/"
        },
        "id": "kTUKq1wJWfDr",
        "outputId": "20374255-af2d-4d50-c025-2bc84faead81"
      },
      "execution_count": 20,
      "outputs": [
        {
          "output_type": "stream",
          "name": "stdout",
          "text": [
            "January 2020 Dates:\n",
            " ['2020-01-01' '2020-01-02' '2020-01-03' '2020-01-04' '2020-01-05'\n",
            " '2020-01-06' '2020-01-07' '2020-01-08' '2020-01-09' '2020-01-10'\n",
            " '2020-01-11' '2020-01-12' '2020-01-13' '2020-01-14' '2020-01-15'\n",
            " '2020-01-16' '2020-01-17' '2020-01-18' '2020-01-19' '2020-01-20'\n",
            " '2020-01-21' '2020-01-22' '2020-01-23' '2020-01-24' '2020-01-25'\n",
            " '2020-01-26' '2020-01-27' '2020-01-28' '2020-01-29' '2020-01-30'\n",
            " '2020-01-31']\n"
          ]
        }
      ]
    },
    {
      "cell_type": "code",
      "source": [
        "import pandas as pd\n",
        "\n",
        "# Example: Using rolling statistics\n",
        "ts_data = pd.Series(np.random.randn(100), index=pd.date_range('today', periods=100))\n",
        "rolling_mean = ts_data.rolling(window=5).mean()\n",
        "print(\"Rolling Mean:\\n\", rolling_mean)\n",
        "\n",
        "# Example: Applying a window function\n",
        "window_sum = ts_data.rolling(window=5).sum()\n",
        "print(\"Window Sum:\\n\", window_sum)"
      ],
      "metadata": {
        "colab": {
          "base_uri": "https://localhost:8080/"
        },
        "id": "68jOFlsacDQp",
        "outputId": "4487cdb5-22f5-4856-912c-0f9139e75c27"
      },
      "execution_count": 21,
      "outputs": [
        {
          "output_type": "stream",
          "name": "stdout",
          "text": [
            "Rolling Mean:\n",
            " 2025-02-24 10:11:12.943516         NaN\n",
            "2025-02-25 10:11:12.943516         NaN\n",
            "2025-02-26 10:11:12.943516         NaN\n",
            "2025-02-27 10:11:12.943516         NaN\n",
            "2025-02-28 10:11:12.943516   -0.305244\n",
            "                                ...   \n",
            "2025-05-30 10:11:12.943516    0.114765\n",
            "2025-05-31 10:11:12.943516    0.105359\n",
            "2025-06-01 10:11:12.943516    0.047150\n",
            "2025-06-02 10:11:12.943516    0.440637\n",
            "2025-06-03 10:11:12.943516    0.028260\n",
            "Freq: D, Length: 100, dtype: float64\n",
            "Window Sum:\n",
            " 2025-02-24 10:11:12.943516         NaN\n",
            "2025-02-25 10:11:12.943516         NaN\n",
            "2025-02-26 10:11:12.943516         NaN\n",
            "2025-02-27 10:11:12.943516         NaN\n",
            "2025-02-28 10:11:12.943516   -1.526221\n",
            "                                ...   \n",
            "2025-05-30 10:11:12.943516    0.573825\n",
            "2025-05-31 10:11:12.943516    0.526796\n",
            "2025-06-01 10:11:12.943516    0.235750\n",
            "2025-06-02 10:11:12.943516    2.203184\n",
            "2025-06-03 10:11:12.943516    0.141299\n",
            "Freq: D, Length: 100, dtype: float64\n"
          ]
        }
      ]
    },
    {
      "cell_type": "code",
      "source": [
        "import pandas as pd\n",
        "\n",
        "# Example: Using rolling statistics\n",
        "ts_data = pd.Series(np.random.randn(100), index=pd.date_range('today', periods=100))\n",
        "rolling_mean = ts_data.rolling(window=5).mean()\n",
        "print(\"Rolling Mean:\\n\", rolling_mean)\n"
      ],
      "metadata": {
        "colab": {
          "base_uri": "https://localhost:8080/"
        },
        "id": "167NID4acHpX",
        "outputId": "30bfa31b-bcbb-4c36-afa2-ed53c49cd4bd"
      },
      "execution_count": 24,
      "outputs": [
        {
          "output_type": "stream",
          "name": "stdout",
          "text": [
            "Rolling Mean:\n",
            " 2025-02-24 10:12:39.640814         NaN\n",
            "2025-02-25 10:12:39.640814         NaN\n",
            "2025-02-26 10:12:39.640814         NaN\n",
            "2025-02-27 10:12:39.640814         NaN\n",
            "2025-02-28 10:12:39.640814    0.616687\n",
            "                                ...   \n",
            "2025-05-30 10:12:39.640814    0.046027\n",
            "2025-05-31 10:12:39.640814   -0.376498\n",
            "2025-06-01 10:12:39.640814    0.121472\n",
            "2025-06-02 10:12:39.640814    0.548126\n",
            "2025-06-03 10:12:39.640814    0.421132\n",
            "Freq: D, Length: 100, dtype: float64\n"
          ]
        }
      ]
    },
    {
      "cell_type": "code",
      "source": [
        "# Example: Applying a window function\n",
        "window_sum = ts_data.rolling(window=5).sum()\n",
        "print(\"Window Sum:\\n\", window_sum)"
      ],
      "metadata": {
        "colab": {
          "base_uri": "https://localhost:8080/"
        },
        "id": "tSqBCd5-cTeZ",
        "outputId": "3ea69477-ba9c-4357-fcbf-cf7b63d3f44b"
      },
      "execution_count": 23,
      "outputs": [
        {
          "output_type": "stream",
          "name": "stdout",
          "text": [
            "Window Sum:\n",
            " 2025-02-24 10:12:01.393508         NaN\n",
            "2025-02-25 10:12:01.393508         NaN\n",
            "2025-02-26 10:12:01.393508         NaN\n",
            "2025-02-27 10:12:01.393508         NaN\n",
            "2025-02-28 10:12:01.393508   -0.599456\n",
            "                                ...   \n",
            "2025-05-30 10:12:01.393508    0.714439\n",
            "2025-05-31 10:12:01.393508    0.677134\n",
            "2025-06-01 10:12:01.393508    0.812148\n",
            "2025-06-02 10:12:01.393508    1.338606\n",
            "2025-06-03 10:12:01.393508    1.696987\n",
            "Freq: D, Length: 100, dtype: float64\n"
          ]
        }
      ]
    },
    {
      "cell_type": "code",
      "source": [
        "import numpy as np\n",
        "import pandas as pd\n",
        "import time\n",
        "\n",
        "# Creating a large DataFrame\n",
        "data = pd.DataFrame(np.random.rand(100, 4), columns=['A', 'B', 'C', 'D'])\n",
        "data.head()"
      ],
      "metadata": {
        "colab": {
          "base_uri": "https://localhost:8080/",
          "height": 206
        },
        "id": "jMcCeUUvccb1",
        "outputId": "f1de0999-ecf3-4995-d3e7-3e977a197354"
      },
      "execution_count": 29,
      "outputs": [
        {
          "output_type": "execute_result",
          "data": {
            "text/plain": [
              "          A         B         C         D\n",
              "0  0.581483  0.636794  0.245053  0.603200\n",
              "1  0.890597  0.403269  0.202630  0.685143\n",
              "2  0.808382  0.323620  0.014458  0.282885\n",
              "3  0.718913  0.319983  0.159959  0.935074\n",
              "4  0.610342  0.675170  0.323461  0.536785"
            ],
            "text/html": [
              "\n",
              "  <div id=\"df-919c54f4-34d1-40e4-9d18-6341ba7996fa\" class=\"colab-df-container\">\n",
              "    <div>\n",
              "<style scoped>\n",
              "    .dataframe tbody tr th:only-of-type {\n",
              "        vertical-align: middle;\n",
              "    }\n",
              "\n",
              "    .dataframe tbody tr th {\n",
              "        vertical-align: top;\n",
              "    }\n",
              "\n",
              "    .dataframe thead th {\n",
              "        text-align: right;\n",
              "    }\n",
              "</style>\n",
              "<table border=\"1\" class=\"dataframe\">\n",
              "  <thead>\n",
              "    <tr style=\"text-align: right;\">\n",
              "      <th></th>\n",
              "      <th>A</th>\n",
              "      <th>B</th>\n",
              "      <th>C</th>\n",
              "      <th>D</th>\n",
              "    </tr>\n",
              "  </thead>\n",
              "  <tbody>\n",
              "    <tr>\n",
              "      <th>0</th>\n",
              "      <td>0.581483</td>\n",
              "      <td>0.636794</td>\n",
              "      <td>0.245053</td>\n",
              "      <td>0.603200</td>\n",
              "    </tr>\n",
              "    <tr>\n",
              "      <th>1</th>\n",
              "      <td>0.890597</td>\n",
              "      <td>0.403269</td>\n",
              "      <td>0.202630</td>\n",
              "      <td>0.685143</td>\n",
              "    </tr>\n",
              "    <tr>\n",
              "      <th>2</th>\n",
              "      <td>0.808382</td>\n",
              "      <td>0.323620</td>\n",
              "      <td>0.014458</td>\n",
              "      <td>0.282885</td>\n",
              "    </tr>\n",
              "    <tr>\n",
              "      <th>3</th>\n",
              "      <td>0.718913</td>\n",
              "      <td>0.319983</td>\n",
              "      <td>0.159959</td>\n",
              "      <td>0.935074</td>\n",
              "    </tr>\n",
              "    <tr>\n",
              "      <th>4</th>\n",
              "      <td>0.610342</td>\n",
              "      <td>0.675170</td>\n",
              "      <td>0.323461</td>\n",
              "      <td>0.536785</td>\n",
              "    </tr>\n",
              "  </tbody>\n",
              "</table>\n",
              "</div>\n",
              "    <div class=\"colab-df-buttons\">\n",
              "\n",
              "  <div class=\"colab-df-container\">\n",
              "    <button class=\"colab-df-convert\" onclick=\"convertToInteractive('df-919c54f4-34d1-40e4-9d18-6341ba7996fa')\"\n",
              "            title=\"Convert this dataframe to an interactive table.\"\n",
              "            style=\"display:none;\">\n",
              "\n",
              "  <svg xmlns=\"http://www.w3.org/2000/svg\" height=\"24px\" viewBox=\"0 -960 960 960\">\n",
              "    <path d=\"M120-120v-720h720v720H120Zm60-500h600v-160H180v160Zm220 220h160v-160H400v160Zm0 220h160v-160H400v160ZM180-400h160v-160H180v160Zm440 0h160v-160H620v160ZM180-180h160v-160H180v160Zm440 0h160v-160H620v160Z\"/>\n",
              "  </svg>\n",
              "    </button>\n",
              "\n",
              "  <style>\n",
              "    .colab-df-container {\n",
              "      display:flex;\n",
              "      gap: 12px;\n",
              "    }\n",
              "\n",
              "    .colab-df-convert {\n",
              "      background-color: #E8F0FE;\n",
              "      border: none;\n",
              "      border-radius: 50%;\n",
              "      cursor: pointer;\n",
              "      display: none;\n",
              "      fill: #1967D2;\n",
              "      height: 32px;\n",
              "      padding: 0 0 0 0;\n",
              "      width: 32px;\n",
              "    }\n",
              "\n",
              "    .colab-df-convert:hover {\n",
              "      background-color: #E2EBFA;\n",
              "      box-shadow: 0px 1px 2px rgba(60, 64, 67, 0.3), 0px 1px 3px 1px rgba(60, 64, 67, 0.15);\n",
              "      fill: #174EA6;\n",
              "    }\n",
              "\n",
              "    .colab-df-buttons div {\n",
              "      margin-bottom: 4px;\n",
              "    }\n",
              "\n",
              "    [theme=dark] .colab-df-convert {\n",
              "      background-color: #3B4455;\n",
              "      fill: #D2E3FC;\n",
              "    }\n",
              "\n",
              "    [theme=dark] .colab-df-convert:hover {\n",
              "      background-color: #434B5C;\n",
              "      box-shadow: 0px 1px 3px 1px rgba(0, 0, 0, 0.15);\n",
              "      filter: drop-shadow(0px 1px 2px rgba(0, 0, 0, 0.3));\n",
              "      fill: #FFFFFF;\n",
              "    }\n",
              "  </style>\n",
              "\n",
              "    <script>\n",
              "      const buttonEl =\n",
              "        document.querySelector('#df-919c54f4-34d1-40e4-9d18-6341ba7996fa button.colab-df-convert');\n",
              "      buttonEl.style.display =\n",
              "        google.colab.kernel.accessAllowed ? 'block' : 'none';\n",
              "\n",
              "      async function convertToInteractive(key) {\n",
              "        const element = document.querySelector('#df-919c54f4-34d1-40e4-9d18-6341ba7996fa');\n",
              "        const dataTable =\n",
              "          await google.colab.kernel.invokeFunction('convertToInteractive',\n",
              "                                                    [key], {});\n",
              "        if (!dataTable) return;\n",
              "\n",
              "        const docLinkHtml = 'Like what you see? Visit the ' +\n",
              "          '<a target=\"_blank\" href=https://colab.research.google.com/notebooks/data_table.ipynb>data table notebook</a>'\n",
              "          + ' to learn more about interactive tables.';\n",
              "        element.innerHTML = '';\n",
              "        dataTable['output_type'] = 'display_data';\n",
              "        await google.colab.output.renderOutput(dataTable, element);\n",
              "        const docLink = document.createElement('div');\n",
              "        docLink.innerHTML = docLinkHtml;\n",
              "        element.appendChild(docLink);\n",
              "      }\n",
              "    </script>\n",
              "  </div>\n",
              "\n",
              "\n",
              "<div id=\"df-af609c18-c0c5-4f6e-983c-1481a4ddda30\">\n",
              "  <button class=\"colab-df-quickchart\" onclick=\"quickchart('df-af609c18-c0c5-4f6e-983c-1481a4ddda30')\"\n",
              "            title=\"Suggest charts\"\n",
              "            style=\"display:none;\">\n",
              "\n",
              "<svg xmlns=\"http://www.w3.org/2000/svg\" height=\"24px\"viewBox=\"0 0 24 24\"\n",
              "     width=\"24px\">\n",
              "    <g>\n",
              "        <path d=\"M19 3H5c-1.1 0-2 .9-2 2v14c0 1.1.9 2 2 2h14c1.1 0 2-.9 2-2V5c0-1.1-.9-2-2-2zM9 17H7v-7h2v7zm4 0h-2V7h2v10zm4 0h-2v-4h2v4z\"/>\n",
              "    </g>\n",
              "</svg>\n",
              "  </button>\n",
              "\n",
              "<style>\n",
              "  .colab-df-quickchart {\n",
              "      --bg-color: #E8F0FE;\n",
              "      --fill-color: #1967D2;\n",
              "      --hover-bg-color: #E2EBFA;\n",
              "      --hover-fill-color: #174EA6;\n",
              "      --disabled-fill-color: #AAA;\n",
              "      --disabled-bg-color: #DDD;\n",
              "  }\n",
              "\n",
              "  [theme=dark] .colab-df-quickchart {\n",
              "      --bg-color: #3B4455;\n",
              "      --fill-color: #D2E3FC;\n",
              "      --hover-bg-color: #434B5C;\n",
              "      --hover-fill-color: #FFFFFF;\n",
              "      --disabled-bg-color: #3B4455;\n",
              "      --disabled-fill-color: #666;\n",
              "  }\n",
              "\n",
              "  .colab-df-quickchart {\n",
              "    background-color: var(--bg-color);\n",
              "    border: none;\n",
              "    border-radius: 50%;\n",
              "    cursor: pointer;\n",
              "    display: none;\n",
              "    fill: var(--fill-color);\n",
              "    height: 32px;\n",
              "    padding: 0;\n",
              "    width: 32px;\n",
              "  }\n",
              "\n",
              "  .colab-df-quickchart:hover {\n",
              "    background-color: var(--hover-bg-color);\n",
              "    box-shadow: 0 1px 2px rgba(60, 64, 67, 0.3), 0 1px 3px 1px rgba(60, 64, 67, 0.15);\n",
              "    fill: var(--button-hover-fill-color);\n",
              "  }\n",
              "\n",
              "  .colab-df-quickchart-complete:disabled,\n",
              "  .colab-df-quickchart-complete:disabled:hover {\n",
              "    background-color: var(--disabled-bg-color);\n",
              "    fill: var(--disabled-fill-color);\n",
              "    box-shadow: none;\n",
              "  }\n",
              "\n",
              "  .colab-df-spinner {\n",
              "    border: 2px solid var(--fill-color);\n",
              "    border-color: transparent;\n",
              "    border-bottom-color: var(--fill-color);\n",
              "    animation:\n",
              "      spin 1s steps(1) infinite;\n",
              "  }\n",
              "\n",
              "  @keyframes spin {\n",
              "    0% {\n",
              "      border-color: transparent;\n",
              "      border-bottom-color: var(--fill-color);\n",
              "      border-left-color: var(--fill-color);\n",
              "    }\n",
              "    20% {\n",
              "      border-color: transparent;\n",
              "      border-left-color: var(--fill-color);\n",
              "      border-top-color: var(--fill-color);\n",
              "    }\n",
              "    30% {\n",
              "      border-color: transparent;\n",
              "      border-left-color: var(--fill-color);\n",
              "      border-top-color: var(--fill-color);\n",
              "      border-right-color: var(--fill-color);\n",
              "    }\n",
              "    40% {\n",
              "      border-color: transparent;\n",
              "      border-right-color: var(--fill-color);\n",
              "      border-top-color: var(--fill-color);\n",
              "    }\n",
              "    60% {\n",
              "      border-color: transparent;\n",
              "      border-right-color: var(--fill-color);\n",
              "    }\n",
              "    80% {\n",
              "      border-color: transparent;\n",
              "      border-right-color: var(--fill-color);\n",
              "      border-bottom-color: var(--fill-color);\n",
              "    }\n",
              "    90% {\n",
              "      border-color: transparent;\n",
              "      border-bottom-color: var(--fill-color);\n",
              "    }\n",
              "  }\n",
              "</style>\n",
              "\n",
              "  <script>\n",
              "    async function quickchart(key) {\n",
              "      const quickchartButtonEl =\n",
              "        document.querySelector('#' + key + ' button');\n",
              "      quickchartButtonEl.disabled = true;  // To prevent multiple clicks.\n",
              "      quickchartButtonEl.classList.add('colab-df-spinner');\n",
              "      try {\n",
              "        const charts = await google.colab.kernel.invokeFunction(\n",
              "            'suggestCharts', [key], {});\n",
              "      } catch (error) {\n",
              "        console.error('Error during call to suggestCharts:', error);\n",
              "      }\n",
              "      quickchartButtonEl.classList.remove('colab-df-spinner');\n",
              "      quickchartButtonEl.classList.add('colab-df-quickchart-complete');\n",
              "    }\n",
              "    (() => {\n",
              "      let quickchartButtonEl =\n",
              "        document.querySelector('#df-af609c18-c0c5-4f6e-983c-1481a4ddda30 button');\n",
              "      quickchartButtonEl.style.display =\n",
              "        google.colab.kernel.accessAllowed ? 'block' : 'none';\n",
              "    })();\n",
              "  </script>\n",
              "</div>\n",
              "\n",
              "    </div>\n",
              "  </div>\n"
            ],
            "application/vnd.google.colaboratory.intrinsic+json": {
              "type": "dataframe",
              "variable_name": "data",
              "summary": "{\n  \"name\": \"data\",\n  \"rows\": 100,\n  \"fields\": [\n    {\n      \"column\": \"A\",\n      \"properties\": {\n        \"dtype\": \"number\",\n        \"std\": 0.28551471365348685,\n        \"min\": 0.005603409972304685,\n        \"max\": 0.9880296505448127,\n        \"num_unique_values\": 100,\n        \"samples\": [\n          0.5860808089307555,\n          0.7212436597888472,\n          0.6477070861126091\n        ],\n        \"semantic_type\": \"\",\n        \"description\": \"\"\n      }\n    },\n    {\n      \"column\": \"B\",\n      \"properties\": {\n        \"dtype\": \"number\",\n        \"std\": 0.2841348213264838,\n        \"min\": 0.005685942059158178,\n        \"max\": 0.9943057765995812,\n        \"num_unique_values\": 100,\n        \"samples\": [\n          0.023826149273300068,\n          0.45350465790637495,\n          0.21807129203932285\n        ],\n        \"semantic_type\": \"\",\n        \"description\": \"\"\n      }\n    },\n    {\n      \"column\": \"C\",\n      \"properties\": {\n        \"dtype\": \"number\",\n        \"std\": 0.2805114298849447,\n        \"min\": 0.0028506894910853564,\n        \"max\": 0.9970931663866387,\n        \"num_unique_values\": 100,\n        \"samples\": [\n          0.8659255648736215,\n          0.18559260357291885,\n          0.16378638833065673\n        ],\n        \"semantic_type\": \"\",\n        \"description\": \"\"\n      }\n    },\n    {\n      \"column\": \"D\",\n      \"properties\": {\n        \"dtype\": \"number\",\n        \"std\": 0.2868841120617619,\n        \"min\": 0.003992502633150208,\n        \"max\": 0.9865019903672277,\n        \"num_unique_values\": 100,\n        \"samples\": [\n          0.7487152782825388,\n          0.480336126164262,\n          0.8697440161818247\n        ],\n        \"semantic_type\": \"\",\n        \"description\": \"\"\n      }\n    }\n  ]\n}"
            }
          },
          "metadata": {},
          "execution_count": 29
        }
      ]
    },
    {
      "cell_type": "code",
      "source": [
        "# Timing Pandas operations\n",
        "start_time = time.time()\n",
        "result_pandas = data[(data['A'] > 0.5) & (data['B'] < 0.5)].mean()\n",
        "end_time = time.time()\n",
        "print(\"Pandas Conditional Mean:\\n\", result_pandas)\n",
        "print(\"Pandas Operation Time: {:.5f} seconds\".format(end_time - start_time))"
      ],
      "metadata": {
        "colab": {
          "base_uri": "https://localhost:8080/"
        },
        "id": "ssmPg9wRg0B4",
        "outputId": "467c7766-d778-4efb-9456-e21274b76c19"
      },
      "execution_count": 27,
      "outputs": [
        {
          "output_type": "stream",
          "name": "stdout",
          "text": [
            "Pandas Conditional Mean:\n",
            " A    0.751239\n",
            "B    0.250764\n",
            "C    0.497169\n",
            "D    0.499124\n",
            "dtype: float64\n",
            "Pandas Operation Time: 0.00593 seconds\n"
          ]
        }
      ]
    },
    {
      "cell_type": "code",
      "source": [
        "import matplotlib.pyplot as plt\n",
        "\n",
        "# Plotting with NumPy arrays\n",
        "plt.scatter(data['A'], data['B'], alpha=0.5)\n",
        "plt.title(\"Custom Scatter Plot\")\n",
        "plt.xlabel(\"A\")\n",
        "plt.ylabel(\"B\")\n",
        "plt.show()"
      ],
      "metadata": {
        "colab": {
          "base_uri": "https://localhost:8080/",
          "height": 472
        },
        "id": "5MzI6ZL9hFKo",
        "outputId": "9e9df28e-209f-4897-d5ea-46b4951203e1"
      },
      "execution_count": 30,
      "outputs": [
        {
          "output_type": "display_data",
          "data": {
            "text/plain": [
              "<Figure size 640x480 with 1 Axes>"
            ],
            "image/png": "[encoded data removed]"
          },
          "metadata": {}
        }
      ]
    },
    {
      "cell_type": "code",
      "source": [],
      "metadata": {
        "id": "A6ecDwsOiKcb"
      },
      "execution_count": null,
      "outputs": []
    }
  ]
}